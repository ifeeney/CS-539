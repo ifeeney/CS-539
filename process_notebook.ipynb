{
  "cells": [
    {
      "cell_type": "markdown",
      "metadata": {
        "id": "yRy0upxNmQz9"
      },
      "source": [
        "# Abstract"
      ]
    },
    {
      "cell_type": "markdown",
      "source": [
        "I am aiming to find out if Covid-19 lockdown levels increased National Park visitation in these areas.\n",
        "Using CDC and National Park Visitor Data, I cleaned my data to account for missing data, mis-matched variable names, and formatting issues. I then created new features that aggregated max/min/average CDC stay-at-home orders by state. \n",
        "I performed linear regression, random forest regression, and k-nearest-neighbors on my dataset. From these models, I was able to determine the recreational visitors for a given park, year, and lockdown level with varying degrees of accuracy. \n",
        "Finally, I was able to conclude that the predictor varables: Covid Lockdown Level, Park Name, and Year are not sufficient to predict the amount of recreation visitors. There is not a strong enough correlation to create an accurate model, especially given the short timeframe of the CDC data. Moving forward, it is recommended to incoporate data that can be more granularly matched to the Park Data."
      ],
      "metadata": {
        "id": "c_MBSUozErgm"
      }
    },
    {
      "cell_type": "markdown",
      "source": [
        "# Overview and Motivation"
      ],
      "metadata": {
        "id": "FjKwhB6T5DAI"
      }
    },
    {
      "cell_type": "markdown",
      "source": [
        "The goals of my project are to determine Covid-19 lockdown levels increased National Park visitation in the areas with higher lockdowns levels. I am aiming to create a machine learning model that can accurately predict the visitation in a given park using relevant data. \n",
        "\n",
        "I think that this is an interesting question because I can see park usage being reduced due to these lockdowns or alternatively increased as people looked for more outdoor activities. "
      ],
      "metadata": {
        "id": "ac6WFhhv5W1M"
      }
    },
    {
      "cell_type": "markdown",
      "source": [
        "# Related Work"
      ],
      "metadata": {
        "id": "M1yOxe01W248"
      }
    },
    {
      "cell_type": "markdown",
      "source": [
        "I was inspired by a similar study (Alba et al., 2022) uses cellphone data to understand the relationship between national park visits and communities of color during the recent Covid-19 years. They were able to draw interesting conclusions that pinpointed the distance traveled to the national park as a major factor in a decrease in visiting. Finding correlations such as these could help alleviate inequality that has been exaggerated by the Covid-19 pandemic. "
      ],
      "metadata": {
        "id": "qHbSUe-SW479"
      }
    },
    {
      "cell_type": "markdown",
      "source": [
        "# Inital Questions"
      ],
      "metadata": {
        "id": "uMDLhfCatVo_"
      }
    },
    {
      "cell_type": "markdown",
      "source": [
        "A question I would like to approach with this dataset is to find out if Covid-19 lockdown levels increased National Park visitation in the given areas. Do states with higher lockdowns see more people in their parks?"
      ],
      "metadata": {
        "id": "c8hfoQppUJbz"
      }
    },
    {
      "cell_type": "markdown",
      "source": [
        "Formulating this as a research question, I can ask: \n",
        "\n",
        "*Using the NPS and CDC datasets, can we use a linear regression model to predict the visitation in a park with 70% accuracy knowing the date, the park and the state’s gathering ban status?*\n",
        "\n",
        "More particularly, I can define my variables to be:\n",
        "\n",
        "*Predictors: Year, Order_code, Park Name*\n",
        "\n",
        "*Response: RecreationVisitors*\n",
        "\n",
        "Given the correlation between Covid-19 and increased in park usage in America as a whole as seen in Google’s Community report,  I anticipate that park visitation will increase in regions with more mandatory gathering bans as people looked for more outdoor activities."
      ],
      "metadata": {
        "id": "aybyVYKmcscC"
      }
    },
    {
      "cell_type": "markdown",
      "source": [
        "# Data"
      ],
      "metadata": {
        "id": "CYfoIVR75Grv"
      }
    },
    {
      "cell_type": "markdown",
      "source": [
        "## Datasets"
      ],
      "metadata": {
        "id": "5pQqnkAAb1JC"
      }
    },
    {
      "cell_type": "markdown",
      "source": [
        "The dataset I have chosen to use is the National Park Service Annual Summary Report. This dataset includes recreation and non-recreation visitation hours as well as data for different types of overnight stays for each national park. This dataset will serve as my dependent variable and can be found [here](https://irma.nps.gov/STATS/SSRSReports/National%20Reports/Annual%20Summary%20Report%20(1904%20-%20Last%20Calendar%20Year). \n",
        "\n",
        "For my independent variable, I will look at data representative of Covid-19 lockdown levels. For this, I will use the [CDC dataset](https://data.cdc.gov/Policy-Surveillance/U-S-State-and-Territorial-Stay-At-Home-Orders-Marc/y2iy-8irm) that provides state and county level covid restriction measures by date. This dataset provides a categorical classification (NA, recommended, or mandatory) on whether a county had implemented a stay-at-home order or gathering ban. \n",
        "\n",
        "\n",
        "*Links:*\n",
        "\n",
        "https://irma.nps.gov/STATS/SSRSReports/National%20Reports/Annual%20Summary%20Report%20(1904%20-%20Last%20Calendar%20Year) \n",
        "\n",
        "https://data.cdc.gov/Policy-Surveillance/U-S-State-and-Territorial-Stay-At-Home-Orders-Marc/y2iy-8irm "
      ],
      "metadata": {
        "id": "Nli7kpqtcnyA"
      }
    },
    {
      "cell_type": "code",
      "source": [
        "import pandas as pd\n",
        "\n",
        "# Loading in National Park Data\n",
        "parkdata = pd.read_csv('parkdata.csv')\n",
        "parkdata.head()"
      ],
      "metadata": {
        "colab": {
          "base_uri": "https://localhost:8080/",
          "height": 560
        },
        "id": "2aRZ_pumdE6u",
        "outputId": "60610b6c-4cb3-46bf-b3f9-d5e138a52ac3"
      },
      "execution_count": 1,
      "outputs": [
        {
          "output_type": "execute_result",
          "data": {
            "text/plain": [
              "                         ParkName  Year RecreationVisitors  \\\n",
              "0  Abraham Lincoln Birthplace NHP  2010            177,122   \n",
              "1  Abraham Lincoln Birthplace NHP  2011            163,568   \n",
              "2  Abraham Lincoln Birthplace NHP  2012            169,515   \n",
              "3  Abraham Lincoln Birthplace NHP  2013            163,928   \n",
              "4  Abraham Lincoln Birthplace NHP  2014            241,264   \n",
              "\n",
              "  NonRecreationVisitors RecreationHours NonRecreationHours  \\\n",
              "0                     0         177,122                  0   \n",
              "1                     0         163,568                  0   \n",
              "2                     0         169,515                  0   \n",
              "3                     0         163,928                  0   \n",
              "4                     0         241,264                  0   \n",
              "\n",
              "  ConcessionerLodging ConcessionerCamping TentCampers RVCampers  ...  \\\n",
              "0                   0                   0           0         0  ...   \n",
              "1                   0                   0           0         0  ...   \n",
              "2                   0                   0           0         0  ...   \n",
              "3                   0                   0           0         0  ...   \n",
              "4                   0                   0           0         0  ...   \n",
              "\n",
              "  TotalNonRecreationVisitors TotalRecreationHours TotalNonRecreationHours  \\\n",
              "0              1,944,765,844       15,556,732,671           1,042,628,874   \n",
              "1              1,944,765,844       15,556,732,671           1,042,628,874   \n",
              "2              1,944,765,844       15,556,732,671           1,042,628,874   \n",
              "3              1,944,765,844       15,556,732,671           1,042,628,874   \n",
              "4              1,944,765,844       15,556,732,671           1,042,628,874   \n",
              "\n",
              "  TotalConcessionerLodging TotalConcessionerCamping TotalTentCampers  \\\n",
              "0               36,379,001               15,628,328       39,333,841   \n",
              "1               36,379,001               15,628,328       39,333,841   \n",
              "2               36,379,001               15,628,328       39,333,841   \n",
              "3               36,379,001               15,628,328       39,333,841   \n",
              "4               36,379,001               15,628,328       39,333,841   \n",
              "\n",
              "  TotalRVCampers TotalBackcountry TotalNonRecreationOvernightStays  \\\n",
              "0     26,702,724       22,415,772                        1,372,431   \n",
              "1     26,702,724       22,415,772                        1,372,431   \n",
              "2     26,702,724       22,415,772                        1,372,431   \n",
              "3     26,702,724       22,415,772                        1,372,431   \n",
              "4     26,702,724       22,415,772                        1,372,431   \n",
              "\n",
              "  TotalMiscellaneousOvernightStays  \n",
              "0                       22,376,784  \n",
              "1                       22,376,784  \n",
              "2                       22,376,784  \n",
              "3                       22,376,784  \n",
              "4                       22,376,784  \n",
              "\n",
              "[5 rows x 24 columns]"
            ],
            "text/html": [
              "\n",
              "  <div id=\"df-c9bf5188-adf3-4582-8018-e671641ad2ff\">\n",
              "    <div class=\"colab-df-container\">\n",
              "      <div>\n",
              "<style scoped>\n",
              "    .dataframe tbody tr th:only-of-type {\n",
              "        vertical-align: middle;\n",
              "    }\n",
              "\n",
              "    .dataframe tbody tr th {\n",
              "        vertical-align: top;\n",
              "    }\n",
              "\n",
              "    .dataframe thead th {\n",
              "        text-align: right;\n",
              "    }\n",
              "</style>\n",
              "<table border=\"1\" class=\"dataframe\">\n",
              "  <thead>\n",
              "    <tr style=\"text-align: right;\">\n",
              "      <th></th>\n",
              "      <th>ParkName</th>\n",
              "      <th>Year</th>\n",
              "      <th>RecreationVisitors</th>\n",
              "      <th>NonRecreationVisitors</th>\n",
              "      <th>RecreationHours</th>\n",
              "      <th>NonRecreationHours</th>\n",
              "      <th>ConcessionerLodging</th>\n",
              "      <th>ConcessionerCamping</th>\n",
              "      <th>TentCampers</th>\n",
              "      <th>RVCampers</th>\n",
              "      <th>...</th>\n",
              "      <th>TotalNonRecreationVisitors</th>\n",
              "      <th>TotalRecreationHours</th>\n",
              "      <th>TotalNonRecreationHours</th>\n",
              "      <th>TotalConcessionerLodging</th>\n",
              "      <th>TotalConcessionerCamping</th>\n",
              "      <th>TotalTentCampers</th>\n",
              "      <th>TotalRVCampers</th>\n",
              "      <th>TotalBackcountry</th>\n",
              "      <th>TotalNonRecreationOvernightStays</th>\n",
              "      <th>TotalMiscellaneousOvernightStays</th>\n",
              "    </tr>\n",
              "  </thead>\n",
              "  <tbody>\n",
              "    <tr>\n",
              "      <th>0</th>\n",
              "      <td>Abraham Lincoln Birthplace NHP</td>\n",
              "      <td>2010</td>\n",
              "      <td>177,122</td>\n",
              "      <td>0</td>\n",
              "      <td>177,122</td>\n",
              "      <td>0</td>\n",
              "      <td>0</td>\n",
              "      <td>0</td>\n",
              "      <td>0</td>\n",
              "      <td>0</td>\n",
              "      <td>...</td>\n",
              "      <td>1,944,765,844</td>\n",
              "      <td>15,556,732,671</td>\n",
              "      <td>1,042,628,874</td>\n",
              "      <td>36,379,001</td>\n",
              "      <td>15,628,328</td>\n",
              "      <td>39,333,841</td>\n",
              "      <td>26,702,724</td>\n",
              "      <td>22,415,772</td>\n",
              "      <td>1,372,431</td>\n",
              "      <td>22,376,784</td>\n",
              "    </tr>\n",
              "    <tr>\n",
              "      <th>1</th>\n",
              "      <td>Abraham Lincoln Birthplace NHP</td>\n",
              "      <td>2011</td>\n",
              "      <td>163,568</td>\n",
              "      <td>0</td>\n",
              "      <td>163,568</td>\n",
              "      <td>0</td>\n",
              "      <td>0</td>\n",
              "      <td>0</td>\n",
              "      <td>0</td>\n",
              "      <td>0</td>\n",
              "      <td>...</td>\n",
              "      <td>1,944,765,844</td>\n",
              "      <td>15,556,732,671</td>\n",
              "      <td>1,042,628,874</td>\n",
              "      <td>36,379,001</td>\n",
              "      <td>15,628,328</td>\n",
              "      <td>39,333,841</td>\n",
              "      <td>26,702,724</td>\n",
              "      <td>22,415,772</td>\n",
              "      <td>1,372,431</td>\n",
              "      <td>22,376,784</td>\n",
              "    </tr>\n",
              "    <tr>\n",
              "      <th>2</th>\n",
              "      <td>Abraham Lincoln Birthplace NHP</td>\n",
              "      <td>2012</td>\n",
              "      <td>169,515</td>\n",
              "      <td>0</td>\n",
              "      <td>169,515</td>\n",
              "      <td>0</td>\n",
              "      <td>0</td>\n",
              "      <td>0</td>\n",
              "      <td>0</td>\n",
              "      <td>0</td>\n",
              "      <td>...</td>\n",
              "      <td>1,944,765,844</td>\n",
              "      <td>15,556,732,671</td>\n",
              "      <td>1,042,628,874</td>\n",
              "      <td>36,379,001</td>\n",
              "      <td>15,628,328</td>\n",
              "      <td>39,333,841</td>\n",
              "      <td>26,702,724</td>\n",
              "      <td>22,415,772</td>\n",
              "      <td>1,372,431</td>\n",
              "      <td>22,376,784</td>\n",
              "    </tr>\n",
              "    <tr>\n",
              "      <th>3</th>\n",
              "      <td>Abraham Lincoln Birthplace NHP</td>\n",
              "      <td>2013</td>\n",
              "      <td>163,928</td>\n",
              "      <td>0</td>\n",
              "      <td>163,928</td>\n",
              "      <td>0</td>\n",
              "      <td>0</td>\n",
              "      <td>0</td>\n",
              "      <td>0</td>\n",
              "      <td>0</td>\n",
              "      <td>...</td>\n",
              "      <td>1,944,765,844</td>\n",
              "      <td>15,556,732,671</td>\n",
              "      <td>1,042,628,874</td>\n",
              "      <td>36,379,001</td>\n",
              "      <td>15,628,328</td>\n",
              "      <td>39,333,841</td>\n",
              "      <td>26,702,724</td>\n",
              "      <td>22,415,772</td>\n",
              "      <td>1,372,431</td>\n",
              "      <td>22,376,784</td>\n",
              "    </tr>\n",
              "    <tr>\n",
              "      <th>4</th>\n",
              "      <td>Abraham Lincoln Birthplace NHP</td>\n",
              "      <td>2014</td>\n",
              "      <td>241,264</td>\n",
              "      <td>0</td>\n",
              "      <td>241,264</td>\n",
              "      <td>0</td>\n",
              "      <td>0</td>\n",
              "      <td>0</td>\n",
              "      <td>0</td>\n",
              "      <td>0</td>\n",
              "      <td>...</td>\n",
              "      <td>1,944,765,844</td>\n",
              "      <td>15,556,732,671</td>\n",
              "      <td>1,042,628,874</td>\n",
              "      <td>36,379,001</td>\n",
              "      <td>15,628,328</td>\n",
              "      <td>39,333,841</td>\n",
              "      <td>26,702,724</td>\n",
              "      <td>22,415,772</td>\n",
              "      <td>1,372,431</td>\n",
              "      <td>22,376,784</td>\n",
              "    </tr>\n",
              "  </tbody>\n",
              "</table>\n",
              "<p>5 rows × 24 columns</p>\n",
              "</div>\n",
              "      <button class=\"colab-df-convert\" onclick=\"convertToInteractive('df-c9bf5188-adf3-4582-8018-e671641ad2ff')\"\n",
              "              title=\"Convert this dataframe to an interactive table.\"\n",
              "              style=\"display:none;\">\n",
              "        \n",
              "  <svg xmlns=\"http://www.w3.org/2000/svg\" height=\"24px\"viewBox=\"0 0 24 24\"\n",
              "       width=\"24px\">\n",
              "    <path d=\"M0 0h24v24H0V0z\" fill=\"none\"/>\n",
              "    <path d=\"M18.56 5.44l.94 2.06.94-2.06 2.06-.94-2.06-.94-.94-2.06-.94 2.06-2.06.94zm-11 1L8.5 8.5l.94-2.06 2.06-.94-2.06-.94L8.5 2.5l-.94 2.06-2.06.94zm10 10l.94 2.06.94-2.06 2.06-.94-2.06-.94-.94-2.06-.94 2.06-2.06.94z\"/><path d=\"M17.41 7.96l-1.37-1.37c-.4-.4-.92-.59-1.43-.59-.52 0-1.04.2-1.43.59L10.3 9.45l-7.72 7.72c-.78.78-.78 2.05 0 2.83L4 21.41c.39.39.9.59 1.41.59.51 0 1.02-.2 1.41-.59l7.78-7.78 2.81-2.81c.8-.78.8-2.07 0-2.86zM5.41 20L4 18.59l7.72-7.72 1.47 1.35L5.41 20z\"/>\n",
              "  </svg>\n",
              "      </button>\n",
              "      \n",
              "  <style>\n",
              "    .colab-df-container {\n",
              "      display:flex;\n",
              "      flex-wrap:wrap;\n",
              "      gap: 12px;\n",
              "    }\n",
              "\n",
              "    .colab-df-convert {\n",
              "      background-color: #E8F0FE;\n",
              "      border: none;\n",
              "      border-radius: 50%;\n",
              "      cursor: pointer;\n",
              "      display: none;\n",
              "      fill: #1967D2;\n",
              "      height: 32px;\n",
              "      padding: 0 0 0 0;\n",
              "      width: 32px;\n",
              "    }\n",
              "\n",
              "    .colab-df-convert:hover {\n",
              "      background-color: #E2EBFA;\n",
              "      box-shadow: 0px 1px 2px rgba(60, 64, 67, 0.3), 0px 1px 3px 1px rgba(60, 64, 67, 0.15);\n",
              "      fill: #174EA6;\n",
              "    }\n",
              "\n",
              "    [theme=dark] .colab-df-convert {\n",
              "      background-color: #3B4455;\n",
              "      fill: #D2E3FC;\n",
              "    }\n",
              "\n",
              "    [theme=dark] .colab-df-convert:hover {\n",
              "      background-color: #434B5C;\n",
              "      box-shadow: 0px 1px 3px 1px rgba(0, 0, 0, 0.15);\n",
              "      filter: drop-shadow(0px 1px 2px rgba(0, 0, 0, 0.3));\n",
              "      fill: #FFFFFF;\n",
              "    }\n",
              "  </style>\n",
              "\n",
              "      <script>\n",
              "        const buttonEl =\n",
              "          document.querySelector('#df-c9bf5188-adf3-4582-8018-e671641ad2ff button.colab-df-convert');\n",
              "        buttonEl.style.display =\n",
              "          google.colab.kernel.accessAllowed ? 'block' : 'none';\n",
              "\n",
              "        async function convertToInteractive(key) {\n",
              "          const element = document.querySelector('#df-c9bf5188-adf3-4582-8018-e671641ad2ff');\n",
              "          const dataTable =\n",
              "            await google.colab.kernel.invokeFunction('convertToInteractive',\n",
              "                                                     [key], {});\n",
              "          if (!dataTable) return;\n",
              "\n",
              "          const docLinkHtml = 'Like what you see? Visit the ' +\n",
              "            '<a target=\"_blank\" href=https://colab.research.google.com/notebooks/data_table.ipynb>data table notebook</a>'\n",
              "            + ' to learn more about interactive tables.';\n",
              "          element.innerHTML = '';\n",
              "          dataTable['output_type'] = 'display_data';\n",
              "          await google.colab.output.renderOutput(dataTable, element);\n",
              "          const docLink = document.createElement('div');\n",
              "          docLink.innerHTML = docLinkHtml;\n",
              "          element.appendChild(docLink);\n",
              "        }\n",
              "      </script>\n",
              "    </div>\n",
              "  </div>\n",
              "  "
            ]
          },
          "metadata": {},
          "execution_count": 1
        }
      ]
    },
    {
      "cell_type": "code",
      "source": [
        "# Loading in CDC Data\n",
        "cdcdata = pd.read_csv('CDC.csv')\n",
        "cdcdata.head()"
      ],
      "metadata": {
        "colab": {
          "base_uri": "https://localhost:8080/",
          "height": 393
        },
        "id": "FACz0fPSsZYT",
        "outputId": "1972f9da-d675-4021-9883-6bb95b515b05"
      },
      "execution_count": 2,
      "outputs": [
        {
          "output_type": "stream",
          "name": "stderr",
          "text": [
            "/usr/local/lib/python3.8/dist-packages/IPython/core/interactiveshell.py:3326: DtypeWarning: Columns (9) have mixed types.Specify dtype option on import or set low_memory=False.\n",
            "  exec(code_obj, self.user_global_ns, self.user_ns)\n"
          ]
        },
        {
          "output_type": "execute_result",
          "data": {
            "text/plain": [
              "  State_Tribe_Territory     County_Name  FIPS_State  FIPS_County       date  \\\n",
              "0                    AL  Autauga County           1            1  3/15/2020   \n",
              "1                    AL  Autauga County           1            1  3/16/2020   \n",
              "2                    AL  Autauga County           1            1  3/17/2020   \n",
              "3                    AL  Autauga County           1            1  3/18/2020   \n",
              "4                    AL  Autauga County           1            1  3/19/2020   \n",
              "\n",
              "   Order_code Stay_at_Home_Order_Recommendation Express_Preemption  \\\n",
              "0           7                               NaN                NaN   \n",
              "1           7                               NaN                NaN   \n",
              "2           7                               NaN                NaN   \n",
              "3           7                               NaN                NaN   \n",
              "4           7                               NaN                NaN   \n",
              "\n",
              "  Source_of_Action  URL Citation  \n",
              "0              NaN  NaN      NaN  \n",
              "1              NaN  NaN      NaN  \n",
              "2              NaN  NaN      NaN  \n",
              "3              NaN  NaN      NaN  \n",
              "4              NaN  NaN      NaN  "
            ],
            "text/html": [
              "\n",
              "  <div id=\"df-212983a5-514f-49e8-8932-d15a36e2ee3b\">\n",
              "    <div class=\"colab-df-container\">\n",
              "      <div>\n",
              "<style scoped>\n",
              "    .dataframe tbody tr th:only-of-type {\n",
              "        vertical-align: middle;\n",
              "    }\n",
              "\n",
              "    .dataframe tbody tr th {\n",
              "        vertical-align: top;\n",
              "    }\n",
              "\n",
              "    .dataframe thead th {\n",
              "        text-align: right;\n",
              "    }\n",
              "</style>\n",
              "<table border=\"1\" class=\"dataframe\">\n",
              "  <thead>\n",
              "    <tr style=\"text-align: right;\">\n",
              "      <th></th>\n",
              "      <th>State_Tribe_Territory</th>\n",
              "      <th>County_Name</th>\n",
              "      <th>FIPS_State</th>\n",
              "      <th>FIPS_County</th>\n",
              "      <th>date</th>\n",
              "      <th>Order_code</th>\n",
              "      <th>Stay_at_Home_Order_Recommendation</th>\n",
              "      <th>Express_Preemption</th>\n",
              "      <th>Source_of_Action</th>\n",
              "      <th>URL</th>\n",
              "      <th>Citation</th>\n",
              "    </tr>\n",
              "  </thead>\n",
              "  <tbody>\n",
              "    <tr>\n",
              "      <th>0</th>\n",
              "      <td>AL</td>\n",
              "      <td>Autauga County</td>\n",
              "      <td>1</td>\n",
              "      <td>1</td>\n",
              "      <td>3/15/2020</td>\n",
              "      <td>7</td>\n",
              "      <td>NaN</td>\n",
              "      <td>NaN</td>\n",
              "      <td>NaN</td>\n",
              "      <td>NaN</td>\n",
              "      <td>NaN</td>\n",
              "    </tr>\n",
              "    <tr>\n",
              "      <th>1</th>\n",
              "      <td>AL</td>\n",
              "      <td>Autauga County</td>\n",
              "      <td>1</td>\n",
              "      <td>1</td>\n",
              "      <td>3/16/2020</td>\n",
              "      <td>7</td>\n",
              "      <td>NaN</td>\n",
              "      <td>NaN</td>\n",
              "      <td>NaN</td>\n",
              "      <td>NaN</td>\n",
              "      <td>NaN</td>\n",
              "    </tr>\n",
              "    <tr>\n",
              "      <th>2</th>\n",
              "      <td>AL</td>\n",
              "      <td>Autauga County</td>\n",
              "      <td>1</td>\n",
              "      <td>1</td>\n",
              "      <td>3/17/2020</td>\n",
              "      <td>7</td>\n",
              "      <td>NaN</td>\n",
              "      <td>NaN</td>\n",
              "      <td>NaN</td>\n",
              "      <td>NaN</td>\n",
              "      <td>NaN</td>\n",
              "    </tr>\n",
              "    <tr>\n",
              "      <th>3</th>\n",
              "      <td>AL</td>\n",
              "      <td>Autauga County</td>\n",
              "      <td>1</td>\n",
              "      <td>1</td>\n",
              "      <td>3/18/2020</td>\n",
              "      <td>7</td>\n",
              "      <td>NaN</td>\n",
              "      <td>NaN</td>\n",
              "      <td>NaN</td>\n",
              "      <td>NaN</td>\n",
              "      <td>NaN</td>\n",
              "    </tr>\n",
              "    <tr>\n",
              "      <th>4</th>\n",
              "      <td>AL</td>\n",
              "      <td>Autauga County</td>\n",
              "      <td>1</td>\n",
              "      <td>1</td>\n",
              "      <td>3/19/2020</td>\n",
              "      <td>7</td>\n",
              "      <td>NaN</td>\n",
              "      <td>NaN</td>\n",
              "      <td>NaN</td>\n",
              "      <td>NaN</td>\n",
              "      <td>NaN</td>\n",
              "    </tr>\n",
              "  </tbody>\n",
              "</table>\n",
              "</div>\n",
              "      <button class=\"colab-df-convert\" onclick=\"convertToInteractive('df-212983a5-514f-49e8-8932-d15a36e2ee3b')\"\n",
              "              title=\"Convert this dataframe to an interactive table.\"\n",
              "              style=\"display:none;\">\n",
              "        \n",
              "  <svg xmlns=\"http://www.w3.org/2000/svg\" height=\"24px\"viewBox=\"0 0 24 24\"\n",
              "       width=\"24px\">\n",
              "    <path d=\"M0 0h24v24H0V0z\" fill=\"none\"/>\n",
              "    <path d=\"M18.56 5.44l.94 2.06.94-2.06 2.06-.94-2.06-.94-.94-2.06-.94 2.06-2.06.94zm-11 1L8.5 8.5l.94-2.06 2.06-.94-2.06-.94L8.5 2.5l-.94 2.06-2.06.94zm10 10l.94 2.06.94-2.06 2.06-.94-2.06-.94-.94-2.06-.94 2.06-2.06.94z\"/><path d=\"M17.41 7.96l-1.37-1.37c-.4-.4-.92-.59-1.43-.59-.52 0-1.04.2-1.43.59L10.3 9.45l-7.72 7.72c-.78.78-.78 2.05 0 2.83L4 21.41c.39.39.9.59 1.41.59.51 0 1.02-.2 1.41-.59l7.78-7.78 2.81-2.81c.8-.78.8-2.07 0-2.86zM5.41 20L4 18.59l7.72-7.72 1.47 1.35L5.41 20z\"/>\n",
              "  </svg>\n",
              "      </button>\n",
              "      \n",
              "  <style>\n",
              "    .colab-df-container {\n",
              "      display:flex;\n",
              "      flex-wrap:wrap;\n",
              "      gap: 12px;\n",
              "    }\n",
              "\n",
              "    .colab-df-convert {\n",
              "      background-color: #E8F0FE;\n",
              "      border: none;\n",
              "      border-radius: 50%;\n",
              "      cursor: pointer;\n",
              "      display: none;\n",
              "      fill: #1967D2;\n",
              "      height: 32px;\n",
              "      padding: 0 0 0 0;\n",
              "      width: 32px;\n",
              "    }\n",
              "\n",
              "    .colab-df-convert:hover {\n",
              "      background-color: #E2EBFA;\n",
              "      box-shadow: 0px 1px 2px rgba(60, 64, 67, 0.3), 0px 1px 3px 1px rgba(60, 64, 67, 0.15);\n",
              "      fill: #174EA6;\n",
              "    }\n",
              "\n",
              "    [theme=dark] .colab-df-convert {\n",
              "      background-color: #3B4455;\n",
              "      fill: #D2E3FC;\n",
              "    }\n",
              "\n",
              "    [theme=dark] .colab-df-convert:hover {\n",
              "      background-color: #434B5C;\n",
              "      box-shadow: 0px 1px 3px 1px rgba(0, 0, 0, 0.15);\n",
              "      filter: drop-shadow(0px 1px 2px rgba(0, 0, 0, 0.3));\n",
              "      fill: #FFFFFF;\n",
              "    }\n",
              "  </style>\n",
              "\n",
              "      <script>\n",
              "        const buttonEl =\n",
              "          document.querySelector('#df-212983a5-514f-49e8-8932-d15a36e2ee3b button.colab-df-convert');\n",
              "        buttonEl.style.display =\n",
              "          google.colab.kernel.accessAllowed ? 'block' : 'none';\n",
              "\n",
              "        async function convertToInteractive(key) {\n",
              "          const element = document.querySelector('#df-212983a5-514f-49e8-8932-d15a36e2ee3b');\n",
              "          const dataTable =\n",
              "            await google.colab.kernel.invokeFunction('convertToInteractive',\n",
              "                                                     [key], {});\n",
              "          if (!dataTable) return;\n",
              "\n",
              "          const docLinkHtml = 'Like what you see? Visit the ' +\n",
              "            '<a target=\"_blank\" href=https://colab.research.google.com/notebooks/data_table.ipynb>data table notebook</a>'\n",
              "            + ' to learn more about interactive tables.';\n",
              "          element.innerHTML = '';\n",
              "          dataTable['output_type'] = 'display_data';\n",
              "          await google.colab.output.renderOutput(dataTable, element);\n",
              "          const docLink = document.createElement('div');\n",
              "          docLink.innerHTML = docLinkHtml;\n",
              "          element.appendChild(docLink);\n",
              "        }\n",
              "      </script>\n",
              "    </div>\n",
              "  </div>\n",
              "  "
            ]
          },
          "metadata": {},
          "execution_count": 2
        }
      ]
    },
    {
      "cell_type": "markdown",
      "source": [
        "## Data Cleaning"
      ],
      "metadata": {
        "id": "SuvLrYFwcK9f"
      }
    },
    {
      "cell_type": "markdown",
      "source": [
        "Looking at the NPS data, I see that the Total Visitor statistics have been added as their own columns. I do not plan on using that data, so to make the df more managable, I will remove those columns. \n",
        "\n",
        "I have also decided to focus on predicting the total recreation visitors, so I just kept that column."
      ],
      "metadata": {
        "id": "CearDLds5bD9"
      }
    },
    {
      "cell_type": "code",
      "source": [
        "#totalParkCols = [\"TotalRecreationVisitors\",\"TotalNonRecreationVisitors\",\"TotalRecreationHours\",\"TotalNonRecreationHours\",\"TotalConcessionerLodging\",\"TotalConcessionerCamping\",\"TotalTentCampers\",\"TotalRVCampers\",\"TotalBackcountry\",\"TotalNonRecreationOvernightStays\",\"TotalMiscellaneousOvernightStays\"]\n",
        "#parkdata.drop(columns=totalParkCols, inplace=True)\n",
        "\n",
        "# Just keep first thre cols\n",
        "parkdata = parkdata[['ParkName', 'Year', \"RecreationVisitors\"]]"
      ],
      "metadata": {
        "id": "Ncsh2IOW5r6k"
      },
      "execution_count": 3,
      "outputs": []
    },
    {
      "cell_type": "markdown",
      "source": [
        "Next I looked at the data types of each column. Unfortunately, it seems most columns are object types which will need to be converted to numbers.\n"
      ],
      "metadata": {
        "id": "w9oYsmUpaH8A"
      }
    },
    {
      "cell_type": "code",
      "source": [
        "parkdata.info()"
      ],
      "metadata": {
        "colab": {
          "base_uri": "https://localhost:8080/"
        },
        "id": "83LowBY5aNCk",
        "outputId": "f42a8d53-e220-4e02-f961-9186ec94e6d8"
      },
      "execution_count": 4,
      "outputs": [
        {
          "output_type": "stream",
          "name": "stdout",
          "text": [
            "<class 'pandas.core.frame.DataFrame'>\n",
            "RangeIndex: 4493 entries, 0 to 4492\n",
            "Data columns (total 3 columns):\n",
            " #   Column              Non-Null Count  Dtype \n",
            "---  ------              --------------  ----- \n",
            " 0   ParkName            4493 non-null   object\n",
            " 1   Year                4493 non-null   int64 \n",
            " 2   RecreationVisitors  4493 non-null   object\n",
            "dtypes: int64(1), object(2)\n",
            "memory usage: 105.4+ KB\n"
          ]
        }
      ]
    },
    {
      "cell_type": "markdown",
      "source": [
        "I made a simple function to convert an Object type into a number. For now, I will just convert Recreation Visitors, which is my primary metric."
      ],
      "metadata": {
        "id": "fivc_IFPa7pt"
      }
    },
    {
      "cell_type": "code",
      "source": [
        "# toNum converts a column with a numerical object to a float, getting rid of any commas\n",
        "def toNum(df, colname):\n",
        "  # Convert Object to string\n",
        "  df[colname] = df[colname].astype(str)\n",
        "  # Remove any commas\n",
        "  df[colname] = df[colname].str.replace(',', '')\n",
        "  # Convert to float, with any errors (the nan columns, now strings) converted to NaN\n",
        "  df[colname] = pd.to_numeric(df[colname], errors='coerce')\n",
        "  return \n",
        "\n",
        "toNum(parkdata, 'RecreationVisitors')"
      ],
      "metadata": {
        "id": "kuUMMVX8a6ot"
      },
      "execution_count": 5,
      "outputs": []
    },
    {
      "cell_type": "markdown",
      "source": [
        "Next, I looked at the CDC data. This data is more complex, but I will primarily be looking at the State, date, and stay-at-home data. "
      ],
      "metadata": {
        "id": "WQANfCD08JTL"
      }
    },
    {
      "cell_type": "code",
      "source": [
        "cdcdata.info()"
      ],
      "metadata": {
        "colab": {
          "base_uri": "https://localhost:8080/"
        },
        "id": "75EhBhVN7m-i",
        "outputId": "1d5e5e92-6ae4-443c-c24f-ede952dbed95"
      },
      "execution_count": 7,
      "outputs": [
        {
          "output_type": "stream",
          "name": "stdout",
          "text": [
            "<class 'pandas.core.frame.DataFrame'>\n",
            "RangeIndex: 1677927 entries, 0 to 1677926\n",
            "Data columns (total 11 columns):\n",
            " #   Column                             Non-Null Count    Dtype \n",
            "---  ------                             --------------    ----- \n",
            " 0   State_Tribe_Territory              1677927 non-null  object\n",
            " 1   County_Name                        1677927 non-null  object\n",
            " 2   FIPS_State                         1677927 non-null  int64 \n",
            " 3   FIPS_County                        1677927 non-null  int64 \n",
            " 4   date                               1677927 non-null  object\n",
            " 5   Order_code                         1677927 non-null  int64 \n",
            " 6   Stay_at_Home_Order_Recommendation  1461933 non-null  object\n",
            " 7   Express_Preemption                 1448788 non-null  object\n",
            " 8   Source_of_Action                   1461223 non-null  object\n",
            " 9   URL                                721717 non-null   object\n",
            " 10  Citation                           1461933 non-null  object\n",
            "dtypes: int64(3), object(8)\n",
            "memory usage: 140.8+ MB\n"
          ]
        }
      ]
    },
    {
      "cell_type": "markdown",
      "source": [
        "One thing I see immediately that I would like to correct is converting the date to the datetime data type "
      ],
      "metadata": {
        "id": "u_lAQCRdpgSG"
      }
    },
    {
      "cell_type": "code",
      "source": [
        "cdcdata['date'] = pd.to_datetime(cdcdata['date'])"
      ],
      "metadata": {
        "id": "m2Ms7H2ppLt1"
      },
      "execution_count": 8,
      "outputs": []
    },
    {
      "cell_type": "markdown",
      "source": [
        "The core of my usage of this data will come from the Stay_at_home_Order_Recommendation column, which contains the \"Lockdown status.\" I see this is an object type with the following values:"
      ],
      "metadata": {
        "id": "RiiTznYun_9f"
      }
    },
    {
      "cell_type": "code",
      "source": [
        "cdcdata[\"Stay_at_Home_Order_Recommendation\"].value_counts()"
      ],
      "metadata": {
        "colab": {
          "base_uri": "https://localhost:8080/"
        },
        "id": "qWxSAN_d7yne",
        "outputId": "044eae00-7929-478f-ebf3-0fa6d55b86aa"
      },
      "execution_count": 9,
      "outputs": [
        {
          "output_type": "execute_result",
          "data": {
            "text/plain": [
              "Advisory/Recommendation                                                        643866\n",
              "No order for individuals to stay home                                          623940\n",
              "Mandatory for all individuals                                                   95982\n",
              "Mandatory only for at-risk individuals in the jurisdiction                      93030\n",
              "Mandatory only for all individuals in certain areas of the jurisdiction          5085\n",
              "Mandatory only for at-risk individuals in certain areas of the jurisdiction        30\n",
              "Name: Stay_at_Home_Order_Recommendation, dtype: int64"
            ]
          },
          "metadata": {},
          "execution_count": 9
        }
      ]
    },
    {
      "cell_type": "markdown",
      "source": [
        "These values would be more useful in enumerated. I checked Order_code column which seemed to have some relationship to these lockdown levels"
      ],
      "metadata": {
        "id": "6pXeVkhGoUl4"
      }
    },
    {
      "cell_type": "code",
      "source": [
        "cdcdata[\"Order_code\"].value_counts()"
      ],
      "metadata": {
        "colab": {
          "base_uri": "https://localhost:8080/"
        },
        "id": "qdXInkTb8ORN",
        "outputId": "832cd856-e3f8-4b28-ece2-0d027104613a"
      },
      "execution_count": 10,
      "outputs": [
        {
          "output_type": "execute_result",
          "data": {
            "text/plain": [
              "7    839934\n",
              "6    643866\n",
              "1     95982\n",
              "3     93030\n",
              "2      5085\n",
              "5        30\n",
              "Name: Order_code, dtype: int64"
            ]
          },
          "metadata": {},
          "execution_count": 10
        }
      ]
    },
    {
      "cell_type": "markdown",
      "source": [
        "Looking at the value counts we can see the following order codes are equivalent to the following recommendations:\n",
        "\n",
        "1) Mandatory for all individuals\n",
        "\n",
        "2) Mandatory only for all individuals in certain areas of the jurisdiction\n",
        "\n",
        "3) Mandatory only for at-risk individuals in the jurisdiction  \n",
        "\n",
        "5) Mandatory only for at-risk individuals in certain areas of the jurisdiction        \n",
        "\n",
        "6) Advisory/Recommendation\n",
        "\n",
        "7) No order for individuals to stay home\n",
        "\n",
        "There are more counts for order code (7) than the corresponding recommendation which can be attributed to the fact that a (7) can also correspond to a NA in the recommendation column\n"
      ],
      "metadata": {
        "id": "MMPf6Rn6m9Sy"
      }
    },
    {
      "cell_type": "markdown",
      "source": [
        "Looking at both datasets together, one glaring issue is that my national park data is not labelled by state, while the CDC data is. Luckily, the NPS has another dataset which includes park states. I can use this to append a state column to *parkdata*\n",
        "\n",
        "This dataset can be found here:"
      ],
      "metadata": {
        "id": "T4fuMsAEs2sO"
      }
    },
    {
      "cell_type": "code",
      "execution_count": 11,
      "metadata": {
        "id": "KHx7cu37bP1c",
        "colab": {
          "base_uri": "https://localhost:8080/",
          "height": 438
        },
        "outputId": "136c317e-350f-432d-cb65-7ba8340c3954"
      },
      "outputs": [
        {
          "output_type": "execute_result",
          "data": {
            "text/plain": [
              "     State                     Field1   Field2 Textbox22   Field4 Textbox24  \\\n",
              "0  Alabama         Horseshoe Bend NMP   58,285   103.79%   14,522    65.25%   \n",
              "1  Alabama  Little River Canyon NPRES  862,606     7.51%  184,841     9.49%   \n",
              "2  Alabama         Natchez Trace PKWY  448,094     4.52%  150,445     4.90%   \n",
              "3  Alabama            Russell Cave NM   22,393   164.63%    1,930    79.70%   \n",
              "4  Alabama        Tuskegee Airmen NHS    8,057    17.74%    1,007    17.78%   \n",
              "\n",
              "  TotalNonRecreationVisits Textbox98 TotalRecreationVisitorHours Textbox103  \\\n",
              "0                        0       NaN                     174,275     65.25%   \n",
              "1                        0       NaN                   2,218,097      9.49%   \n",
              "2                  612,525     5.06%                   1,805,344      4.90%   \n",
              "3                        0       NaN                      23,170     79.70%   \n",
              "4                        0       NaN                      12,084     17.73%   \n",
              "\n",
              "   ...  Textbox47 Textbox129  Textbox42 Textbox135  Textbox37 Textbox141  \\\n",
              "0  ...  3,185,050        NaN  2,473,338        NaN  1,953,623        NaN   \n",
              "1  ...  3,185,050        NaN  2,473,338        NaN  1,953,623        NaN   \n",
              "2  ...  3,185,050        NaN  2,473,338        NaN  1,953,623        NaN   \n",
              "3  ...  3,185,050        NaN  2,473,338        NaN  1,953,623        NaN   \n",
              "4  ...  3,185,050        NaN  2,473,338        NaN  1,953,623        NaN   \n",
              "\n",
              "  Textbox95 Textbox146  Textbox90 Textbox153  \n",
              "0    37,731        NaN  1,370,208        NaN  \n",
              "1    37,731        NaN  1,370,208        NaN  \n",
              "2    37,731        NaN  1,370,208        NaN  \n",
              "3    37,731        NaN  1,370,208        NaN  \n",
              "4    37,731        NaN  1,370,208        NaN  \n",
              "\n",
              "[5 rows x 75 columns]"
            ],
            "text/html": [
              "\n",
              "  <div id=\"df-26903813-85b0-4778-b549-09f70f9ba49c\">\n",
              "    <div class=\"colab-df-container\">\n",
              "      <div>\n",
              "<style scoped>\n",
              "    .dataframe tbody tr th:only-of-type {\n",
              "        vertical-align: middle;\n",
              "    }\n",
              "\n",
              "    .dataframe tbody tr th {\n",
              "        vertical-align: top;\n",
              "    }\n",
              "\n",
              "    .dataframe thead th {\n",
              "        text-align: right;\n",
              "    }\n",
              "</style>\n",
              "<table border=\"1\" class=\"dataframe\">\n",
              "  <thead>\n",
              "    <tr style=\"text-align: right;\">\n",
              "      <th></th>\n",
              "      <th>State</th>\n",
              "      <th>Field1</th>\n",
              "      <th>Field2</th>\n",
              "      <th>Textbox22</th>\n",
              "      <th>Field4</th>\n",
              "      <th>Textbox24</th>\n",
              "      <th>TotalNonRecreationVisits</th>\n",
              "      <th>Textbox98</th>\n",
              "      <th>TotalRecreationVisitorHours</th>\n",
              "      <th>Textbox103</th>\n",
              "      <th>...</th>\n",
              "      <th>Textbox47</th>\n",
              "      <th>Textbox129</th>\n",
              "      <th>Textbox42</th>\n",
              "      <th>Textbox135</th>\n",
              "      <th>Textbox37</th>\n",
              "      <th>Textbox141</th>\n",
              "      <th>Textbox95</th>\n",
              "      <th>Textbox146</th>\n",
              "      <th>Textbox90</th>\n",
              "      <th>Textbox153</th>\n",
              "    </tr>\n",
              "  </thead>\n",
              "  <tbody>\n",
              "    <tr>\n",
              "      <th>0</th>\n",
              "      <td>Alabama</td>\n",
              "      <td>Horseshoe Bend NMP</td>\n",
              "      <td>58,285</td>\n",
              "      <td>103.79%</td>\n",
              "      <td>14,522</td>\n",
              "      <td>65.25%</td>\n",
              "      <td>0</td>\n",
              "      <td>NaN</td>\n",
              "      <td>174,275</td>\n",
              "      <td>65.25%</td>\n",
              "      <td>...</td>\n",
              "      <td>3,185,050</td>\n",
              "      <td>NaN</td>\n",
              "      <td>2,473,338</td>\n",
              "      <td>NaN</td>\n",
              "      <td>1,953,623</td>\n",
              "      <td>NaN</td>\n",
              "      <td>37,731</td>\n",
              "      <td>NaN</td>\n",
              "      <td>1,370,208</td>\n",
              "      <td>NaN</td>\n",
              "    </tr>\n",
              "    <tr>\n",
              "      <th>1</th>\n",
              "      <td>Alabama</td>\n",
              "      <td>Little River Canyon NPRES</td>\n",
              "      <td>862,606</td>\n",
              "      <td>7.51%</td>\n",
              "      <td>184,841</td>\n",
              "      <td>9.49%</td>\n",
              "      <td>0</td>\n",
              "      <td>NaN</td>\n",
              "      <td>2,218,097</td>\n",
              "      <td>9.49%</td>\n",
              "      <td>...</td>\n",
              "      <td>3,185,050</td>\n",
              "      <td>NaN</td>\n",
              "      <td>2,473,338</td>\n",
              "      <td>NaN</td>\n",
              "      <td>1,953,623</td>\n",
              "      <td>NaN</td>\n",
              "      <td>37,731</td>\n",
              "      <td>NaN</td>\n",
              "      <td>1,370,208</td>\n",
              "      <td>NaN</td>\n",
              "    </tr>\n",
              "    <tr>\n",
              "      <th>2</th>\n",
              "      <td>Alabama</td>\n",
              "      <td>Natchez Trace PKWY</td>\n",
              "      <td>448,094</td>\n",
              "      <td>4.52%</td>\n",
              "      <td>150,445</td>\n",
              "      <td>4.90%</td>\n",
              "      <td>612,525</td>\n",
              "      <td>5.06%</td>\n",
              "      <td>1,805,344</td>\n",
              "      <td>4.90%</td>\n",
              "      <td>...</td>\n",
              "      <td>3,185,050</td>\n",
              "      <td>NaN</td>\n",
              "      <td>2,473,338</td>\n",
              "      <td>NaN</td>\n",
              "      <td>1,953,623</td>\n",
              "      <td>NaN</td>\n",
              "      <td>37,731</td>\n",
              "      <td>NaN</td>\n",
              "      <td>1,370,208</td>\n",
              "      <td>NaN</td>\n",
              "    </tr>\n",
              "    <tr>\n",
              "      <th>3</th>\n",
              "      <td>Alabama</td>\n",
              "      <td>Russell Cave NM</td>\n",
              "      <td>22,393</td>\n",
              "      <td>164.63%</td>\n",
              "      <td>1,930</td>\n",
              "      <td>79.70%</td>\n",
              "      <td>0</td>\n",
              "      <td>NaN</td>\n",
              "      <td>23,170</td>\n",
              "      <td>79.70%</td>\n",
              "      <td>...</td>\n",
              "      <td>3,185,050</td>\n",
              "      <td>NaN</td>\n",
              "      <td>2,473,338</td>\n",
              "      <td>NaN</td>\n",
              "      <td>1,953,623</td>\n",
              "      <td>NaN</td>\n",
              "      <td>37,731</td>\n",
              "      <td>NaN</td>\n",
              "      <td>1,370,208</td>\n",
              "      <td>NaN</td>\n",
              "    </tr>\n",
              "    <tr>\n",
              "      <th>4</th>\n",
              "      <td>Alabama</td>\n",
              "      <td>Tuskegee Airmen NHS</td>\n",
              "      <td>8,057</td>\n",
              "      <td>17.74%</td>\n",
              "      <td>1,007</td>\n",
              "      <td>17.78%</td>\n",
              "      <td>0</td>\n",
              "      <td>NaN</td>\n",
              "      <td>12,084</td>\n",
              "      <td>17.73%</td>\n",
              "      <td>...</td>\n",
              "      <td>3,185,050</td>\n",
              "      <td>NaN</td>\n",
              "      <td>2,473,338</td>\n",
              "      <td>NaN</td>\n",
              "      <td>1,953,623</td>\n",
              "      <td>NaN</td>\n",
              "      <td>37,731</td>\n",
              "      <td>NaN</td>\n",
              "      <td>1,370,208</td>\n",
              "      <td>NaN</td>\n",
              "    </tr>\n",
              "  </tbody>\n",
              "</table>\n",
              "<p>5 rows × 75 columns</p>\n",
              "</div>\n",
              "      <button class=\"colab-df-convert\" onclick=\"convertToInteractive('df-26903813-85b0-4778-b549-09f70f9ba49c')\"\n",
              "              title=\"Convert this dataframe to an interactive table.\"\n",
              "              style=\"display:none;\">\n",
              "        \n",
              "  <svg xmlns=\"http://www.w3.org/2000/svg\" height=\"24px\"viewBox=\"0 0 24 24\"\n",
              "       width=\"24px\">\n",
              "    <path d=\"M0 0h24v24H0V0z\" fill=\"none\"/>\n",
              "    <path d=\"M18.56 5.44l.94 2.06.94-2.06 2.06-.94-2.06-.94-.94-2.06-.94 2.06-2.06.94zm-11 1L8.5 8.5l.94-2.06 2.06-.94-2.06-.94L8.5 2.5l-.94 2.06-2.06.94zm10 10l.94 2.06.94-2.06 2.06-.94-2.06-.94-.94-2.06-.94 2.06-2.06.94z\"/><path d=\"M17.41 7.96l-1.37-1.37c-.4-.4-.92-.59-1.43-.59-.52 0-1.04.2-1.43.59L10.3 9.45l-7.72 7.72c-.78.78-.78 2.05 0 2.83L4 21.41c.39.39.9.59 1.41.59.51 0 1.02-.2 1.41-.59l7.78-7.78 2.81-2.81c.8-.78.8-2.07 0-2.86zM5.41 20L4 18.59l7.72-7.72 1.47 1.35L5.41 20z\"/>\n",
              "  </svg>\n",
              "      </button>\n",
              "      \n",
              "  <style>\n",
              "    .colab-df-container {\n",
              "      display:flex;\n",
              "      flex-wrap:wrap;\n",
              "      gap: 12px;\n",
              "    }\n",
              "\n",
              "    .colab-df-convert {\n",
              "      background-color: #E8F0FE;\n",
              "      border: none;\n",
              "      border-radius: 50%;\n",
              "      cursor: pointer;\n",
              "      display: none;\n",
              "      fill: #1967D2;\n",
              "      height: 32px;\n",
              "      padding: 0 0 0 0;\n",
              "      width: 32px;\n",
              "    }\n",
              "\n",
              "    .colab-df-convert:hover {\n",
              "      background-color: #E2EBFA;\n",
              "      box-shadow: 0px 1px 2px rgba(60, 64, 67, 0.3), 0px 1px 3px 1px rgba(60, 64, 67, 0.15);\n",
              "      fill: #174EA6;\n",
              "    }\n",
              "\n",
              "    [theme=dark] .colab-df-convert {\n",
              "      background-color: #3B4455;\n",
              "      fill: #D2E3FC;\n",
              "    }\n",
              "\n",
              "    [theme=dark] .colab-df-convert:hover {\n",
              "      background-color: #434B5C;\n",
              "      box-shadow: 0px 1px 3px 1px rgba(0, 0, 0, 0.15);\n",
              "      filter: drop-shadow(0px 1px 2px rgba(0, 0, 0, 0.3));\n",
              "      fill: #FFFFFF;\n",
              "    }\n",
              "  </style>\n",
              "\n",
              "      <script>\n",
              "        const buttonEl =\n",
              "          document.querySelector('#df-26903813-85b0-4778-b549-09f70f9ba49c button.colab-df-convert');\n",
              "        buttonEl.style.display =\n",
              "          google.colab.kernel.accessAllowed ? 'block' : 'none';\n",
              "\n",
              "        async function convertToInteractive(key) {\n",
              "          const element = document.querySelector('#df-26903813-85b0-4778-b549-09f70f9ba49c');\n",
              "          const dataTable =\n",
              "            await google.colab.kernel.invokeFunction('convertToInteractive',\n",
              "                                                     [key], {});\n",
              "          if (!dataTable) return;\n",
              "\n",
              "          const docLinkHtml = 'Like what you see? Visit the ' +\n",
              "            '<a target=\"_blank\" href=https://colab.research.google.com/notebooks/data_table.ipynb>data table notebook</a>'\n",
              "            + ' to learn more about interactive tables.';\n",
              "          element.innerHTML = '';\n",
              "          dataTable['output_type'] = 'display_data';\n",
              "          await google.colab.output.renderOutput(dataTable, element);\n",
              "          const docLink = document.createElement('div');\n",
              "          docLink.innerHTML = docLinkHtml;\n",
              "          element.appendChild(docLink);\n",
              "        }\n",
              "      </script>\n",
              "    </div>\n",
              "  </div>\n",
              "  "
            ]
          },
          "metadata": {},
          "execution_count": 11
        }
      ],
      "source": [
        "# Loading in National Park Data\n",
        "parkstates = pd.read_csv('parkstates.csv')\n",
        "parkstates.head()"
      ]
    },
    {
      "cell_type": "markdown",
      "source": [
        "I will use this to add a state column to parkdata. Note that some parks are in more than one state, in which case they will only be assigned to one state for now."
      ],
      "metadata": {
        "id": "oAAw6SFSeYU_"
      }
    },
    {
      "cell_type": "code",
      "source": [
        "# Create a dict to map park names to their corresponding state\n",
        "stateMap = dict(zip(parkstates.Field1, parkstates.State))\n",
        "\n",
        "# Create a new column in Parkdata with the State\n",
        "parkdata[\"State\"] = parkdata[\"ParkName\"].map(stateMap)"
      ],
      "metadata": {
        "id": "OLmnBac6uN4P"
      },
      "execution_count": 12,
      "outputs": []
    },
    {
      "cell_type": "markdown",
      "source": [
        "I will also need to enumerate the park names in order to run my model, so now is a good time to do that. I will do this by creating a \"park_id\" column."
      ],
      "metadata": {
        "id": "NI4xF0h4th7S"
      }
    },
    {
      "cell_type": "code",
      "source": [
        "parkdata.sort_values('RecreationVisitors')\n",
        "parkdata.head()"
      ],
      "metadata": {
        "colab": {
          "base_uri": "https://localhost:8080/",
          "height": 206
        },
        "id": "A1DjrBuW6KHf",
        "outputId": "abff5955-34c6-4793-92d7-a21495fcd9e0"
      },
      "execution_count": 14,
      "outputs": [
        {
          "output_type": "execute_result",
          "data": {
            "text/plain": [
              "                         ParkName  Year  RecreationVisitors     State\n",
              "0  Abraham Lincoln Birthplace NHP  2010              177122  Kentucky\n",
              "1  Abraham Lincoln Birthplace NHP  2011              163568  Kentucky\n",
              "2  Abraham Lincoln Birthplace NHP  2012              169515  Kentucky\n",
              "3  Abraham Lincoln Birthplace NHP  2013              163928  Kentucky\n",
              "4  Abraham Lincoln Birthplace NHP  2014              241264  Kentucky"
            ],
            "text/html": [
              "\n",
              "  <div id=\"df-d6991bca-d010-4705-8272-20cecfc3a386\">\n",
              "    <div class=\"colab-df-container\">\n",
              "      <div>\n",
              "<style scoped>\n",
              "    .dataframe tbody tr th:only-of-type {\n",
              "        vertical-align: middle;\n",
              "    }\n",
              "\n",
              "    .dataframe tbody tr th {\n",
              "        vertical-align: top;\n",
              "    }\n",
              "\n",
              "    .dataframe thead th {\n",
              "        text-align: right;\n",
              "    }\n",
              "</style>\n",
              "<table border=\"1\" class=\"dataframe\">\n",
              "  <thead>\n",
              "    <tr style=\"text-align: right;\">\n",
              "      <th></th>\n",
              "      <th>ParkName</th>\n",
              "      <th>Year</th>\n",
              "      <th>RecreationVisitors</th>\n",
              "      <th>State</th>\n",
              "    </tr>\n",
              "  </thead>\n",
              "  <tbody>\n",
              "    <tr>\n",
              "      <th>0</th>\n",
              "      <td>Abraham Lincoln Birthplace NHP</td>\n",
              "      <td>2010</td>\n",
              "      <td>177122</td>\n",
              "      <td>Kentucky</td>\n",
              "    </tr>\n",
              "    <tr>\n",
              "      <th>1</th>\n",
              "      <td>Abraham Lincoln Birthplace NHP</td>\n",
              "      <td>2011</td>\n",
              "      <td>163568</td>\n",
              "      <td>Kentucky</td>\n",
              "    </tr>\n",
              "    <tr>\n",
              "      <th>2</th>\n",
              "      <td>Abraham Lincoln Birthplace NHP</td>\n",
              "      <td>2012</td>\n",
              "      <td>169515</td>\n",
              "      <td>Kentucky</td>\n",
              "    </tr>\n",
              "    <tr>\n",
              "      <th>3</th>\n",
              "      <td>Abraham Lincoln Birthplace NHP</td>\n",
              "      <td>2013</td>\n",
              "      <td>163928</td>\n",
              "      <td>Kentucky</td>\n",
              "    </tr>\n",
              "    <tr>\n",
              "      <th>4</th>\n",
              "      <td>Abraham Lincoln Birthplace NHP</td>\n",
              "      <td>2014</td>\n",
              "      <td>241264</td>\n",
              "      <td>Kentucky</td>\n",
              "    </tr>\n",
              "  </tbody>\n",
              "</table>\n",
              "</div>\n",
              "      <button class=\"colab-df-convert\" onclick=\"convertToInteractive('df-d6991bca-d010-4705-8272-20cecfc3a386')\"\n",
              "              title=\"Convert this dataframe to an interactive table.\"\n",
              "              style=\"display:none;\">\n",
              "        \n",
              "  <svg xmlns=\"http://www.w3.org/2000/svg\" height=\"24px\"viewBox=\"0 0 24 24\"\n",
              "       width=\"24px\">\n",
              "    <path d=\"M0 0h24v24H0V0z\" fill=\"none\"/>\n",
              "    <path d=\"M18.56 5.44l.94 2.06.94-2.06 2.06-.94-2.06-.94-.94-2.06-.94 2.06-2.06.94zm-11 1L8.5 8.5l.94-2.06 2.06-.94-2.06-.94L8.5 2.5l-.94 2.06-2.06.94zm10 10l.94 2.06.94-2.06 2.06-.94-2.06-.94-.94-2.06-.94 2.06-2.06.94z\"/><path d=\"M17.41 7.96l-1.37-1.37c-.4-.4-.92-.59-1.43-.59-.52 0-1.04.2-1.43.59L10.3 9.45l-7.72 7.72c-.78.78-.78 2.05 0 2.83L4 21.41c.39.39.9.59 1.41.59.51 0 1.02-.2 1.41-.59l7.78-7.78 2.81-2.81c.8-.78.8-2.07 0-2.86zM5.41 20L4 18.59l7.72-7.72 1.47 1.35L5.41 20z\"/>\n",
              "  </svg>\n",
              "      </button>\n",
              "      \n",
              "  <style>\n",
              "    .colab-df-container {\n",
              "      display:flex;\n",
              "      flex-wrap:wrap;\n",
              "      gap: 12px;\n",
              "    }\n",
              "\n",
              "    .colab-df-convert {\n",
              "      background-color: #E8F0FE;\n",
              "      border: none;\n",
              "      border-radius: 50%;\n",
              "      cursor: pointer;\n",
              "      display: none;\n",
              "      fill: #1967D2;\n",
              "      height: 32px;\n",
              "      padding: 0 0 0 0;\n",
              "      width: 32px;\n",
              "    }\n",
              "\n",
              "    .colab-df-convert:hover {\n",
              "      background-color: #E2EBFA;\n",
              "      box-shadow: 0px 1px 2px rgba(60, 64, 67, 0.3), 0px 1px 3px 1px rgba(60, 64, 67, 0.15);\n",
              "      fill: #174EA6;\n",
              "    }\n",
              "\n",
              "    [theme=dark] .colab-df-convert {\n",
              "      background-color: #3B4455;\n",
              "      fill: #D2E3FC;\n",
              "    }\n",
              "\n",
              "    [theme=dark] .colab-df-convert:hover {\n",
              "      background-color: #434B5C;\n",
              "      box-shadow: 0px 1px 3px 1px rgba(0, 0, 0, 0.15);\n",
              "      filter: drop-shadow(0px 1px 2px rgba(0, 0, 0, 0.3));\n",
              "      fill: #FFFFFF;\n",
              "    }\n",
              "  </style>\n",
              "\n",
              "      <script>\n",
              "        const buttonEl =\n",
              "          document.querySelector('#df-d6991bca-d010-4705-8272-20cecfc3a386 button.colab-df-convert');\n",
              "        buttonEl.style.display =\n",
              "          google.colab.kernel.accessAllowed ? 'block' : 'none';\n",
              "\n",
              "        async function convertToInteractive(key) {\n",
              "          const element = document.querySelector('#df-d6991bca-d010-4705-8272-20cecfc3a386');\n",
              "          const dataTable =\n",
              "            await google.colab.kernel.invokeFunction('convertToInteractive',\n",
              "                                                     [key], {});\n",
              "          if (!dataTable) return;\n",
              "\n",
              "          const docLinkHtml = 'Like what you see? Visit the ' +\n",
              "            '<a target=\"_blank\" href=https://colab.research.google.com/notebooks/data_table.ipynb>data table notebook</a>'\n",
              "            + ' to learn more about interactive tables.';\n",
              "          element.innerHTML = '';\n",
              "          dataTable['output_type'] = 'display_data';\n",
              "          await google.colab.output.renderOutput(dataTable, element);\n",
              "          const docLink = document.createElement('div');\n",
              "          docLink.innerHTML = docLinkHtml;\n",
              "          element.appendChild(docLink);\n",
              "        }\n",
              "      </script>\n",
              "    </div>\n",
              "  </div>\n",
              "  "
            ]
          },
          "metadata": {},
          "execution_count": 14
        }
      ]
    },
    {
      "cell_type": "code",
      "source": [
        "# Create a dict to map park names to their corresponding id\n",
        "idMap = dict(zip(parkstates.Field1, parkstates.index))\n",
        "\n",
        "# Create a new column in Parkdata with the State\n",
        "parkdata[\"park_id\"] = parkdata[\"ParkName\"].map(idMap)"
      ],
      "metadata": {
        "id": "_Lr7_bRFthnu"
      },
      "execution_count": 15,
      "outputs": []
    },
    {
      "cell_type": "markdown",
      "source": [
        "# Exploratory Data Analysis"
      ],
      "metadata": {
        "id": "IYSIVN3vbiWW"
      }
    },
    {
      "cell_type": "markdown",
      "source": [
        "I have cleaned my data to account for missing data, mis-matched variable names, and formatting issues. I created a dataframe to merge together selected CDC and Park data in order to perform more complex analysis and visualizations. \n",
        "\n",
        "During my EDA, I found was that there was a dip in overall park visitation around 2013 time period (see first graphic in visualization section). While I was predicitng to see a dip or spike around 2020 due to Covid-19, I assumed that visitation would be pretty linear prior to that. \n",
        "\n",
        "From the CDC lockdown levels (organized by day and county), I had to create a new feature that would align with the park data (organized by year and state). I began to explore several different options for this feature, which would be used as one of my predictor variables. This included finding the minimum and maximum lockdown levels, as well as the most common level over the year time period."
      ],
      "metadata": {
        "id": "iCB4DlJaCKok"
      }
    },
    {
      "cell_type": "markdown",
      "source": [
        "## Data Visualization\n"
      ],
      "metadata": {
        "id": "CEVazN6wcux1"
      }
    },
    {
      "cell_type": "markdown",
      "metadata": {
        "id": "B6XrOKrpmjdn"
      },
      "source": [
        "First, I wanted to understand how many unique parks there were. When I used value_counts I was able to see that there was 388 parks, but not all of them had the same amount of counts, which must mean that they were either added after 2010 or removed before 2021."
      ]
    },
    {
      "cell_type": "code",
      "execution_count": 16,
      "metadata": {
        "colab": {
          "base_uri": "https://localhost:8080/"
        },
        "id": "CQZujdAMbTRu",
        "outputId": "b1d14b2b-1c31-497d-dfa0-6d350e73d31a"
      },
      "outputs": [
        {
          "output_type": "execute_result",
          "data": {
            "text/plain": [
              "Abraham Lincoln Birthplace NHP     12\n",
              "Mount Rushmore NMEM                12\n",
              "New Bedford Whaling NHP            12\n",
              "Navajo NM                          12\n",
              "Natural Bridges NM                 12\n",
              "                                   ..\n",
              "Medgar and Myrlie Evers Home NM     1\n",
              "World War I Memorial                1\n",
              "Tule Springs Fossil Beds NM         1\n",
              "Camp Nelson NM                      1\n",
              "Alagnak Wild River                  1\n",
              "Name: ParkName, Length: 388, dtype: int64"
            ]
          },
          "metadata": {},
          "execution_count": 16
        }
      ],
      "source": [
        "parkdata[\"ParkName\"].value_counts()"
      ]
    },
    {
      "cell_type": "markdown",
      "source": [
        "I decided I could try to plot the number of parks with data for each year to understand if the number of parks was generally increasing, decreasing, or staying the same. I found that there seemed to be more parks being added over the years. For the next steps of my project, I will probably remove parks that were added during Covid-19, or right before, as they would not have historic data to compare agains."
      ],
      "metadata": {
        "id": "VQzJETBeSzle"
      }
    },
    {
      "cell_type": "code",
      "source": [
        "parkdata[\"Year\"].value_counts().plot(kind='bar')"
      ],
      "metadata": {
        "colab": {
          "base_uri": "https://localhost:8080/",
          "height": 299
        },
        "id": "retEssgETBue",
        "outputId": "2a2ad75a-e6ce-4059-8652-73eefe001c64"
      },
      "execution_count": 17,
      "outputs": [
        {
          "output_type": "execute_result",
          "data": {
            "text/plain": [
              "<matplotlib.axes._subplots.AxesSubplot at 0x7fb2de2bbc40>"
            ]
          },
          "metadata": {},
          "execution_count": 17
        },
        {
          "output_type": "display_data",
          "data": {
            "text/plain": [
              "<Figure size 432x288 with 1 Axes>"
            ],
            "image/png": "[encoded data removed]"
          },
          "metadata": {
            "needs_background": "light"
          }
        }
      ]
    },
    {
      "cell_type": "markdown",
      "source": [
        "Since there are so many parks, I won't be able to plot a histogram of visitors over the years for each of them. I will start by looking at the total visitors for each year."
      ],
      "metadata": {
        "id": "3wPY5EIiUkZb"
      }
    },
    {
      "cell_type": "code",
      "source": [
        "%matplotlib inline \n",
        "import matplotlib.pyplot as plt\n",
        "\n",
        "years = [2010,2011,2012,2013,2014,2015,2016,2017,2018,2019,2020,2021]\n",
        "\n",
        "yearlyVisitors = []\n",
        "for year in years:\n",
        "    yearlyVisitors.append(parkdata.loc[(parkdata['Year'] == year), 'RecreationVisitors'].sum())\n",
        "    \n",
        "plt.bar(years, yearlyVisitors)"
      ],
      "metadata": {
        "colab": {
          "base_uri": "https://localhost:8080/",
          "height": 294
        },
        "id": "QB-IffAmVS75",
        "outputId": "061d2db8-6a1d-49f4-9c62-7d9a0aa9a3e5"
      },
      "execution_count": 18,
      "outputs": [
        {
          "output_type": "execute_result",
          "data": {
            "text/plain": [
              "<BarContainer object of 12 artists>"
            ]
          },
          "metadata": {},
          "execution_count": 18
        },
        {
          "output_type": "display_data",
          "data": {
            "text/plain": [
              "<Figure size 432x288 with 1 Axes>"
            ],
            "image/png": "[encoded data removed]"
          },
          "metadata": {
            "needs_background": "light"
          }
        }
      ]
    },
    {
      "cell_type": "markdown",
      "source": [
        "Another way to visualize the data is to plot the park visitors by year for each state. If I use a line chart, I might be able to understand if the trends are different for each state (some lines increasing, others decreasing) or if all lines follow the same trend. "
      ],
      "metadata": {
        "id": "her_nhuLU6BW"
      }
    },
    {
      "cell_type": "code",
      "source": [
        "import numpy as np\n",
        "\n",
        "states = parkdata['State'].unique()\n",
        "stateVisits = pd.DataFrame()\n",
        "stateVisits.head()\n",
        "\n",
        "stateByYear = []\n",
        "for year in years:\n",
        "  for state in states:\n",
        "    stateByYear.append(parkdata.loc[(parkdata['Year'] == year)&(parkdata['State'] == state), 'RecreationVisitors'].sum())\n",
        "  stateVisits[year] = stateByYear\n",
        "  stateByYear = []\n",
        "\n",
        "stateVisits = stateVisits.set_index(states)\n",
        "stateVisits = stateVisits.T\n",
        "\n",
        "stateVisits.plot(legend=False)\n"
      ],
      "metadata": {
        "colab": {
          "base_uri": "https://localhost:8080/",
          "height": 294
        },
        "id": "lchiQegKcwL5",
        "outputId": "97c352c2-1201-4df4-959d-74c95d654935"
      },
      "execution_count": 19,
      "outputs": [
        {
          "output_type": "execute_result",
          "data": {
            "text/plain": [
              "<matplotlib.axes._subplots.AxesSubplot at 0x7fb2ddcd2340>"
            ]
          },
          "metadata": {},
          "execution_count": 19
        },
        {
          "output_type": "display_data",
          "data": {
            "text/plain": [
              "<Figure size 432x288 with 1 Axes>"
            ],
            "image/png": "[encoded data removed]"
          },
          "metadata": {
            "needs_background": "light"
          }
        }
      ]
    },
    {
      "cell_type": "markdown",
      "source": [
        "For the CDC data, I similarly want to visualize the trends over time. To get a general overview, I will look at the category levels overall over time. Honestly, I struggled to get this plot to represent what I was hoping for, which would have the order levels as different color lines, time as the x axis, and the value counts as the y axis. "
      ],
      "metadata": {
        "id": "xH9zE3WhneGq"
      }
    },
    {
      "cell_type": "code",
      "source": [
        "import matplotlib.pyplot as plt\n",
        "import pandas as pd \n",
        "\n",
        "dates = cdcdata['date'].unique()\n",
        "levels = [1, 2, 3, 5, 6, 7]\n",
        "\n",
        "cdcLevels = cdcdata.groupby('Order_code')['date'].value_counts().to_frame(name = 'count').reset_index()\n",
        "\n",
        "for level in levels:\n",
        "  plt.subplot(2, 4, level)\n",
        "  df1 = cdcLevels.loc[(cdcLevels['Order_code'] == level)]\n",
        "  plt.scatter(df1['date'], df1['count'])\n",
        "  plt.title(level)\n"
      ],
      "metadata": {
        "colab": {
          "base_uri": "https://localhost:8080/",
          "height": 281
        },
        "id": "1nfJ5vFunq-b",
        "outputId": "1bdae56e-9b14-47ac-e3ca-e653e8c7636a"
      },
      "execution_count": 20,
      "outputs": [
        {
          "output_type": "display_data",
          "data": {
            "text/plain": [
              "<Figure size 432x288 with 6 Axes>"
            ],
            "image/png": "[encoded data removed]"
          },
          "metadata": {
            "needs_background": "light"
          }
        }
      ]
    },
    {
      "cell_type": "markdown",
      "source": [
        "Like the park data, I can break down the CDC category levels by state and see how those trends compare."
      ],
      "metadata": {
        "id": "uiVkorQnnsdr"
      }
    },
    {
      "cell_type": "markdown",
      "source": [
        "## Data Joining"
      ],
      "metadata": {
        "id": "Rigsc1pXNyX3"
      }
    },
    {
      "cell_type": "markdown",
      "source": [
        "In order to perform more complex analysis, I need to join the CDC and park data. Since the park data is organized by year, my plan is to look at creating new features for the CDC data in a few different ways. This includes generalizing the data by both state and year. I tried taking min and mode of the data.\n",
        "\n",
        "1) Choose the most common (mode) lockdown levels for all counties in a certain state over the year in question\n",
        "\n",
        "2) Choose the minimum lockdown level for all counties in a certain state over the year in question. \n",
        "\n",
        "Another option if I have time:\n",
        "3) Average the lockdown level for the county in question over the year in question. This feature would require adding a county marker to each park, but would allow me to refine the results by a lot."
      ],
      "metadata": {
        "id": "tt9j5dU88UzC"
      }
    },
    {
      "cell_type": "code",
      "source": [
        "# Use this dictionary to map state names to two letter acronyms\n",
        "states = {'OH': 'Ohio', 'KY': 'Kentucky', 'AS': 'American Samoa', 'NV': 'Nevada', 'WY': 'Wyoming', 'NA': 'National', 'AL': 'Alabama', 'MD': 'Maryland', 'AK': 'Alaska', 'UT': 'Utah', 'OR': 'Oregon', 'MT': 'Montana', 'IL': 'Illinois', 'TN': 'Tennessee', 'DC': 'District of Columbia', 'VT': 'Vermont', 'ID': 'Idaho', 'AR': 'Arkansas', 'ME': 'Maine', 'WA': 'Washington', 'HI': 'Hawaii', 'WI': 'Wisconsin', 'MI': 'Michigan', 'IN': 'Indiana', 'NJ': 'New Jersey', 'AZ': 'Arizona', 'GU': 'Guam', 'MS': 'Mississippi', 'PR': 'Puerto Rico', 'NC': 'North Carolina', 'TX': 'Texas', 'SD': 'South Dakota', 'MP': 'Northern Mariana Islands', 'IA': 'Iowa', 'MO': 'Missouri', 'CT': 'Connecticut', 'WV': 'West Virginia', 'SC': 'South Carolina', 'LA': 'Louisiana', 'KS': 'Kansas', 'NY': 'New York', 'NE': 'Nebraska', 'OK': 'Oklahoma', 'FL': 'Florida', 'CA': 'California', 'CO': 'Colorado', 'PA': 'Pennsylvania', 'DE': 'Delaware', 'NM': 'New Mexico', 'RI': 'Rhode Island', 'MN': 'Minnesota', 'VI': 'Virgin Islands', 'NH': 'New Hampshire', 'MA': 'Massachusetts', 'GA': 'Georgia', 'ND': 'North Dakota', 'VA': 'Virginia'}"
      ],
      "metadata": {
        "id": "qsa4M-QQN3vF"
      },
      "execution_count": 21,
      "outputs": []
    },
    {
      "cell_type": "code",
      "source": [
        "cdcdata['year'] = pd.DatetimeIndex(cdcdata['date']).year\n",
        "features = pd.DataFrame()\n",
        "features['Common'] = cdcdata.groupby(['State_Tribe_Territory','year'])['Order_code'].agg(pd.Series.mode)\n",
        "features['Min'] = cdcdata.groupby(['State_Tribe_Territory','year'])['Order_code'].min()\n",
        "county = cdcdata.groupby(['State_Tribe_Territory','County_Name','year'])['Order_code'].agg(pd.Series.mode)\n",
        "features = features.reset_index() \n",
        "features['State_Tribe_Territory'] = features['State_Tribe_Territory'].map(states)\n",
        "features.head()"
      ],
      "metadata": {
        "colab": {
          "base_uri": "https://localhost:8080/",
          "height": 206
        },
        "id": "lxnNNUE1-N51",
        "outputId": "f5442925-79b4-4978-92a5-8a7a9603d24e"
      },
      "execution_count": 22,
      "outputs": [
        {
          "output_type": "execute_result",
          "data": {
            "text/plain": [
              "  State_Tribe_Territory  year  Common  Min\n",
              "0                Alaska  2020       7    1\n",
              "1                Alaska  2021       7    7\n",
              "2               Alabama  2020       6    1\n",
              "3               Alabama  2021       7    6\n",
              "4              Arkansas  2020       7    7"
            ],
            "text/html": [
              "\n",
              "  <div id=\"df-1e243299-45d1-4869-a107-489d16bd7d39\">\n",
              "    <div class=\"colab-df-container\">\n",
              "      <div>\n",
              "<style scoped>\n",
              "    .dataframe tbody tr th:only-of-type {\n",
              "        vertical-align: middle;\n",
              "    }\n",
              "\n",
              "    .dataframe tbody tr th {\n",
              "        vertical-align: top;\n",
              "    }\n",
              "\n",
              "    .dataframe thead th {\n",
              "        text-align: right;\n",
              "    }\n",
              "</style>\n",
              "<table border=\"1\" class=\"dataframe\">\n",
              "  <thead>\n",
              "    <tr style=\"text-align: right;\">\n",
              "      <th></th>\n",
              "      <th>State_Tribe_Territory</th>\n",
              "      <th>year</th>\n",
              "      <th>Common</th>\n",
              "      <th>Min</th>\n",
              "    </tr>\n",
              "  </thead>\n",
              "  <tbody>\n",
              "    <tr>\n",
              "      <th>0</th>\n",
              "      <td>Alaska</td>\n",
              "      <td>2020</td>\n",
              "      <td>7</td>\n",
              "      <td>1</td>\n",
              "    </tr>\n",
              "    <tr>\n",
              "      <th>1</th>\n",
              "      <td>Alaska</td>\n",
              "      <td>2021</td>\n",
              "      <td>7</td>\n",
              "      <td>7</td>\n",
              "    </tr>\n",
              "    <tr>\n",
              "      <th>2</th>\n",
              "      <td>Alabama</td>\n",
              "      <td>2020</td>\n",
              "      <td>6</td>\n",
              "      <td>1</td>\n",
              "    </tr>\n",
              "    <tr>\n",
              "      <th>3</th>\n",
              "      <td>Alabama</td>\n",
              "      <td>2021</td>\n",
              "      <td>7</td>\n",
              "      <td>6</td>\n",
              "    </tr>\n",
              "    <tr>\n",
              "      <th>4</th>\n",
              "      <td>Arkansas</td>\n",
              "      <td>2020</td>\n",
              "      <td>7</td>\n",
              "      <td>7</td>\n",
              "    </tr>\n",
              "  </tbody>\n",
              "</table>\n",
              "</div>\n",
              "      <button class=\"colab-df-convert\" onclick=\"convertToInteractive('df-1e243299-45d1-4869-a107-489d16bd7d39')\"\n",
              "              title=\"Convert this dataframe to an interactive table.\"\n",
              "              style=\"display:none;\">\n",
              "        \n",
              "  <svg xmlns=\"http://www.w3.org/2000/svg\" height=\"24px\"viewBox=\"0 0 24 24\"\n",
              "       width=\"24px\">\n",
              "    <path d=\"M0 0h24v24H0V0z\" fill=\"none\"/>\n",
              "    <path d=\"M18.56 5.44l.94 2.06.94-2.06 2.06-.94-2.06-.94-.94-2.06-.94 2.06-2.06.94zm-11 1L8.5 8.5l.94-2.06 2.06-.94-2.06-.94L8.5 2.5l-.94 2.06-2.06.94zm10 10l.94 2.06.94-2.06 2.06-.94-2.06-.94-.94-2.06-.94 2.06-2.06.94z\"/><path d=\"M17.41 7.96l-1.37-1.37c-.4-.4-.92-.59-1.43-.59-.52 0-1.04.2-1.43.59L10.3 9.45l-7.72 7.72c-.78.78-.78 2.05 0 2.83L4 21.41c.39.39.9.59 1.41.59.51 0 1.02-.2 1.41-.59l7.78-7.78 2.81-2.81c.8-.78.8-2.07 0-2.86zM5.41 20L4 18.59l7.72-7.72 1.47 1.35L5.41 20z\"/>\n",
              "  </svg>\n",
              "      </button>\n",
              "      \n",
              "  <style>\n",
              "    .colab-df-container {\n",
              "      display:flex;\n",
              "      flex-wrap:wrap;\n",
              "      gap: 12px;\n",
              "    }\n",
              "\n",
              "    .colab-df-convert {\n",
              "      background-color: #E8F0FE;\n",
              "      border: none;\n",
              "      border-radius: 50%;\n",
              "      cursor: pointer;\n",
              "      display: none;\n",
              "      fill: #1967D2;\n",
              "      height: 32px;\n",
              "      padding: 0 0 0 0;\n",
              "      width: 32px;\n",
              "    }\n",
              "\n",
              "    .colab-df-convert:hover {\n",
              "      background-color: #E2EBFA;\n",
              "      box-shadow: 0px 1px 2px rgba(60, 64, 67, 0.3), 0px 1px 3px 1px rgba(60, 64, 67, 0.15);\n",
              "      fill: #174EA6;\n",
              "    }\n",
              "\n",
              "    [theme=dark] .colab-df-convert {\n",
              "      background-color: #3B4455;\n",
              "      fill: #D2E3FC;\n",
              "    }\n",
              "\n",
              "    [theme=dark] .colab-df-convert:hover {\n",
              "      background-color: #434B5C;\n",
              "      box-shadow: 0px 1px 3px 1px rgba(0, 0, 0, 0.15);\n",
              "      filter: drop-shadow(0px 1px 2px rgba(0, 0, 0, 0.3));\n",
              "      fill: #FFFFFF;\n",
              "    }\n",
              "  </style>\n",
              "\n",
              "      <script>\n",
              "        const buttonEl =\n",
              "          document.querySelector('#df-1e243299-45d1-4869-a107-489d16bd7d39 button.colab-df-convert');\n",
              "        buttonEl.style.display =\n",
              "          google.colab.kernel.accessAllowed ? 'block' : 'none';\n",
              "\n",
              "        async function convertToInteractive(key) {\n",
              "          const element = document.querySelector('#df-1e243299-45d1-4869-a107-489d16bd7d39');\n",
              "          const dataTable =\n",
              "            await google.colab.kernel.invokeFunction('convertToInteractive',\n",
              "                                                     [key], {});\n",
              "          if (!dataTable) return;\n",
              "\n",
              "          const docLinkHtml = 'Like what you see? Visit the ' +\n",
              "            '<a target=\"_blank\" href=https://colab.research.google.com/notebooks/data_table.ipynb>data table notebook</a>'\n",
              "            + ' to learn more about interactive tables.';\n",
              "          element.innerHTML = '';\n",
              "          dataTable['output_type'] = 'display_data';\n",
              "          await google.colab.output.renderOutput(dataTable, element);\n",
              "          const docLink = document.createElement('div');\n",
              "          docLink.innerHTML = docLinkHtml;\n",
              "          element.appendChild(docLink);\n",
              "        }\n",
              "      </script>\n",
              "    </div>\n",
              "  </div>\n",
              "  "
            ]
          },
          "metadata": {},
          "execution_count": 22
        }
      ]
    },
    {
      "cell_type": "markdown",
      "source": [
        "The final step is to join these new features with the park data. My desired format for my data when complete is:\n",
        "\n",
        "Park, Year, Visitor Data, State, Average Lockdown, Maximum Lockdown\n",
        "\n",
        "I will fill in 8 for years that do not have order codes, since higher numbers mean less severe restrictions."
      ],
      "metadata": {
        "id": "sgFuESez9g5B"
      }
    },
    {
      "cell_type": "code",
      "source": [
        "joined = pd.merge(parkdata, features, left_on=[\"State\",'Year'], right_on=['State_Tribe_Territory','year'], how='outer')\n",
        "joined.drop(columns=['State_Tribe_Territory', 'year'], inplace=True)\n",
        "joined=joined.drop(joined.index[-4:])\n",
        "joined.fillna(8, inplace=True)\n",
        "\n",
        "joined.head()"
      ],
      "metadata": {
        "colab": {
          "base_uri": "https://localhost:8080/",
          "height": 206
        },
        "id": "jnvi4dkoO2eV",
        "outputId": "246b38d1-b7d6-4b5a-99f7-915d9f5a6339"
      },
      "execution_count": 23,
      "outputs": [
        {
          "output_type": "execute_result",
          "data": {
            "text/plain": [
              "                         ParkName    Year  RecreationVisitors     State  \\\n",
              "0  Abraham Lincoln Birthplace NHP  2010.0            177122.0  Kentucky   \n",
              "1                 Mammoth Cave NP  2010.0            497225.0  Kentucky   \n",
              "2  Abraham Lincoln Birthplace NHP  2011.0            163568.0  Kentucky   \n",
              "3                 Mammoth Cave NP  2011.0            483319.0  Kentucky   \n",
              "4  Abraham Lincoln Birthplace NHP  2012.0            169515.0  Kentucky   \n",
              "\n",
              "   park_id  Common  Min  \n",
              "0    156.0     8.0  8.0  \n",
              "1    160.0     8.0  8.0  \n",
              "2    156.0     8.0  8.0  \n",
              "3    160.0     8.0  8.0  \n",
              "4    156.0     8.0  8.0  "
            ],
            "text/html": [
              "\n",
              "  <div id=\"df-ce3049c8-4b7a-4e36-85c4-4cc461be5e3f\">\n",
              "    <div class=\"colab-df-container\">\n",
              "      <div>\n",
              "<style scoped>\n",
              "    .dataframe tbody tr th:only-of-type {\n",
              "        vertical-align: middle;\n",
              "    }\n",
              "\n",
              "    .dataframe tbody tr th {\n",
              "        vertical-align: top;\n",
              "    }\n",
              "\n",
              "    .dataframe thead th {\n",
              "        text-align: right;\n",
              "    }\n",
              "</style>\n",
              "<table border=\"1\" class=\"dataframe\">\n",
              "  <thead>\n",
              "    <tr style=\"text-align: right;\">\n",
              "      <th></th>\n",
              "      <th>ParkName</th>\n",
              "      <th>Year</th>\n",
              "      <th>RecreationVisitors</th>\n",
              "      <th>State</th>\n",
              "      <th>park_id</th>\n",
              "      <th>Common</th>\n",
              "      <th>Min</th>\n",
              "    </tr>\n",
              "  </thead>\n",
              "  <tbody>\n",
              "    <tr>\n",
              "      <th>0</th>\n",
              "      <td>Abraham Lincoln Birthplace NHP</td>\n",
              "      <td>2010.0</td>\n",
              "      <td>177122.0</td>\n",
              "      <td>Kentucky</td>\n",
              "      <td>156.0</td>\n",
              "      <td>8.0</td>\n",
              "      <td>8.0</td>\n",
              "    </tr>\n",
              "    <tr>\n",
              "      <th>1</th>\n",
              "      <td>Mammoth Cave NP</td>\n",
              "      <td>2010.0</td>\n",
              "      <td>497225.0</td>\n",
              "      <td>Kentucky</td>\n",
              "      <td>160.0</td>\n",
              "      <td>8.0</td>\n",
              "      <td>8.0</td>\n",
              "    </tr>\n",
              "    <tr>\n",
              "      <th>2</th>\n",
              "      <td>Abraham Lincoln Birthplace NHP</td>\n",
              "      <td>2011.0</td>\n",
              "      <td>163568.0</td>\n",
              "      <td>Kentucky</td>\n",
              "      <td>156.0</td>\n",
              "      <td>8.0</td>\n",
              "      <td>8.0</td>\n",
              "    </tr>\n",
              "    <tr>\n",
              "      <th>3</th>\n",
              "      <td>Mammoth Cave NP</td>\n",
              "      <td>2011.0</td>\n",
              "      <td>483319.0</td>\n",
              "      <td>Kentucky</td>\n",
              "      <td>160.0</td>\n",
              "      <td>8.0</td>\n",
              "      <td>8.0</td>\n",
              "    </tr>\n",
              "    <tr>\n",
              "      <th>4</th>\n",
              "      <td>Abraham Lincoln Birthplace NHP</td>\n",
              "      <td>2012.0</td>\n",
              "      <td>169515.0</td>\n",
              "      <td>Kentucky</td>\n",
              "      <td>156.0</td>\n",
              "      <td>8.0</td>\n",
              "      <td>8.0</td>\n",
              "    </tr>\n",
              "  </tbody>\n",
              "</table>\n",
              "</div>\n",
              "      <button class=\"colab-df-convert\" onclick=\"convertToInteractive('df-ce3049c8-4b7a-4e36-85c4-4cc461be5e3f')\"\n",
              "              title=\"Convert this dataframe to an interactive table.\"\n",
              "              style=\"display:none;\">\n",
              "        \n",
              "  <svg xmlns=\"http://www.w3.org/2000/svg\" height=\"24px\"viewBox=\"0 0 24 24\"\n",
              "       width=\"24px\">\n",
              "    <path d=\"M0 0h24v24H0V0z\" fill=\"none\"/>\n",
              "    <path d=\"M18.56 5.44l.94 2.06.94-2.06 2.06-.94-2.06-.94-.94-2.06-.94 2.06-2.06.94zm-11 1L8.5 8.5l.94-2.06 2.06-.94-2.06-.94L8.5 2.5l-.94 2.06-2.06.94zm10 10l.94 2.06.94-2.06 2.06-.94-2.06-.94-.94-2.06-.94 2.06-2.06.94z\"/><path d=\"M17.41 7.96l-1.37-1.37c-.4-.4-.92-.59-1.43-.59-.52 0-1.04.2-1.43.59L10.3 9.45l-7.72 7.72c-.78.78-.78 2.05 0 2.83L4 21.41c.39.39.9.59 1.41.59.51 0 1.02-.2 1.41-.59l7.78-7.78 2.81-2.81c.8-.78.8-2.07 0-2.86zM5.41 20L4 18.59l7.72-7.72 1.47 1.35L5.41 20z\"/>\n",
              "  </svg>\n",
              "      </button>\n",
              "      \n",
              "  <style>\n",
              "    .colab-df-container {\n",
              "      display:flex;\n",
              "      flex-wrap:wrap;\n",
              "      gap: 12px;\n",
              "    }\n",
              "\n",
              "    .colab-df-convert {\n",
              "      background-color: #E8F0FE;\n",
              "      border: none;\n",
              "      border-radius: 50%;\n",
              "      cursor: pointer;\n",
              "      display: none;\n",
              "      fill: #1967D2;\n",
              "      height: 32px;\n",
              "      padding: 0 0 0 0;\n",
              "      width: 32px;\n",
              "    }\n",
              "\n",
              "    .colab-df-convert:hover {\n",
              "      background-color: #E2EBFA;\n",
              "      box-shadow: 0px 1px 2px rgba(60, 64, 67, 0.3), 0px 1px 3px 1px rgba(60, 64, 67, 0.15);\n",
              "      fill: #174EA6;\n",
              "    }\n",
              "\n",
              "    [theme=dark] .colab-df-convert {\n",
              "      background-color: #3B4455;\n",
              "      fill: #D2E3FC;\n",
              "    }\n",
              "\n",
              "    [theme=dark] .colab-df-convert:hover {\n",
              "      background-color: #434B5C;\n",
              "      box-shadow: 0px 1px 3px 1px rgba(0, 0, 0, 0.15);\n",
              "      filter: drop-shadow(0px 1px 2px rgba(0, 0, 0, 0.3));\n",
              "      fill: #FFFFFF;\n",
              "    }\n",
              "  </style>\n",
              "\n",
              "      <script>\n",
              "        const buttonEl =\n",
              "          document.querySelector('#df-ce3049c8-4b7a-4e36-85c4-4cc461be5e3f button.colab-df-convert');\n",
              "        buttonEl.style.display =\n",
              "          google.colab.kernel.accessAllowed ? 'block' : 'none';\n",
              "\n",
              "        async function convertToInteractive(key) {\n",
              "          const element = document.querySelector('#df-ce3049c8-4b7a-4e36-85c4-4cc461be5e3f');\n",
              "          const dataTable =\n",
              "            await google.colab.kernel.invokeFunction('convertToInteractive',\n",
              "                                                     [key], {});\n",
              "          if (!dataTable) return;\n",
              "\n",
              "          const docLinkHtml = 'Like what you see? Visit the ' +\n",
              "            '<a target=\"_blank\" href=https://colab.research.google.com/notebooks/data_table.ipynb>data table notebook</a>'\n",
              "            + ' to learn more about interactive tables.';\n",
              "          element.innerHTML = '';\n",
              "          dataTable['output_type'] = 'display_data';\n",
              "          await google.colab.output.renderOutput(dataTable, element);\n",
              "          const docLink = document.createElement('div');\n",
              "          docLink.innerHTML = docLinkHtml;\n",
              "          element.appendChild(docLink);\n",
              "        }\n",
              "      </script>\n",
              "    </div>\n",
              "  </div>\n",
              "  "
            ]
          },
          "metadata": {},
          "execution_count": 23
        }
      ]
    },
    {
      "cell_type": "markdown",
      "source": [
        "I will now gather some information about my joined dataset to make sure everything is in good shape before plugging the data into the model."
      ],
      "metadata": {
        "id": "KDuJ1jzKw3DP"
      }
    },
    {
      "cell_type": "code",
      "source": [
        "fig, axs = plt.subplots(2, 2)\n",
        "\n",
        "axs[0,0].scatter(joined['park_id'], joined['RecreationVisitors'])\n",
        "axs[0,1].scatter(joined['Year'], joined['RecreationVisitors'])\n",
        "axs[1,0].scatter(joined['Common'], joined['RecreationVisitors'])\n",
        "axs[1,1].scatter(joined['Min'], joined['RecreationVisitors'])"
      ],
      "metadata": {
        "colab": {
          "base_uri": "https://localhost:8080/",
          "height": 294
        },
        "id": "QD6lBMpaxOUn",
        "outputId": "749479a8-6ace-4d1a-80d8-9bc5cdd7565a"
      },
      "execution_count": 24,
      "outputs": [
        {
          "output_type": "execute_result",
          "data": {
            "text/plain": [
              "<matplotlib.collections.PathCollection at 0x7fb2dd8e0eb0>"
            ]
          },
          "metadata": {},
          "execution_count": 24
        },
        {
          "output_type": "display_data",
          "data": {
            "text/plain": [
              "<Figure size 432x288 with 4 Axes>"
            ],
            "image/png": "[encoded data removed]"
          },
          "metadata": {
            "needs_background": "light"
          }
        }
      ]
    },
    {
      "cell_type": "markdown",
      "source": [
        "At this point, it is clear that there is not much of a linear relationship between the factors I had hoped to incorporate into my final model.\n",
        "\n",
        "I can use a correlation matrix to see if there are measureable any non-linear correlations between these factors that I might have missed in the scatter plots"
      ],
      "metadata": {
        "id": "vv-nta9E4ZKP"
      }
    },
    {
      "cell_type": "code",
      "source": [
        "import seaborn as sns\n",
        "from pylab import rcParams\n",
        "\n",
        "def plot_correlation(data):\n",
        "    rcParams['figure.figsize'] = 3, 3\n",
        "    fig = plt.figure()\n",
        "    sns.heatmap(data.corr(), annot=True, fmt=\".2f\")\n",
        "    plt.show()\n",
        "    fig.savefig('corr.png')\n",
        "\n",
        "# plot correlation & densities\n",
        "plot_correlation(joined)"
      ],
      "metadata": {
        "colab": {
          "base_uri": "https://localhost:8080/",
          "height": 295
        },
        "id": "NqnJ4_Cw49M7",
        "outputId": "8f8f9a41-7fb7-4963-d350-ad0e52747bf0"
      },
      "execution_count": 25,
      "outputs": [
        {
          "output_type": "display_data",
          "data": {
            "text/plain": [
              "<Figure size 216x216 with 2 Axes>"
            ],
            "image/png": "[encoded data removed]"
          },
          "metadata": {
            "needs_background": "light"
          }
        }
      ]
    },
    {
      "cell_type": "markdown",
      "source": [
        "From this plot, I can conclude that the Mimimum and most Common order codes are strongly correlated with each other, which makes logical sense. These two are also correlated with the year, which follows given that order codes only became relevant in years 2020 and onwards. Unfortunately, none of these variables correlate very strongly with the recreation visitors. "
      ],
      "metadata": {
        "id": "_AsKBUxbcnZo"
      }
    },
    {
      "cell_type": "markdown",
      "source": [
        "# Model Revision"
      ],
      "metadata": {
        "id": "lfP7mok8qUXr"
      }
    },
    {
      "cell_type": "markdown",
      "source": [
        "In the end, I narrowed down the scope of my project to just four indpendent variables: Park Name, Year, Minimum Order Code, and Most Common order code. This included creating two features from the original CDC data. I also narrowed down my ouput to single dependent variable: Recreation Visitors. \n",
        "\n",
        "From this point, I was able to move forward and start evaluating different machine learning models."
      ],
      "metadata": {
        "id": "ZZ3th2nG91Cr"
      }
    },
    {
      "cell_type": "markdown",
      "source": [
        "## Linear Regression"
      ],
      "metadata": {
        "id": "a92VCxDwLZl6"
      }
    },
    {
      "cell_type": "markdown",
      "source": [
        " The first approach I plan on taking is to use linear regression to predict the number of visitors in a given year. I plan on using a 30/70 test/train split, and using MSE as my primary metric for evaluating performance. "
      ],
      "metadata": {
        "id": "D1kU_I6qLeTx"
      }
    },
    {
      "cell_type": "code",
      "source": [
        "# Import linear regression and the diabetes dataset\n",
        "from sklearn.linear_model import LinearRegression\n",
        "from sklearn.model_selection import train_test_split\n",
        "\n",
        "X = joined[['Min', 'Year', 'park_id']]\n",
        "y = joined['RecreationVisitors']\n",
        "\n",
        "# Split the targets into training/testing sets\n",
        "joined_X_train, joined_X_test, joined_y_train, joined_y_test = train_test_split(X, y, test_size=0.3, random_state=101)"
      ],
      "metadata": {
        "id": "0NYumQ5PVmDF"
      },
      "execution_count": 26,
      "outputs": []
    },
    {
      "cell_type": "code",
      "source": [
        "from sklearn.metrics import mean_squared_error\n",
        "from sklearn.metrics import r2_score\n",
        "from sklearn.metrics import mean_absolute_error\n",
        "\n",
        "# Create linear regression object\n",
        "regr = LinearRegression()\n",
        "\n",
        "# Train the model using the training sets\n",
        "regr.fit(joined_X_train, joined_y_train)\n",
        "\n",
        "# Predict the values of unseen items\n",
        "predicted_targets = regr.predict(joined_X_test)\n",
        "\n",
        "# model evaluation\n",
        "print('mean_squared_error : ', mean_squared_error(joined_y_test, predicted_targets))\n",
        "print('R2 score:', r2_score(joined_y_test, predicted_targets)) \n",
        "print('mean absolute error: ', mean_absolute_error(joined_y_test, predicted_targets))"
      ],
      "metadata": {
        "colab": {
          "base_uri": "https://localhost:8080/"
        },
        "id": "-pCL70d0TKXe",
        "outputId": "8d07d26b-70c4-4337-de48-1ceddfd9457f"
      },
      "execution_count": 27,
      "outputs": [
        {
          "output_type": "stream",
          "name": "stdout",
          "text": [
            "mean_squared_error :  2671626834070.2773\n",
            "R2 score: 0.0027588254509992582\n",
            "mean absolute error:  923262.3299300801\n"
          ]
        }
      ]
    },
    {
      "cell_type": "markdown",
      "source": [
        "Now I will try with both the \"common\" feature as well as \"min\"."
      ],
      "metadata": {
        "id": "b_610MDRut8I"
      }
    },
    {
      "cell_type": "code",
      "source": [
        "X = joined[['Min', 'Common', 'Year', 'park_id']]\n",
        "y = joined['RecreationVisitors']\n",
        "\n",
        "# Split the targets into training/testing sets\n",
        "joined_X_train, joined_X_test, joined_y_train, joined_y_test = train_test_split(X, y, test_size=0.3, random_state=101)\n",
        "\n",
        "# Create linear regression object\n",
        "regr = LinearRegression()\n",
        "\n",
        "# Train the model using the training sets\n",
        "regr.fit(joined_X_train, joined_y_train)\n",
        "\n",
        "# Predict the values of unseen items\n",
        "predicted_targets = regr.predict(joined_X_test)\n",
        "\n",
        "# model evaluation\n",
        "print('mean_squared_error: ', mean_squared_error(joined_y_test, predicted_targets))\n",
        "print('R2 score:', r2_score(joined_y_test, predicted_targets)) \n",
        "print('mean absolute error: ', mean_absolute_error(joined_y_test, predicted_targets))"
      ],
      "metadata": {
        "colab": {
          "base_uri": "https://localhost:8080/"
        },
        "id": "T75zl29Vu9OD",
        "outputId": "9f6fedd6-36c3-4577-b6d3-5a081b15694f"
      },
      "execution_count": 28,
      "outputs": [
        {
          "output_type": "stream",
          "name": "stdout",
          "text": [
            "mean_squared_error:  2676166085200.7617\n",
            "R2 score: 0.0010644540398390134\n",
            "mean absolute error:  922053.7744319125\n"
          ]
        }
      ]
    },
    {
      "cell_type": "markdown",
      "source": [
        "My MSE error is very large. This can be due to a combonation of the facts that my data does not look very linear, as well as the fact that I am dealing with large numbers of visitors. Since MSE is just the mean error squared, a difference of a few thousand visitors can quickly make this number inflate.\n",
        "\n",
        "However, I can mostly attribute this large error to the fact that there is probably not a large linear correlation to be found."
      ],
      "metadata": {
        "id": "cu6Ojkd781aI"
      }
    },
    {
      "cell_type": "markdown",
      "source": [
        "Plotting each of the predicted linear regression outputs confirms the non-linearity of this data."
      ],
      "metadata": {
        "id": "PxU_Yyvj1DKq"
      }
    },
    {
      "cell_type": "code",
      "source": [
        "# Plot outputs\n",
        "fig, (ax1, ax2, ax3) = plt.subplots(1, 3)\n",
        "ax1.scatter(joined_X_test.iloc[:, 0], joined_y_test, color=\"black\")\n",
        "ax1.plot(joined_X_test.iloc[:, 0], predicted_targets, color=\"blue\", linewidth=3)\n",
        "\n",
        "ax2.scatter(joined_X_test.iloc[:, 1], joined_y_test, color=\"black\")\n",
        "ax2.plot(joined_X_test.iloc[:, 1], predicted_targets, color=\"blue\", linewidth=3)\n",
        "\n",
        "ax3.scatter(joined_X_test.iloc[:, 2], joined_y_test, color=\"black\")\n",
        "ax3.plot(joined_X_test.iloc[:, 2], predicted_targets, color=\"blue\", linewidth=3)"
      ],
      "metadata": {
        "colab": {
          "base_uri": "https://localhost:8080/",
          "height": 240
        },
        "id": "ljKV490G0MzX",
        "outputId": "dd89f4a8-1bab-4585-e0ab-2556d30bba02"
      },
      "execution_count": 29,
      "outputs": [
        {
          "output_type": "execute_result",
          "data": {
            "text/plain": [
              "[<matplotlib.lines.Line2D at 0x7fb2d0c6fa00>]"
            ]
          },
          "metadata": {},
          "execution_count": 29
        },
        {
          "output_type": "display_data",
          "data": {
            "text/plain": [
              "<Figure size 216x216 with 3 Axes>"
            ],
            "image/png": "[encoded data removed]"
          },
          "metadata": {
            "needs_background": "light"
          }
        }
      ]
    },
    {
      "cell_type": "markdown",
      "source": [
        "Next, I will look into other supervised learning models."
      ],
      "metadata": {
        "id": "gpJ0FHuX2FJr"
      }
    },
    {
      "cell_type": "markdown",
      "source": [
        "## Random Forest"
      ],
      "metadata": {
        "id": "jM1tFFHILPaD"
      }
    },
    {
      "cell_type": "markdown",
      "source": [
        "Another regression approach is random forest regression, which is more suitable for accounting for non-linearity in a regression task. "
      ],
      "metadata": {
        "id": "rx21xtajKE_S"
      }
    },
    {
      "cell_type": "code",
      "source": [
        "from sklearn.ensemble import RandomForestRegressor\n",
        "\n",
        "# Get data\n",
        "X = joined[['Min', 'Common', 'Year', 'park_id']]\n",
        "y = joined['RecreationVisitors']\n",
        "\n",
        "# Split the targets into training/testing sets\n",
        "joined_X_train, joined_X_test, joined_y_train, joined_y_test = train_test_split(X, y, test_size=0.3, random_state=101)\n",
        "\n",
        "# Create Random Forest\n",
        "forest_regr = RandomForestRegressor()\n",
        "\n",
        "# Train the model using the training sets\n",
        "forest_regr.fit(joined_X_train, joined_y_train)\n",
        "\n",
        "# Predict the values of unseen items\n",
        "predicted_targets = forest_regr.predict(joined_X_test)\n",
        "\n",
        "# model evaluation\n",
        "print('mean_squared_error : ', mean_squared_error(joined_y_test, predicted_targets))\n",
        "print('R2 score:', r2_score(joined_y_test, predicted_targets)) \n",
        "print('mean absolute error: ', mean_absolute_error(joined_y_test, predicted_targets))"
      ],
      "metadata": {
        "colab": {
          "base_uri": "https://localhost:8080/"
        },
        "id": "L0MFSg2bKAqC",
        "outputId": "22dcfbed-12f2-4ed7-87b2-31f5abbff0e8"
      },
      "execution_count": 30,
      "outputs": [
        {
          "output_type": "stream",
          "name": "stdout",
          "text": [
            "mean_squared_error :  58130658550.91647\n",
            "R2 score: 0.9783015032371478\n",
            "mean absolute error:  103681.08018545994\n"
          ]
        }
      ]
    },
    {
      "cell_type": "markdown",
      "source": [
        "This model has a slightly lower MSE, a much higher R2, and a similar MAE to the linear regression model. From this, I can conclude that while fitting the data differently, it has a similarly poor performance."
      ],
      "metadata": {
        "id": "RN65WRPZbxgp"
      }
    },
    {
      "cell_type": "markdown",
      "source": [
        "## K-Nearest-Neighbors"
      ],
      "metadata": {
        "id": "H6p33BkP9b-U"
      }
    },
    {
      "cell_type": "markdown",
      "source": [
        "For my final attempt I will use a k-nearest-neighbors model. This model is primarily used for clustering, but I think it would be worth exploring since each park has it's own range of recreational visitors. For example, a large park like Yellowstone would see wildly different amount of visitors than a small state park. In this case, a knn model might be able to account for this behavior. "
      ],
      "metadata": {
        "id": "mEHQb4lBr_ee"
      }
    },
    {
      "cell_type": "code",
      "source": [
        "from sklearn.neighbors import KNeighborsClassifier\n",
        "\n",
        "X = joined[['Min', 'Year', 'park_id']]\n",
        "y = joined['RecreationVisitors']\n",
        "\n",
        "# Split the targets into training/testing sets\n",
        "joined_X_train, joined_X_test, joined_y_train, joined_y_test = train_test_split(X, y, test_size=0.3, random_state=101)\n",
        "\n",
        "# Fit the model\n",
        "knn = KNeighborsClassifier(n_neighbors = 5)\n",
        "knn.fit(joined_X_train, joined_y_train)"
      ],
      "metadata": {
        "colab": {
          "base_uri": "https://localhost:8080/"
        },
        "id": "l5eGzKDU9SSz",
        "outputId": "94093fd7-d9c7-43c0-e800-a8a9d103b40d"
      },
      "execution_count": 31,
      "outputs": [
        {
          "output_type": "execute_result",
          "data": {
            "text/plain": [
              "KNeighborsClassifier()"
            ]
          },
          "metadata": {},
          "execution_count": 31
        }
      ]
    },
    {
      "cell_type": "code",
      "source": [
        "knn.score(joined_X_test, joined_y_test)"
      ],
      "metadata": {
        "colab": {
          "base_uri": "https://localhost:8080/"
        },
        "id": "IcAQrDFK-Q-l",
        "outputId": "9b2d3876-5eb7-44e8-916a-88b0eea0525a"
      },
      "execution_count": 32,
      "outputs": [
        {
          "output_type": "execute_result",
          "data": {
            "text/plain": [
              "0.002967359050445104"
            ]
          },
          "metadata": {},
          "execution_count": 32
        }
      ]
    },
    {
      "cell_type": "markdown",
      "source": [
        "This result seems to be just as inaccurate as the linear regression model. "
      ],
      "metadata": {
        "id": "vJZgU9QasMeX"
      }
    },
    {
      "cell_type": "code",
      "source": [
        "k_range = range(1,20)\n",
        "scores = []\n",
        "\n",
        "for k in k_range:\n",
        "    knn = KNeighborsClassifier(n_neighbors = k)\n",
        "    knn.fit(joined_X_train, joined_y_train)\n",
        "    scores.append(knn.score(joined_X_test, joined_y_test))\n",
        "\n",
        "plt.figure(figsize=(3, 3))\n",
        "plt.xlabel('k')\n",
        "plt.ylabel('accuracy')\n",
        "plt.scatter(k_range, scores)\n",
        "plt.xticks([0,5,10,15,20]);"
      ],
      "metadata": {
        "colab": {
          "base_uri": "https://localhost:8080/",
          "height": 225
        },
        "id": "5Ifd2swK-gyt",
        "outputId": "67fcbc65-44d0-4fe4-c519-5f917963442e"
      },
      "execution_count": 33,
      "outputs": [
        {
          "output_type": "display_data",
          "data": {
            "text/plain": [
              "<Figure size 216x216 with 1 Axes>"
            ],
            "image/png": "[encoded data removed]"
          },
          "metadata": {
            "needs_background": "light"
          }
        }
      ]
    },
    {
      "cell_type": "markdown",
      "source": [
        "For my data, it seems the model might perform better with 2-4 neighbors instead. However, I will keep this at 5 to avoid overfitting my data. "
      ],
      "metadata": {
        "id": "I9PTXzLGKYjK"
      }
    },
    {
      "cell_type": "markdown",
      "source": [
        "# Final Analysis"
      ],
      "metadata": {
        "id": "uH-1UGzrc-Id"
      }
    },
    {
      "cell_type": "markdown",
      "source": [
        "Final Analysis section should make an argument for your final findings and present them in a cohesive, coherent manner (basically, this is your full presentation of the insights you gained from your machine learning/data science analysis). So the main difference from Milestone 4 will be a full discussion and presentation of your final findings and results from your analyses and revision so far."
      ],
      "metadata": {
        "id": "WipWIhaA8shM"
      }
    },
    {
      "cell_type": "markdown",
      "source": [
        "My inital question was: *Using the NPS and CDC datasets, can we use a linear regression model to predict the visitation in a park with 70% accuracy knowing the **date**, the **park** and the state’s **gathering ban status**?*\n",
        "\n",
        "From exploring my data and creating models, I was able to  learn that my Recreational Visitors to national parks have a non linear correlation with each of my predictor variables, although I was able to come up with some interesting visualizations for both the CDC and National Park datasets sepearately. \n",
        "\n",
        "During my Data Visualization, I was able to disprove part of my inital hypothesis, which was that Covid-19 would *increase* Recreational Visitors. I was unsure if it would be an increase or a decrease. Here, the sharp decrease in visitors during 2020 is easily visualized. However, the reasoning behind this can differ. Some parks shut down due to Covid and did not permit any visitors. Other parks remained open but unstaffed, which led to a drop in recorded visitors, but an unknown amount of actual. That is outside the scope of this project, but it would be interesting to incorporate mobility data (like in the related work talked about previously) to see if \"Recreation Visitors\" reflects the true visitor data.\n",
        "![image.png](data:image/png;base64,iVBORw0KGgoAAAANSUhEUgAAAXQAAAEDCAYAAAAlRP8qAAAMbWlDQ1BJQ0MgUHJvZmlsZQAASImVVwdYU8kWnluSkJDQAqFICb0JIr1ICaFFEJAq2AhJIKHEmBBE7OiyCq5dRLGiqyKKrgWQRUXUtS6K3bUsFlSUdbGgKCpvUsCyr3zvfN/c+e+ZM/8pd+beOwBo93ElkjxUB4B8cYE0ITKUOS4tnUl6DAhgGNAFFGDC5ckkrPj4GABlsP9W3l4HiKK/4qLg+uf4fxU9vkDGAwCZAHEmX8bLh7gFAHw9TyItAICo0FtPK5Ao8FyI9aUwQIhXKXC2Cu9U4EwVblbaJCWwIb4EgAaVy5VmA6B1B+qZhbxsyKP1EWI3MV8kBkB7OMRBPCGXD7Ei9uH5+VMUuBJiB2gvgRjGA3wzv+LM/oY/c4ify80ewqq8lKIRJpJJ8rjT/8/S/G/Jz5MP+rCDjSqURiUo8oc1vJk7JVqBqRB3izNj4xS1hrhPxFfVHQCUIpRHJavsUVOejA3rBxgQu/G5YdEQm0IcIc6LjVHrM7NEERyI4WpBi0QFnCSIjSBeKJCFJ6ptNkunJKh9ofVZUjZLrT/DlSr9Knzdk+cms9T8r4QCjpof0yoWJqVCTIHYplCUEguxFsSustzEaLXNqGIhO3bQRipPUMRvA3GCQBwZquLHCrOkEQlq+7J82WC+2GahiBOrxvsLhElRqvpgJ3lcZfwwF+ySQMxKHuQRyMbFDObCF4SFq3LHngrEyYlqnj5JQWiCai5OkeTFq+1xK0FepEJvBbGnrDBRPRdPKYCLU8WPZ0kK4pNUceLFOdzR8ap48GUgBrBBGGACOWyZYArIAaK27oZueKcaiQBcIAXZQABc1JrBGanKETG8JoJi8BdEAiAbmheqHBWAQqj/NKRVXV1AlnK0UDkjFzyGOB9Egzx4L1fOEg95SwGPoEb0D+9c2Hgw3jzYFOP/Xj+o/aJhQU2MWiMf9MjUHrQkhhPDiFHECKIjboIH4QF4DLyGwOaO++J+g3l8sSc8JrQTHhCuEToItyaLSqTfRTkGdED+CHUtMr+uBW4HOb3wUDwQskNmnIGbABfcE/ph4cHQsxfUstVxK6rC/I77mwy+ehpqO7IbGSUbkkPIDt/P1HLS8hpiUdT66/qoYs0cqjd7aOR7/+yvqs+HffT3lthC7AB2GjuOncWasQbAxI5hjdgF7IgCD62uR8rVNegtQRlPLuQR/cPf4JNVVFLmVuvW5fZRNVYgKCpQbDz2FMl0qShbWMBkwa+DgMkR81yHM93d3N0BUHxrVK+v1wzlNwRhnPuiK3kDQCB/YGCg+YsuBu71gz/A7f/4i87+KHxNGAJwppwnlxaqdLjiQoBvCW2404yBObAGDjAfd+ANAkAICAejQRxIAmlgEoxeCNe5FEwDM8E8UArKwTKwGqwDm8BWsBPsAftBA2gGx8Fv4Dy4BK6B23D1dILnoAe8Bf0IgpAQGkJHjBELxBZxRtwRXyQICUdikAQkDclAshExIkdmIvORcmQFsg7ZgtQgvyCHkePIWaQduYXcR7qQV8gHFEOpqD5qhtqhI1BflIVGo0noRDQbnYoWowvQJWglWo3uRuvR4+h59BragT5HezGAaWIMzBJzwXwxNhaHpWNZmBSbjZVhFVg1Voc1wed8BevAurH3OBGn40zcBa7gKDwZ5+FT8dn4YnwdvhOvx0/iV/D7eA/+mUAjmBKcCf4EDmEcIZswjVBKqCBsJxwinIJ7qZPwlkgkMoj2RB+4F9OIOcQZxMXEDcS9xBZiO/EhsZdEIhmTnEmBpDgSl1RAKiWtJe0mHSNdJnWS+jQ0NSw03DUiNNI1xBolGhUauzSOalzWeKLRT9Yh25L9yXFkPnk6eSl5G7mJfJHcSe6n6FLsKYGUJEoOZR6lklJHOUW5Q3mtqalppemnOVZTpDlXs1Jzn+YZzfua76l6VCcqmzqBKqcuoe6gtlBvUV/TaDQ7WggtnVZAW0KroZ2g3aP1adG1XLU4WnytOVpVWvVal7VeaJO1bbVZ2pO0i7UrtA9oX9Tu1iHr2Omwdbg6s3WqdA7r3NDp1aXrjtSN083XXay7S/es7lM9kp6dXrgeX2+B3la9E3oP6Rjdms6m8+jz6dvop+id+kR9e32Ofo5+uf4e/Tb9HgM9A0+DFIMigyqDIwYdDIxhx+Aw8hhLGfsZ1xkfDM0MWYYCw0WGdYaXDd8ZDTMKMRIYlRntNbpm9MGYaRxunGu83LjB+K4JbuJkMtZkmslGk1Mm3cP0hwUM4w0rG7Z/2B+mqKmTaYLpDNOtphdMe83MzSLNJGZrzU6YdZszzEPMc8xXmR8177KgWwRZiCxWWRyzeMY0YLKYecxK5klmj6WpZZSl3HKLZZtlv5W9VbJVidVeq7vWFGtf6yzrVdat1j02FjZjbGba1Nr8YUu29bUV2q6xPW37zs7eLtXuR7sGu6f2RvYc+2L7Wvs7DjSHYIepDtUOVx2Jjr6OuY4bHC85oU5eTkKnKqeLzqizt7PIeYNz+3DCcL/h4uHVw2+4UF1YLoUutS73XRmuMa4lrg2uL0bYjEgfsXzE6RGf3bzc8ty2ud0eqTdy9MiSkU0jX7k7ufPcq9yvetA8IjzmeDR6vPR09hR4bvS86UX3GuP1o1er1ydvH2+pd513l4+NT4bPep8bvvq+8b6Lfc/4EfxC/eb4Nfu99/f2L/Df7/93gEtAbsCugKej7EcJRm0b9TDQKpAbuCWwI4gZlBG0Oagj2DKYG1wd/CDEOoQfsj3kCcuRlcPazXoR6hYqDT0U+o7tz57FbgnDwiLDysLawvXCk8PXhd+LsIrIjqiN6In0ipwR2RJFiIqOWh51g2PG4XFqOD2jfUbPGn0ymhqdGL0u+kGMU4w0pmkMOmb0mJVj7sTaxopjG+JAHCduZdzdePv4qfG/jiWOjR9bNfZxwsiEmQmnE+mJkxN3Jb5NCk1amnQ72SFZntyaop0yIaUm5V1qWOqK1I5xI8bNGnc+zSRNlNaYTkpPSd+e3js+fPzq8Z0TvCaUTrg+0X5i0cSzk0wm5U06Mll7MnfygQxCRmrGroyP3DhuNbc3k5O5PrOHx+at4T3nh/BX8bsEgYIVgidZgVkrsp5mB2avzO4SBgsrhN0itmid6GVOVM6mnHe5cbk7cgfyUvP25mvkZ+QfFuuJc8Unp5hPKZrSLnGWlEo6pvpPXT21Rxot3S5DZBNljQX68Kf+gtxB/oP8fmFQYVVh37SUaQeKdIvERRemO01fNP1JcUTxzzPwGbwZrTMtZ86beX8Wa9aW2cjszNmtc6znLJjTOTdy7s55lHm5834vcStZUfJmfur8pgVmC+YuePhD5A+1pVql0tIbPwb8uGkhvlC0sG2Rx6K1iz6X8cvOlbuVV5R/XMxbfO6nkT9V/jSwJGtJ21LvpRuXEZeJl11fHrx85wrdFcUrHq4cs7J+FXNV2ao3qyevPlvhWbFpDWWNfE1HZUxl41qbtcvWflwnXHetKrRq73rT9YvWv9vA33B5Y8jGuk1mm8o3fdgs2nxzS+SW+mq76oqtxK2FWx9vS9l2+mffn2u2m2wv3/5ph3hHx86EnSdrfGpqdpnuWlqL1spru3ZP2H1pT9iexjqXui17GXvL94F98n3Pfsn45fr+6P2tB3wP1B20Pbj+EP1QWT1SP72+p0HY0NGY1th+ePTh1qaApkO/uv66o9myueqIwZGlRylHFxwdOFZ8rLdF0tJ9PPv4w9bJrbdPjDtx9eTYk22nok+d+S3itxOnWaePnQk803zW/+zhc77nGs57n6+/4HXh0O9evx9q826rv+hzsfGS36Wm9lHtRy8HXz5+JezKb1c5V89fi73Wfj35+s0bE2503OTffHor79bLPwr/6L899w7hTtldnbsV90zvVf/p+OfeDu+OI/fD7l94kPjg9kPew+ePZI8+di54THtc8cTiSc1T96fNXRFdl56Nf9b5XPK8v7v0L92/1r9weHHw75C/L/SM6+l8KX058Grxa+PXO954vmntje+99zb/bf+7sj7jvp3vfd+f/pD64Un/tI+kj5WfHD81fY7+fGcgf2BAwpVylb8CGGxoVhYAr3YAQEsDgA7PbZTxqrOgUhDV+VWJwH/CqvOiUrwBqIOd4jee3QLAPtjs5kLuEAAUv/BJIQD18BhqapFlebiruKjwJEToGxh4bQYAqQmAT9KBgf4NAwOftsFgbwHQMlV1BlUIEZ4ZNnsq0GVG0VzwnajOp1/l+H0PFBEop3/T/ws7CI9/VvbbTQAAADhlWElmTU0AKgAAAAgAAYdpAAQAAAABAAAAGgAAAAAAAqACAAQAAAABAAABdKADAAQAAAABAAABAwAAAAAUPqsfAABAAElEQVR4AexdB3wU1fY+6b03CEkIXekIojQBESuKqKh/e+9d3/P5fPZnf/aGvmfvimKv2AARpEjvJSSEkN77bvb/fXczYVl2k91kk2zCPfmdzMyddufM7Ddnzj1FRJOWgJaAloCWgJaAloCWgJaAloCWgJaAloCWgJaAloCWgJaAloCWgJaAloCWgJaAloCWgJaAloCWgJaAloCWgJaAloCWgJaAloCWgJaAlsBBIYHXcJV54HUuXO1T2GZVI2/BtMSFffQmWgJaAloCWgIdJIGjcJ7DwK4Aum2XrscCXwaatAS0BLQEtAS8SALp6IstoPfD8nfgFeCF4EPA9rQYDdPtG/WyloCWgJaAlkDnSiAdp7cF9J+wPKCxS0dg+nPjvDHpjZkcsJ/RoKdaAloCWgJaAiL+XiaEcPRnPPhjm34F2cxz9mzwXLCZC5q0BLQEtAS0BLxHAunoiqGhR2Ke2ndz9BdWEvQ1aQloCWgJaAnYSMDXZt4bZsvQiZ3g2Y2d8cF0ROM8J7Snx4D/4IImLQEtAS0BLQHvkcD76Ao18nrwbvCl4D5gDoquBm8A3w026F7MPGIs6KmWgJaAloCWgJaAloCWgJaAloCWgJaAloCWgJaAloB3SoA26k6huLg4S3p6eqecW59US0BLQEugq0pgxYoVBeh7gqP+d5rbIsF8+fLljvqk27QEtAS0BLQEnEjAx8dnl5NV4m1eLs76qdu1BLQEtAS0BFqQgAb0FgSkV2sJaAloCXQVCWhA7yp3SvdTS0BLQEugBQloQG9BQHq1loCWgJZAV5GABvSucqd0P7UEtAS0BFqQgAb0FgSkV2sJaAloCXQVCWhA7yp3SvdTS0BLQEugBQloQG9BQHq1loArEigryJMVX38umetWi6muzpVd9DZaAh6XgDuBRSwowUigbPAMu54EYfkt8GhwIfgscAZYk5ZAt5aA2VQvSz//RP787CMxNwK5X0CA9Bx4qKQPGympQ4ZLj34DxNdP12Pp1g+Cl1ycO4B+I/q8Ecyc5fbELInF4P5gFqB4FExQ16Ql0C0k0NDQIGVlZVJQUNDEOZs3SumaZeJTUyX14dFS12uA+NTXin9VuezatlV2r1+jrt3H31+CE3tKdFofSeo/SJL69JXIyCiJiIiQ8PBwCcALQJOWgCck4Cqgp+BkJ4EfBN/i4MQz0XZvY/tcTJ8HM0+MpbFNT7QEuoQE6uvrpbCwsAm0DQBnG9eRfKCVhxbsEd/ifAkIC5e+J50uA8aOk6ioKKmurpby8nLFxfl5Urhzm5RnZ0o1TDLVe7IkZ8kCafDzF3NohJjDIsUUFiHBkdESERmpAJ4g74gJ/H5ay+8Sz1BndtJVQH8anfw7OMJJZ3uhPatxnQnTUnAcuKCxTU+0BLxGAhaLRaqqqvYD7fz8fLVcUlKyXz+jo6MlPj5emHsoLjZWyrZvkg3ff6Xs5IfPOkuOmDVbAoKC99vH2UJpfq5s/2uFZKz5S3I2bZCavdaUHP54KUhcopSFR0leYIhU1NUL+2hPYWFh+4F9YmKiDBkyRLXZb6uXD04JUItuiWgvPxF8DXgK+DYw22yJJeSOB+9ubNyOKQs82wP6FWgjS1pa2uhdu6wPNJc1aQl4WgJms1kI0IaWbTulJm2QP0wiBG17jgWABwYGqs32btsi8199UXJ3bJO0ocPl6EuulrheqcYh3J4SsItzsjGIukayMJCauWGt1JSzYJdIbHKK9Bh0qMT27iuhPVKkFtdhaP2208rKSkGiJunXr5+MGDFCBg0a1NRftzukd+gyEsA9X4HOjnHUYVcA/WHseD6YmjdVEdrQPwWfBzboe8zcC/4DTK1/L5jpHQ9UM9BIGj16tEVnW7TKQv/3vAS2b98u8+bNk4qKiqaDU8O1Be2EhAS1HAlzh6+vY4evGuy/6IO3ZPX8byUsKlomX3CZHDL+KAWkTQf2wIwFNvr8zAzJXLtKMmF7371xvdTX4KUDwE4EsKcNGyFpGGDtdegQCQwOUWfkV8Xq1atlzZo1yr7Pl8/gwYNl+PDh6ovC2TV5oLv6EJ0ogbYCum3Xp2DBkYZ+LdqHga8Cc1D0NPCZYKekAd2paPSKNkiAWvmvv/4qCxcuFAL2+PHjm0A8JMQKhK4cnhr0hgU/y2/vvAbNuVxGHn+STDjzPAkKDXNl9zZvYzaZZO/2rdDgV0GDXyN7tmwUttFbpgcGVtOGjpBehwyWhLR0CY6IlMzMTAXuGzZskDp42/AlRWAn0zSjqftIoL0A/X6IaDn4CzA197fBo8BFYIL6DrBT0oDuVDR6RSslUFpaKp988okCt1GjRskJJ5zQKhNEQdYu+enVl6Alr5OeAwbJtEuvgWdKv1b2yjO71dfWyJ7Nm6C9wzwDE03u9m2wszeogweHR0h8am+JA8f07CUVaM7ML5AdmVnKFt+zZ08F7MOGDVNeNZ7pkT5KZ0nAk4DusWvQgO4xUeoDQQJbt26VTz/9VEzQYmfMmKFsyu4Kpg4mjj/mvi8rv/lcAkNCZdI5F8mwqdPFx4k5xt3je3L72qpK2PO3C18+hbt3YZophZhnu0GhUTESADNRFQyf5aYGaQgKld6HDpZRo8fIIYccot0lDUF1sakG9C52w3R3XZcATSw///yz/P7775KUlCRnnHGGMrW4fgQM9MC8su3PP+TnN1+RisICGTr1WID5hRIKX/GuRLyOiqJCBewEeoK8Any4TZpqa5supSEgUCzBYRKXkir9YZsfNPIwaPdpEhDI+EBN3i4BDejefod0/1olAXqw0MSSlZXFQXY5/vjj3dY6S/bmyM+vz5Gdq1Yoe/S0y66VXvAw6U7EAddS+MQrkM/cKZkw3eRm7JDa0mLxwUtAEQZfIxMS1QBsfFpvZcKhGSe6R7L4wQtIk/dIQAO699wL3RMPSWDz5s3y2WefCTX0k08+WWgfdoeYb2XZF5/IUoTs+yLQhwOeo46fcVCF6FfDF3/V0j9k/bI/JX/XTvGprZZAc51Yqqv42aLESdnEJveCNp8m4XDjDAoNlyB4C3FwWLH9PExV3miicufZ8PZtNaB7+x3S/XNZArSR//TTT/LHH39Ijx49ZPbs2RIXxxg21ylj9Ur56bWXhNr5oHGT4Ip4qUTExrt+AAdb7qnYI/N3zZdxyeNkQMwAB1t4dxPdO9euXas8Zfbu2SN+SGHQMzpSYoNhhqmulCJEuVZh0Fm5UjZ3KdD0gwDqgaGhEkzQR9CU7bx6GWA9263z3KaRG18S+ougOQHTk7VtfujNH72Va/WgaCsFdxDvVlxcLHPnzpXs7Gw5/PDD5dhjj3XLxFJeVCC/vvk/2bJkEbxBklVwUPpwOma1nmi3/mzbZ/Loskelst46IDkyYaTMHjRbju19rAT70wGsa1FeXp4CdgI889cEBQUp/3Z6ywQD4AMA2jTC+FjM4oMvJCYlq8NgLAdkFSPgidMaTNlew3bVVoH2fdq/M6n443zRiT3k1L/fJVGYatpfAhrQ95eHXuqCEti4caN8/vnnagDzlFNOUSHvrl4G/bf/+u5LWfzxe2IBAB0x60wZc8rp4t/GpFgF1QVy3+L75Nfdv8qYpDHyt8P/Jsv2LpO5W+ZKRlmGRAZGyin9TpHZA2dL3+i+rnbXa7ZjQrKMjAwVuGT4tzvqHHPM0Mc/FFp5S9NggHWAH4K4cB9M8CqyfwkQ+GsqK2TN/O+kz8jRcvItdzg65UHdpgH9oL79XfviaWL58ccfZenSpZKcnKy8WBiS7yplI2cKQ/YLEIXZZ9QYOfriqyQ6qe1a3w8ZP8gDSx6QqvoqufGwG+W8weeJrw+ACkStncD+8ZaPZX7mfDE1mGR00mgF7NN7T5dAP2s6AVevwRu241gF898wZYKzqaN1fCk4I2r+zl4Cxev+kh0Lf5Kz7n1EUg4d6uwQB2W7BvSD8rZ3/YsuKiqSjz/+WHJycuSII46Q6dOnC/OuOCMCaXlhPvyys5Tr3p6tm2Tr0sUSEZcgUy++QvqPObLNIfultaXy8J8Py9c7vpYhcUPkoYkPNat9F1YXyufbP1dae1Z5lkQHRcvMfjPljIFnSHpUurNL6RbtvB+1cJd0BPTOXgpsZ6SrNJglce9OiYyLl3MffFIPtNo8ERrQbYShZ7uGBNavXy9ffPGFAuCZM2fKoYfucyW0B+6C3ZlSRBCHv3WdTdKtUATVDJlyjIw77WwJCG67Lfv37N/l7sV3S1F1kVwx4gq5bNhlEuAb4JJAGxDVuTRnqdLaf8n8RUwWk4ztMVZp7dPSpsEM4dpxXDpZF9+IoP7YY4/JsJ6JkvHzN3L8NTfLkMnTuvhVea77GtA9J0t9pHaWAHOO//DDD7Js2TJlYjnxmKOlvqzUGizTDHDHIzAmLgXh7wiWoYsdOQQ5TjxBNKs8sfwJ+WjLR9Ivqp88OOlBpZ239ti0vXMglbb27IpseJLEysz+M2X2gNmSGtn6DI6t7Y837jdnzhw1GBu4ba0K9rrk6Vc88lL2xmt1t08a0N2VmN6+QyVgaNw7N6yXBd99I5UoBhEZiCIQSCfLcHyDqHETuGN7pampp4HbOI/t9K+8v+TORXfK7vLdcsHgC+T6w66XID/PRFRSa1+8Z7F8vPlj+W33b2KG18iRPY+UMwedKVNSp7is/dv2t7vMf/fdd8JsrBecdqp8fN8/5MjT/w+xAud2l8tr03U0B+jODZJtOqXeWUvgQAlYgbsANm5r3pHCbNq6MW9nKglHsqmEpF4Se9jhHQbc9r2tQ4DN86uelzfWvSHJ4cny2nGvyZgeDlNQ2+/q8jIHUSf2mqg4rypPPt36qXyy9RO55ddbJD4kXmb1nyWnDzxdeoWzfszBRb1795YlS5aIBRWdBiFd8fIvP5Xh047DeEjb4gW6uxRdyYfeLjLQfujtIlavOyj9jpnje8dfyyVj1XKpKGYyTitR447tlYLEURbJLSuXeJhMTj3nXElCW2fSpqJNcsfCO2RbyTY1eHnbmNskLKCD0uZiMPD3Pb8rrX1B9gLlMTO+13hla5+cMln8fQ8OHYzFOx5//HE5+uijZeShh8jrN18lA46cICded2tnPhpecW6toXvFbTg4OkEtnBr4TgA486Nkb1oPhwWzyl7IIJ5UFGlgjpBY2Lora+uUFwsDWSaePF2mTp3aqXUz6V742rrX5KVVL0lMcIy8MO0FOSrlqA69cX6+fuqcPO/eyr1NWvtNv9wkiSGJMmsAtPYBp0vP8J4d2q+OPhmLkTCPO6uaHXXUUTJ6xqmydN5HKj1DT+SD1+RYAlpDdywX3eqGBGjnZim1nX8tUyBeXpCv9mbxhXT4fvcdOUZ6DjxkvyRPrLTz1VdfqUjPWbNmyYABnRsuv7N0p/xr0b9kTcEaOSH9BLnzyDslKsg7si3yRbNw90I1KEtPG2hoykxzziHnyPjk8W12xXTjVnfopl9//bWsWrVK/vGPfyAatVZeu+lKFTl69v2PddtrdkXAWkN3RUp6G5clQC2c9TCphdOUko1CEIzGDEBptN7DRsqRp52FKL8xDu2d9DH+5ptv1A+VdtLTTz9dVddx+eQe3pADk+9vel+eXvG0BPkHyeOTH5fj04/38FnadjiaWaamTVVMr5hPtnwi87bNk6vmXyWH9zhcbhl9iwyN737BN3w+6O3EOISUlBSZcNb58sPLz8rmPxaqMoBtk2r33NsVDZ0OvAvAHNqnAW8u+B6wLV2EhcfB2Y2Nz2P6v8Z5hxNtQ3coFq9tZMWcLBQyVqYUgHhpXq7qKz1N0hGi3ReaOEui+fk796feu3evSnfLWpj8jJ48eXKnmliYUOuu3++SP/f+qcwc9467VxJCWQrX+6neXC9zt86VOavnSFFNkXoJ3TDqhm7l9siC2E888YQKKJswYYI0YHzhnTtuRl6YCrn4yTni31jA2/vvlmd72JyG7gqgcxuOCFWA+WtdBL4RvARs0EWYoQvAdUZDS1MN6C1JqPPXMxshNfCdGMzcvX6tmOrrhImTWM+SGjhzbUQlJrXYUQ5wsc4n3dAY6n3aaaepSvUt7thOG/ALw0ioxfnbx96uPEpoyuhqVFFXIa+vf13e3vC21DfUy1mDzpIrhl+hfNu72rU46u9zzz2nsmmec845ajVNex8/8E+ZePYFKiePo326e1tzgO7KkDkTIxPMSQR0Mts0uSEB5t+uKiuRKhRlqCzFtHG+Ss2XIjVpsVRiXTV8r30R3h6M9KLB4WCVZtQ6Ze1ItdzYbr+eBYTbQuwj62gaA5o0q5BYp3L49BMUgDOvhquaEfN/8JOZYM4QcGZInDJligL1tvSzLfuqhFp/IKFWljWh1gMTHpCUiM71qmnL9YQHhsv1o66XswedLS+uflE+2PSBelldMvQSOX/w+RLi73ph7Lb0o732pdmFUcPMCePr6wtlYrj0QwqHpZ99jMpS0yUsOqa9Tt0lj+uqSkKkWAHuD34BfDvYli7CwsNgjoZtAd8MzgLb0xVoIEtaWtpojmB3VaJmxzBzAjHzRBOYFVDbLVcDuAnUdSwa4IBodw6D+x5d+EKjolD2LFrZo5lxjp+WnNZUlKupbRkxB4dSniQEeeaadvpC2G99hFjwGbtr7Wo1oJm5fo0qVeaPEmWpQ4apZFbUxKN7uO9RwRqf33//vRQUFCht/Ljjjuv06vM/7vpRHvjjAZXm1j6hliN5dsW2HSU75OmVT8svWb8or5hrRl6jolC7qrsjB8/nzZsnV155pTB9L4mKxhu3Xot0AEfLsVfe0BVvU5v63JyG7iqgGx2Ixsw88PXgdUYjpqwwQC2+Fnwl+Czw0WCn5K0mFxNCzyvhK01/6bKifNm1Z4sUF+aKuaJaTBVVUk8uB9iWV0oDtnVE1KQJ0PuA2gBs63Rfe5QEBLmeY8Rsqge4GyBvC/hW0G96AaiXgO36cjE76avR/yhkIFRmlFGjJXXwMLf6ZRyDU9rHCeTbtm0TZkUkkA8cOLBTvRLcTahlez1ddX5l7kp5YsUTsiZ/jUpXcNPom4R+7F3NrFQKZempp55S5QWPPPLIptvx61v/kxUo5n3+I89IYnrfpvaDYcaTgE553Q2muvkfLjggavOMHmnW56ujAd0A6soSK1hXIJMf5w3wJoCzAEId7L321OBjkZpAM7hBqoPMirlcHdSg2tlmu2zxxeixj79KuETNiAmcDFbLSMRkLDdNG9sCfQNlUsokObHPiUKfZE9RPdy+ao2XgQ3g8yVBMwrNKm35sTOjHk0rNLEEIM84BzzHjh3bbHZET11bc8dZnL1Y7lp8lzWhFmzLlw13PaFWc8ftCuv4FflT5k/yzMpnVH72wxIPk1vH3CrDE4Z3he439fHpp59W2vlZZ1FPtBK/XF+98QpVB3b2XQ+26dk1jtlVps0Buis2dA77UxUtAdMgNx38KNiW+C2U09hwCqYbbVe25zyBuqqkWGnUVnAuBFBjGYBdUdw4D7CugW3anlTtw7BAqQ5ukGL/SimNq5GqXmapg9KckNBLeicPlEPShktaYj8xS4MadOLAUxPD04A+wrbLnN+vjdtju6ZtHCxXmaD111m3oTb5bca38r+1/5OrR16tqt4Yebbt++/OMiu6B8QGoS6ke+XaWjoH7eQrVqyQX375RWpqauSwww5TAULhMO10BjFknxGem4s2y9K9S1WaWybUevboZ9uUUKszrqWt5+QL+pjex8jk1Mkyb+s8eXHVi3LuN+cKc7LT5NQ7sndbT9Eh+9OOThMeX1CG0kGT4vjZ58jPr82R7cuXSv/D92nvHdKpNpyE5tdAlOFrD3LF5MLX+ZtgqovQPeUj8P2NvBzTL8C0nxPITeAi8NXgTWCn1FoNffeGdaqwLzVqAjgHEe2JQB0WEyvhGDAJi4mTkOgoqQoySYFvmWRacmVzXYbsNGcrjZsPSN+ovsqPd1j8MBmaMFQGRg/stHSm9ItmbcoXVr0gO0p3yMCYgXLdyOtUsibjYba/3s5a3r59uzKvMNIzPT1dfRazzmdHUUlNiWwu3iwM1SeAbyreJDtLdqrUtOwDBwTp9XHdqOs8llCro66tPc7DrJFvrn9TecVQyWBO9qtGXCVxIZ59yXu67ytXrlSplK+55pr9xmEYgfzm365DJLJJLnrixWZdZj3dp9Yej2NtH9xzuxwyaYqMR8Kx1hBwgOOZ9Co8gFwB9AN28kRDawE9c91qWfjeG1bABmgTuMOiAd6w14YDvIMjoyQP75S1hetkXcE6WVuwVrYWb236kSeGJgqB2+DBcYOFngLeRmYMVlJTp1bFwghD44YqYPKGyMDCwkKV4nbz5s0SHR2tansyX3l7vXD4kmNAjQJtG/BmaLxBDIsfFDtIDok9pGmaGpHaVEXI2E5PRejpQ/91pu9l5siLhl4kFw6+UEID2kdrbKvMWejk2WeflZNOOkl5Stkejx5Znz5yr0y54DIZfdKptqu8bp5motfvukHK9+ZJ4oXT5aLj6P3tPnUrQLe9fH6C5VblNgE3AXx94fqmYr3hAeEyJH6IAm9G0hEUk8KSbA/h9fM01Xy5/Uv1A8ypzBHaQalxMkKwo4kmlQULFqgseKwcNGnSJOFAFW3mnqJac61sL9neBN7UvrcUb5GKeqvnLM1PfSL7NIE2QXxQzCCv1zI9JR9PHiejNEOe/etZofcPsztePeJqOW3AaR2eAIzKC1/YTL/Ar1JycU2xqsdKk5EP/p588kl6xsns2bMPEMEnD90tOds2y6XP/NdjOfAPOEkbG5bv/lO+fuwhCcmrl9UTG+Tik29V5rDWHLZbAfqusl3qAeToPQE8v9qaN4SDjfxhE7iV9p0wTNIj07uNhkbbMNOrvrLmFXXNR/Q8Qvkfj0gY0Zpnwq196AP8119/yc8//ywMEho5cqRMmzZNIiIi3DqO/cYtmUxC/UMVcNPsRM2b3D+6vwT7u+4ZZH9OvXygBFblrZKnVjwlK/NWSp+oPsq+fnTq0R7/4uLLmi8RW+AmeO8q3SV1DSg710hxwXHK5MkvMI5/XD78cqlaWSW7MnbJrbfeekC/CrJ2yVt/v15GTD9Rpl1ylXEYr5jyq/LZFc9IwBebJCUvRGJnT5LzZ93aJpNutwJ0jtoz8xwHdJTNuxHAqal5qvCAVzwJTjpRY6qRjzZ/JK+ue1WFfDMr37UjrxWajtqDMjIyhMUGGLafmpoqJ5xwgqok5O652O/lucuFBSMM0wm/rgyiKUyZS/BSNsCbAT+eGBA2zqGnziXAr136rtOHnYA7KnGUyhEzMnGk852crCmrKxP6w+8H3FimFm5pjEmk1s08732j+6oxLI5j8WVCZlI0au3fZ3yvFJjtpdtldP1oSd+dLldfe7UkJRz4lT3/1Zdkzfxv5cLHX1BVq5x0rcOas8qyVD79b3d8K1PXJkna7iA56uLL5PDj224W6laATmDgm95bMuF12BNidyIOcL236T15fd3rwh/QMWnHCINIBsQMsNuydYvFxcXy448/yoYNGyQKAU8s0DxkyJADtKPmjs4fMLMELsxeKH/m/Ck15hoF0PzxKnt3jNXezXmWYdPU+RKghxbTInBQnrZ21julRwyB1pb4AmBRDsNEQvA2AJz7GUQ33N5RvZtA2wBuKmSufGlx/IRK3BtL35ABGwbI9l7b5ZTJp8ip/U7dT8utQpnC1+DGmDzoUDntH/cap+/waX5Vvry85mWVQI2uy/+3Z4xYVmZ5NFVBtwL0Dr9DXn7C8rpylcfjrQ1vCUH+hD4nKFtoayvKM0R/0aJFsnjxYhVqPXHiRBk/frxLdnJ6TvCz3QBx/thJKeEpyreeXxOjk0Z3+XB0L38kPNI9PkvMD8M8MVSiaFunRs17aoC3Ma7BE0YEREif6D5NwM0XAMGb+3ginoJmv4cfe1gKwgpkfuR8SQpNkkuHXar6ZXyZs6rRb++8JqffcZ9KGOcRQbh4ELobM5f+exvfU27LrDR1xI4kWfP558jlPksmn3eJW8pQc6fVgN6cdLrJOtqj+eNjKlja20/ud7JySXO1fBl/MGvWrJH58+dLBQKQhg0bJsccc4zSzpsTEbW0RdmLZMHuBfLHnj+EPvUczxiTNEYm9ZqkgJxjGXgImzuMXuelEiisLlQaJ+uemiwmlU7AAG4DtAncHFRt73v84Ycfyp49e2TsmWNVn2i+SwhJkIuGXCSzB82WAIu/vHnrNeKHQfoLHntO2prbyJVbYnwpv7b2NTVwf2LfE+XaEddK/u9/yS9vvCJDphwjx111o0dlowHdlTvjBdtkZmYqe3UVyrYFIathYGCgmtrOG23OphUNFfLBtg/k420fS4NPg6puc/mwy5v17jHOyx9Lr169lD857eWOiJ/kdAU1tHB6oZCoMTHClSDOQsfe6gLn6Jp0W8sSoMJATTsisG0D4S2fyfkWS5culW+//VZuuukmpWgs27tMATvTH9NkxyLeR5T3le+feUKmXXqNjDz2ROcHa+MaI33xy6tflsKaQpVWgUnSaD7csOBn+faFJxHsNE5OvvkfHn+xaEBv481r791Z9OGnn34SPrC0V9M9i200fziautwfhIJV48/sa5aI0AhJjkqW8JDwphcFXwolSBxGOzk9VqiRUzNnVjtbYr5tVsohiLPeJW32fj5+wgEzQwsfED3Ao1qI7fn1vJYAJcCB+Tlz5sipp56qPK0MqVBTJ7Dy2YwKjJLTV/aVwOJ65cbIiFJPEgdrv9n5jRpj4BgRTYgcY+AgMmn7iqXy+X8eRD6koTLr9ntdzkzqTh+bA3RXQv/dOZfe1k0J7NixQ0XBEViZ+4TugNTInRFNI/VId2AAvTPQN9qLKopkU/4mySnLkcK8QokPjJcI3wiVaoDH4Gcyi02wgIBxXg5EbSjc0KSF0z2U3gl0J5uaOlVp4uOSx0lkYKSzbup2LQGPS4A1RoODg1WdUbrOGkQwnTN9jqzNX6u8Yj5L/V1OzuwpL835h1x87b8lOjja2LTVUw4CM+Uy/faZWuLQ2EPlX8f8SyYkT2hSZFgA5sunHpGkPv1k5m3/ahcwb+kCNKC3JKF2Ws8gHXqRMA8KsxJefPHFwpwVLRG1ZwIv2R0/cPr/vrT6JZm7c64yh/DzlPmyGXxFUOegzi87f1EeKbSJUyuna9kw+PPTe4bmFD7E2o2wpTuk17eXBPjs8zfiLO02n9Xnpj0nm0Ztko8K75fgZTvltLdOkBmjZ6tI2NamOKBphwnOVuevVu7Sjx/1uBybfux+v4XcHdvks8fuVzVPT8OgbHvlamlJtp02UtXa0P+WLqgrrGeioS+//FJYYmvcuHEyZcoUZQbpiL4zDQLTCczPnK807JP6nqT8wvmwmi1m5Q5KrYMAzmlMsC4g0BH3RZ/DNQnQ++qHH36QW265pdlatMz19L8bL5PKXkHy0aEbhO6TzF1z8dCLhTEPrhC/Up9d+awy5XAfRtLO7D9TZUq13b9oz2754O6/o6ZusJx932MOa+nabt/W+eZMLhrQ2ypdN/bnYCdzhTNpf0JCgsycOVMVv3XjEB7blA8rfY3pnULN2xjQZLCWJ9zMPNZRfSAtARsJZGdny3//+19VXJzjPc3Rkk8/lN8/fFuOuvUG+azuN5V5k2M/swbMkkuHXio9w60FM+yPQbfM5/96Xn7Y9YNScC4bepmcfcjZDv3mywryFZgzDfXZ9z2q0lDbH8/TyxrQPS3RVhxv48aN8vXXX6vQeeZAod2a+VA6mzhaH4Bc7Jq0BLqCBJiu+dFHH5Xhw4fLjBkzmu0yawC8fvNVEhIeKec+/KRkV+6RV9e+Kp9v/1ztN7PfTOXLziRuJKYaYNIyBlYF+gUqr5kLh1zo1LOHwUzMnMisr2fd+0iHFdpoDtA7H1GUKLvvP+Y+oavVunXrJCkpSc4999ymUlrecNUazL3hLug+uCoBP9TNpReYMzu67XFYA2DSORfJN88+Lht++1lYg/Te8ffKlcOvVEFAzI1E8KbZkZHnH276UA3+Uxunq29zNvdafG1/+vA9Up6fJ6ffeX+Hgbnt9Tma14DuSCoeaOOoOIvbfvPNN6rww9SpU4VRl3wgNWkJaAm0XgIcGKWbL5WlsLCwZg90yPij5K9vv5BFH7wlA8dNlEDU8KWp5c4j71RJv5g6g2mEmRzs5L4nKweA5PDkZo/JYuqfP/6A5O/aqbxZWPHLW8gVQGdquwVg+tJx+7nge8C2xHVvgUeDC8GsFZUBPiiJg500r2zatEklsqKtnNq5Ji0BLYG2S8DwBqOWPnhw80np6ME15YLL5f27bpNln8+VCWed39QBDnTePvZ2pbEzz1CPsJaLs7CoxlfPPCpZG9fJidfdKn0P6/g01k0X4GDGFUCvxX5Hg5mQmsbWReBvwUvABl2KmWJwf/DZYJaoI6gfVEStnAOezE5IX3EmtGK+cK2VH1SPgb7YdpZAcnKyGn9yBdDZleSBSL08YbIs/3KeDJt2nETG7+/l4qqfugUxIN/PeUaVvDsaaXoPnTilna/U/cP7urCLBdtYqwtYAZ2gzjZbmomFNxsbqMFPA3eaB01jPzp0wurk7777rnz22WfKg+Xqq69WwToazDv0NuiTHQQSoDNBKlJTuGJHN8Qx6ZwL1ezC9wyYMta4NlWBRW/9T4X1jz/zXBl1XPMDsq4d1fNbuQLoPCsNv6vAeeAfwUvBttQLC1mNDawrWgp2VKjwCrQvJ+fnWwtTYL5LE2/08uXL5YUXXlAPGPOFM0goPj6+S1+X7ryWgDdLgGYXpgKorq52qZvUysecPEs2/f6b7NlizT/k0o6NGy359ANZCVv8YSfOlCNPoxHCO8lVQDej+4y1TQGPBQ8Ft4ZewU5jyPTD7urEWodvvfWWfPXVVyqpFbXyI4444oBcKF39OnX/tQS8TQLp6emqS0ws5yodPvMMVYP417f+K1TEXKW/vvtSFn/0rgyZPE2mnH9pU6i/q/t35HauArrRpxLM/AI+3mhonGZjaqTno10+CszB0W5JzKfCRFovvfSSMNCB/rAXXHCBCuHvlhesL0pLwMskwKygNGe6Y3ahh8tEDIrmbN0smxYvcOmKNi78RX5+/WXpN+YIOfbKG8TH113IdOk0HtvIld5RlTay24RgfjrY/pvlC7RZjVQiZ2D+Z7Drr0Bs3FWooKBAXn/9deVbzs++a6+9VsaMGePVb+2uIlvdTy0BVyXAwuQE9YyMDFd3UdtRy05M7ycL330DCero7+GcdqxcJt+++BQyJw6TGTfe7vE0uM7P3Po1rgA642Opla8BLwPThv4V+H7wKWDSq2DazLeBbwH/A9ytiBFqv//+u0rfSfs/U3gySIjpbjVpCWgJdLwEqFDl5OSoNNOunp0a9pQLL5PywnxZ8dVnTnfbDbfEL598WAUMzfzbXZ2SOdFp55pZ4YrbIoHcmux3/wPdbbNYg/nZNsvdajY3N1c+RykpFoAYNGiQMrG4k+mwWwlDX4yWgJdIgHb0hQsXSlZWlvTvT49p14gaN4tP/PnZxyp6NDwmdr8dc3dul3mP3i8RCYnCzIlBoaH7rffmBVcA3av6T5sZb2JL5M6gR3PH4nH4Wcc8zGeccYbbhZKbO7ZepyWgJdB6CaSkpChTJzHBHUDnGY8672J545ZlKnkXS8QZVLQnWz556G6AeJiccecDEhrZtb7Auxyg0/ThqquScZOamzKSrCUaMWKEqubTUphxS8fR67UEtAQ8JwHWBGCQERUudymmRzJcEE+R5V/Nk5HwKWdRivLCApn74L/Uoc741wMIQOp6nnhdDtD79u0rZE1aAloCWgI0u/zxxx8qMpsDpe7QkaedJet/nS90Yzz55jsA5ndJbWWFnHn3wxKbTA/trkeuDIp2vavSPdYS0BI4KCTAgVG6Ee/evdvt66VZZfyZ58nuDevknX/cJGV5uXLq3++WpL793T6Wt+ygAd1b7oTuh5aAloDbEmAqXVJrzC7cbzhyu8SlpElFcaHMuPl25aLI9q5KXc7k0lUFrfutJaAl4HkJ0FmhR48ebgUY2fbCF8FJ9GSpKimWHv0H2q7qkvNaQ++St013WktAS8CQAO3oNLmYTCajya0pBz+7A5jzojWgu3Xr9cZaAloC3iYB2tEJ5owTOdhJA/rB/gTo69cS6OISaKsdvYtf/n7d14C+nzj0gpaAlkBXkwDjQxITE1ttR+9q19tcfzWgNycdvU5LQEugS0iAZhemAGDg4cFMGtAP5ruvr11LoJtIgIBeh+LNTNbl7TRv3jxVQL49+qkBvT2kqo+pJaAl0KESIKCT3MmP3qEdbDwZ+8e6wxUVFe1yeg3o7SJWfVAtAS2BjpQAs5/GxcV5PaAzBXcosjeOGuUogW3bJaYBve0y1EfQEtAS8AIJUEunBsxUAN5ITMO9ZcsWGTt2rAQGBrZLF10BdJaWY4GLDeD14H25JrHQSFMwZWHoVY1smysdTZq0BLQEtATaVwIE9NraWiFweiMtXrxYmECMgN5e5EroP8OvbgWvBEeAV4BZtYgAb0tMUj7DtkHPawloCWgJdJQEGDFKopbesycLrXkPlZSUyNq1a+Xwww9XJpf26pkrGjqHjQnmpHLwRnAvLmjSEtAS0BLwFgmwHGR0dLRX2tGZ4pc0bty4dhWXK4Bu24F0LNCav9S2sXGePV0N/hY8pLHNfnIFGpaTWZdTk5aAloCWgCclYNjRPVWxzBN9q6qqkpUrV8qwYcPUC8cTx3R2DHcAPRwH+QR8E7jM7oDU4Ok3NAL8HNhZ9dVXsG4MOSGh61UDQb81aQloCXixBAjoBFBvUhj//PNPVYBjwoQJ7S45VwGdpUAI5u+CP3XQKwK84Vj5Dea5fbyD7XSTloCWgJZAu0nA1o7ebidx48AMdlq6dKkMHDhQpSdwY9dWbeoKoLPo5qtg2s6fdHKWHmjndiQO4fK4hVzQpCWgJaAl0FESiImJEfqke0uA0V9//aVqIHeEdk4Zu+Llwu+E88FrwXRLJP0TbC0VIjIH82eArwbTI6YafDbYAtakJaAloCXQYRJg0XeaXVjBiHZ0V4rAt1fnmFeGroqpqamqT+11HtvjugLoi7CDoX3b7ms7/zwWyJq0BLQEtAQ6VQI0u6xbt06KiopU9GhndWb9+vVSWloqJ554Yod1wRWTS4d1Rp9IS0BLQEugrRKghk7qTLMLvw4Y5k/njwEDBjRd0q7qWrl9c5Z8X8A4TM+TBnTPy1QfUUtAS6ATJRAfH6+Cd1pbONoTXd+2bZuKWKXt3NfXV9aVV8lV6zNk3JKN8n5OkWytrPHEaQ44hismlwN20g1aAloCWgLeKgHDjt6ZGvqiRYskMjJSylPS5f9Wb5dfisol3M9XrkpNlCtSUcM0iI6AnicN6J6XqT6iloCWQCdLgHb0jRs3CkPuGT3akZSJQht8mewafJg8tjZD4gP85Z99e8qFyXEShfn2pPY9env2XB9bS0BLQEvAiQRs7egdBei1yPL4SW6xLPrqO4n0D5DNPXvLo317yZk9YiUE2nlHkAb0jpCyPoeWgJaAyxKw1NeLCalBApKTXd7HfkPWGA0ODlbuiyNGMIC9/ajCZJa39xTKy1n5UlNSJGflZkuP0WNlwYTh4u/bkoOgZ/ulAd2z8tRH0xLQEmiFBOqR8rZy4UKpWLBQKuG73YCKPr3ffktCkZ2wNcSBSGrp7WlHz6+rl1d3F8jr2QVSClCfGB0ux2TvlQJ/f7ng6MkdDuaUkwb01jwteh8tAS2BNkmAWngVoigNEK/dvFkdz79HD4k84QQp//lnKZjzsqS1EtB5MAL6Zhy3vLxcRY+2qcM2O9P18CVo4x/kFEptg0VOTIiS69KSpK+lXp75cqOMHj1awsLCbPbouFkN6B0na30mLYGDWgLUwisWLJBKauFIJ0stXKDNhgIAE/92m4RNmiRB8Nmml0pAWqrkP/GkVK9bLyFDnSVvbV6chh2d7ovMdNhWWl9RLc/vypXP80rED308s0eMXJ2WKP1Dg9Whv//+exWdOn78+LaeqtX7a0Bvtej0jloCWgLNSUBp4SuphS9QppRalF8jGVp42FGTJAz5wf3CmcjVSntr62VVWZVsn3K8WP5cLf0//lQOHzhIYgP83A7j7wFtn6XeaHZpLaAzQGhxSYU8n5mnXA/DnLgeVldXy4oVK2To0KHCfDKdRRrQO0vy+rxaAt1QAvV791q1cNjDKxdDC6+sRO7VAAk97LADtPCiepMsAHivKtgrqxB4QyDPrWM6qEY65zLrzO/rJAJAmh4SJL1DAsFBmA+U9GDrcq/gQKUxG7sZUz8/P0lLS2uVHb0BQP4dojkJ5CvRL7oe3tEHroe94iTagevhsmXLhJkVOyoJl3GN9lMN6PYS0ctaAloCLkvAAhCrghZeAS2cppTarVvVvv4oARd50kkSDi089MhxUg2Pk9UA7dXl1bJqwy4F3pk1dU3n6R8aJJNiImRERKiMjAyFGSNI9uQXypK/3yGFEyZJybTpkgHb9caKGoTNl0k9ANegAJg/UgHqTWCPeQP8kwHo22CPr8SLxRW7dh1cD+fC9fAlAPnWqlrpjWM9OjClWdfDeowHMEVu//79hV8FnUka0DtT+vrcWgIuSsBcUSmmvTlSvzfXOs3ZKw34zPcNCRHf0FDxDQNj3ofzIWCbNjWPZR+Aqg+8P9pK9Tk5yoRCEK/6Y8k+LZy28FNPFf9JE2VrYrIsgM1Zad7rM2UbwNGA4JTgABkJ4L4AgTYE7+GYj/T3O6BbMclJEj9kgBQ9/4T0O/lYCRzYT21jBpjvgWmGg5O7qusU0GdgyuUVZZVSZmpoOlZSab3MwtLVvyyRqH79lVZP7Z5aPl8A1LxpszdcD1/ZnS85OPbQ8BCZM7i3zEiIbtFbZdWqVeqF0dnaOS9aA3rTrdczWgKdIwECcz0A2gDsegC3Ccs0X5jAnDbAU8OefIKCxIIq9+6QAnwF+o0vAmOeLwSCvnpBhFlfCJw32mGLrl6zVtnDa7duU6ekFh4yY4bkTJosm/sNkrV1ZqV5b9xTJaZs6zYJgf4KvE9NjGkE7xBJCHQ97D324oul6L33pei116TH3Xep83JAkho5eaKduZo27xK4EBoAv7MiQUrWLpaIojz5PbaHfFxbvJ+4aBMnwO+uqVeuhxPgevjkoFSZEhvhks3eSJHbq1cvSUd0ameTBvTOvgP6/N1aAg0AXAXKBOxcgLMC6kbAhteHCdquGSlW7ckvNlYC8PkeAJNB6NixGEhMwnJPCejZQw0qBiBwxgcga0HO7YbqGmmoqhQLSq/x5dDAaZUxZVuVdZ1te9N2lUrDZiCP2q+x3VJzYPKoBpyvYMo02XHepbK5b39Z6xso9PyogeueZORJFLTsEREhcg3ylVDzphbeEzlL2pKTnDKImnmKlHzyicRfc7X4I/FWc8RzxUDrJo9CHyQpRt6EDHtWlcoL44dIjblBaOqh+caYEvwHwlPlcuRYOSzSPXdDphcoLi6WY489tk3X2dw1ubNOA7o70tLbagk4kUB9Xp6UffmV1GdnK41aadkwj5iRk9ue/JBbhNotwSpk1EgF1H4A7NqknlKNdKtVMbFS5uunNMZyaJsMWimHGUFNAeBlpSYpK8ySaoDTgeQvFp9IkTCyda1h6uCSjelZrbQ0GULsKtJgwwYCdYMZ3CBm8A4zTBOYkkKqGgDePshPEt8E3tR02wLe6sAO/sVfdpmUfjpPit58SxJvvcXBFs030X3x119/VZWDQvDVMTAsWHHze7W8ll8DTMIVFxcngwYNanmHDtjCFUBPRT/eAieB+Wy8An4GbEuMb2UbM7lXgS8CrwRr0hLo1hKgdl34v1el8O23pTggUCoTAMy9UqRq2CipmZooVXHxUhkdI1URkVIB23ZlULCU4VdUBpBWDIAmWHPewlpfmdDWyQ4oCGHktDVHwnuD02A/H1Se2Rdavm/OurPtMhTXJrKZRVsLx/DZZx4ZBROHoXkTFGn66AgKTE+XyOOPk+L33pO4yy8TP2QxdIcMf/TMzEyPAu+OHTtkL8xhp5xyikqR606f2mtbVwCdfkS3ggnQEeAV4B/BG8AGnYAZZnEnHwF+qXGKiSYtge4jAbqzZWPQbHNRqaxa9IdsyMiUjLhU2fXYy1IJQHdGvvgVRVSbJbK+BmDsqwA5FRqtLUCreQL2fmzdNgIgHtxBCZ6cXUNntsddcYWUffOtAvX4q65yqyspKSlCF0b6o3tSk6Z2zvqlw4cPd6s/7bmxK4Cegw6QSRyZ2QjuBbYF9JlYphZPDX4JmPkqe4KN/TCrSUug60iAnhRZsLVuQSGCzeAtVWBMt1bWSlWj2UES0iQ2PF4GRYXLmQmx0g+udjH7gbEVnGlb5uBbe5gjuo5E29bT4EMOkfDJk5XZJfaCC9SgratHDIAfPActPZnXJRumtZ07d8r06dMR7OoKjLra27Zt525P0nG6UeCldqclwGfZtO3GPNvsAf0KtJElH4MwmrQEOlsCJtiJd9XUKrDeArAmcBPAt2GqBvsaO9gD3hp9qyvkxJXLJXXLJhmEwbPD/+9M6TW188K8O1t2HX3+uCuvkF3nnCslc+cKQd0dotmFGnUtBqmD4B3UVmJ5OR6HeVu8idwBdMbnfgK+CVzWyoug/Z3MWnvU5jVpCXSIBBgwshPeDNSyFTdq3NvhH10HbdygXvDKoH14Qgw0b3g+DIDW3WvVCql5/Gmp3bRJgjD4lXjLzRJ21FFa4zaE1kFTRpuGjhkjha+9LjFnn628fFw9NV0KFyJ6NSsrSwUAubqfo+0KCwtlw4YNMnHiRJWi19E2ndXmKqBzZIRg/i74UwedzUYbB08NSsEM2zRpCXSIBCoxuJiPsPFc2LfzMM1DalNOqWkTwHfCTc3UiNscykvDAB+B++i4SOWyxnmCdzjMIwZVrVwpeU8+KaXLV0hAaqokP/44oh9P9EhwjnEOPXVPAnFXXilZl18upV9+KdGnn+7yzrSj0+RFswsjOttCi5Helzb5I488si2HaZd9XQF0Pv+vgmk7f9JJL75A+3XgD8AcFOUwvb25BU1tp+q1ayX/qaclbPw4CUVin+BDD9U/sLaL1SuPQDt2YSM4M8cHQdoWtJmPmqCdi2mlAxc+OIEgdDsIwB0kJ8RHKQAfBODuB807tJkBxhqkXOUzVgFXN7+EeOlxz90KPOj3ralzJRA2cYIEDx4sha/8V6IQleoDYHWFaB5JRsGMjIwMVzZ3ug1T8TIydOTIkRJuk1TM6Q4dvMIVQJ+APp0PXgte1di/f2Ka1jg/B9NvwHRZZHgY3RYvBrcLmUvLUM0kT/L+84Q6vl9UFHJFHKmythHkqUnpwad2Eb3HDsowa0OLJhgTpPOgWduCNsG7AO2OPK3pJZKIaENGIQ5DIMsxgZFqnm1JQf5N6+IQXOLrhmtdHT7H8597TvmT++LHmnDzzRJ7/nluDcB5TEj6QA4lwN82tfTsG2+U8h9+ULnTHW7ooJF29CVLlghzr3CgtDXE/RtgvuvMFLnN9dsVQF+EA1BLb474MXttcxt4al043tDhE7+U+tw8qVq6RGV0Y27lcuQiJrFsVSiAnWk5wwD0/nD619QxEqBLXyEy6DEXBpn5NnLgKaKmjW17AdRVDrRpfzxhDAlPBEgzupARhwToRMyzLakRwLlNc9p1a66UUZIFL82R4o8/Vl97cZddKnGXXioMANLkfRKImH6MBPbpIwUvvyIRxx/vsgJHOzrNJbt375Y+2N9dqkH07PLly2UwvhAYTOSN5Aqge2O/JSApUaLg0E9mxFbdzgwkzV+sEueXf/+DlM6lyV/UIJYCd5poMCLt20mVRLxSiG50iuYPatJ7auv2ATbyX+Q0LhO0mcvadoCRhydQ9wAoJwcFKm16OrRpA6QVYAOsOY1Bvmt3tGk3uu50U3NZmRS++poUvfWWMGtg9OwzJP7qa9Sz5XQnvaLTJcAEY3GXXy45//wnMjwuUO6MrnSKqXRJtKO3BtAJ5vSS8YYkXM6ut8sCuu0F8TMsqG8fxbHnnisWk0lqMArNfMzU3ovffVeK3nhD5WUOGTHcqr2PGy8hw4aKTys/vWzP39p5+0RCzC2RCU8ME8AzEFGBjAwMxMMbyOsz5o12H9/GNlR3UeuxndqG21r3sR7D2h6EbXgsAqy9Saoerns0fVi1agC2AupGDbsRsKlZm/c5g6hLZp+oTZMPjwprmk9WbYEA8QCJB2B3NFC3dD8aoGnxmSh45b/SgEhPpnlNuOF6CcQnuaauIYGok2dI/vPPqXtI/3RXiEWjmd62NXZ0mmlobunbt6+yxbtyvs7YpssBOnNbUFOMg0bHiDp7cKIQfeDoH4LoLXL8VVeqhEX0WKgCuFci3WfB8y9IwXPPK22dRWhpe6cWH4jRb0fHa8uNIVhmAxSZ5lOl+wRoq8RAXIb/s22qT56Hdl8CcS3sdHXYVzEA3lMEPG96EQTipQCcVwOP9rbqEIC/FZgDZHxMuNKwCdxGW09o3LwHnpaXp67T0XFYQacEOUEKXnhBTMi9Ejb5KEm86SY1sO5oe93mvRKgIhZ3yaWS++9/SxU0Z7ozukLp6enKbGKC0udOQNCaNWukAiXzZs2a5cppOm2bLgfovxaVy+XrM5TAqG3GAgDJBEI1hUbIclVcNjgWbXFjxkosQDsRQGVCdrSqpX9K5RKrBk9vBhI9Gqy2dwA8B1jxNneFSmA33gWgbgLtRrDmMsHcVrOltp2GkG+6zY2BVssE+kYyfraF2bjNGeemJs+E/gR3FqWts1jBXs03An9t03rrOm7f9FJQ89zfZr/GY+BwMIH4HwDYjG7sSmBtyMrR1ILrLv/uO8l/5lmpw+d2yKhR0uuJ/7S6oryjc+i2jpdA9BmnY+zjJWVLT3MR0I2B0T179qhqRq70moOgDCTqiYRq1NC9mbocoDMl5nOHpgnLV9GlrajerAbiuLyxslqKSkxSjDZnOi1LWSngT+gjsacNkLizLpHommqJyM6S0G1bJWTNKon47+sS/dQzEh8XK0mHjZSwE06U4qHDlDmEwE0NW4E3NGyaSJh/2Zb4ImHy/NHo6+khMQrA6T7HNtqT3U1qRGDliyAQtQn2VV+0PaOedyQBvggrF/0ueU89KbUbNqoCxCkvvijhU6d0m5eVo+s+WNp8YUKJvfBCyUesQPV6FJMeMqTFSzfs6DS7GPMt7bQJAWVFyJo5e/Zsr39uuhygp0CLnd0jttl7wHBugiw9LvYBP14AxjIAvwgvAwahbEQ+Z7bXhCHP8gjyuP2O7WdGViV41ZuX0A3fSrYlr5g/mVq2Uf6K87bBKcY+euqeBGgeUbm9mZ+70iand1Meb7QjzzdzeFuatmnMAa62qRRzQaEqiRaAPB7Jjz2qbOWu+i2711u9dWdJIOb/zoZP+ivKLz3lmadb7AbL0CFK3eW8LlQKmDIgFvnpD0XMi7dTlwN0VwTqDxs0B+PIrhBvGhMu2Wv8fBkUQBuvwmBIzK8/K9PIYTdcK70H9ndby3alH919m0qYucrnzwcIo6gCgdgowmCANKaqSAPXAdBdJny9qGo7oaiwY5RfQ95rfxSBiD7rLIk5E5qVDgpyWZxdaUM/ZDuMgSMEQb0W6WyDXDCJpMOOvnr1amG1IUZ8NkdMwEXzzAxUZvKFudbbyTXE8/araGP/aNIIw40NC0GV8BAHBxuYKuWp8XCTulPqzvpNyu64Q6IJEthPk2sSKPnkU8m5+25h2TTms26qhQng9YNpKyAlRYFyUzvA2VoOrbFGJkuhYdv9y6Q1LuOY+l64dh+641axF5yPLIxvqrz0yQ892OIl0o6+bNkylcucWRibI9rOqdWPGDGiuc28Zp0GdBdvRcTUqRL8WDBLPwAAQABJREFU+WeS8487ZO8998A2u0h6PnC/Dj5pQX78+ilEAEj+00jXMGGC9HrmGfELbyyl08K+erVzCTTAb95cUiL+MTGd6nrrvIcdt4bBg9Gwbxe//74kXHetCi5s7uwEdBLt6M0Beg7KA27fvl2mTZvW6sjS5vrRHus0oLshVdZxTP3ff+HT/iYG2p6S6pmnwjb7mIQdMdaNoxw8m7LeZe6DD6miBJEnnyzJD/5bmz7acPvNFZUIpPlNma0qfv1Nma14OKa/8EOtTX/Yef3i4zCNU189/qiW5I+vHz8s+6OdUxZ97o5fM3GXXKwAnZkYe/zrzmalzKIUjPRkgFFzQULUzgNhqhvjogdNsyftoJUa0N0UtIpSw8MTChDfc+ttknnRRcJqKtQMOjNIyc3LaPfNWRx5z9/+rvJtxF5yiSTedqtOotYKqdPFtuLnX6T8xx8RKLdYRbSygDSDoYIOGSTm4hLULS0UEwaATZjWbtoslUjv2oAoWEfkA88QBfwANGq2NHfxBWAAvnoBGC8Cav8t2JgdncNo49cZEqeo8RCOiTDgT02NNi4jYG3/Nuuyb3AIvujGu/zMBMClkFHjJUjfEH/1VS2m/KCWzhS4dEl0ZBunV8t6eM6Mg6sz65B2FdKA3so7RRepPp/Mlb0PPwyTAsqPIWip138el8DG8OJWHrZb7MaQ+t3XXKsCPhJvv13iLr6oW1xXR11EPepUls//SWniVbD1YvRO/JN7Cj06IqZPV370LQEtUxmYAEomgDsLVRPwFfAXFom5sADtRVKfl6siqrmdAFwPIIwR+QHUDS3fBy6/FjgK7AfAjoC6sY1g3hZizpbkRx5xOV1H3GUoJj2vsZg0ctY3RwT0lQg2zM3NVf7l9tsy5wuB3htT5Nr31XZZA7qtNNycZ16YZESqhU+ciAG/e2TnqbNUqtWomazId3BSPX4gWZdfIbXwDkj+z38kasZJB6cg3LzqOthz6QFUBk28ZvUatXdgv35CkCKIBw8Z7JaphF49DIxzJTiOmjQ1egX+eAEQ7E0AfTOn0PrNjW2W2gb1FaoGphGp6YMcPAi3VG38OlXs3zg1lhGT0bSusc3pPjie9Rj+Km1H3hNPSAYqFKW++ILQ9bQlYvqPiONsiknDtOKM0uHpQqLZhQFDtsSIUKbIZa3QSDcLUtsex9k85d1eZi8N6M6k7kZ7JDK+Mc1A9t//Lntu/4dUIJiFObT9vDBfshuX5famtRhAykTSpIaSUkl7eQ6ibXV5NmdC5I+6FnnXy3/4UZlTarduVZsG48svAekIqJ0GAdA7ggguyg4PWzxCITvilC2eg3UOggYOlOxbbpGds8+UFORtYcWilij+istVVHDxe+9LPErWOaMoXGs0smkS0O218KVLl+KDxdSsfd3ZcVtqpwkt5193KfNQ5HHHtrS52+u937HS7UvqnB2Ytrc3XKfib7ge1cm/Udp6Nd7yBwtV/fWXqvdIm2jvd97WYO7gxjMFQdXKvyT30cdk+7HHqWeEoesE06R/3iH9f5qvzHjMP9RRYO6gm17TFD5poqR/+IH4RoTLrgsvErq+tkQsfhF21CTlxsjAtOaIZhcCurL1N27IbIp0aWQQUTwGmj1JzDmzc9ZpKkMkPZTag1wB9Ndw4jzwOicdmIJ2VigiepHvBh+URLtmwjXXSO+33xY8JZJx7nkq1wS9PbozlWPQLvPiS8Q3OkrS339PVZTpztfrzrXR3szBzJz77pNtk6fgpXeOFL3zDvJ5p0uP+++TAQsXqBcgix67YlZw59zdYVsGCvX58EMk3xotOXfeKbmPPCot/Z7iUQCD4wYlc60ptJ3JgYBehSA224L1K1agfiyycTbn/eLseM7a2d98JITbdcGF4ouYid4fvC8xZ53pbPM2tbticnkDZ3ge/FYzZ1qIdTOaWX9QrQo9bJT0+Wye7L33PpUQqvL3xahH+ZhwJL67EYtC7L3nXth4h0jqnJda9C7obtfv6HqYnrcSLm/KnILEb0zRyyCp8EmTlD08fMpkYYSjJtckwEIjaYgEJZgzDTZNe72efMKpDFn3IARc+NprCjidRQnb2tET4ZJMM8sfcG5gO2uQeoI4wE1vLw5uR808RZLuoim2/eIwXAH0BbiwdE9c3MF0DP5gk+H1Eo7Pv7333S874LPe8/77JfL447qFGPiZWjhnjnphhWFQmHk0DubiIXTTLP9xvrKHV6DoAvPL+GJAjQFpEcdOVyYoRrpqap0EOFja465/qQRre+GIkHHW2WqwNLBxcNP+qLSfZ11xJYpJf4V6sKfZr1bLMfDgoU86zS6HI432WtQrZs3QU+D+6AnilyuLcDAIrOcjD0s0aqC2N7kC6K70gRmtVoP3gG8Drwc7Io5SkPf7zHG0YXdo42ATPV6YrjX7tr9JNga7KlEVJwmpA+gp0FWJn5B7H3hASj74UGkdPfED4w/uYCQOcpV88AHMKO8qbxCmYKYmRs+UsLFjD1q5tNezEHP2WTBX9ZHsG26QnQD1lKefUimv7c8Xhq+hINjBC//LYtIzHfrT8/dJswsjRo0UuUlJSdK/f3/7w7m1TADPg4dX8VtvS9DgQ5Gq+QkJakXJO7dO6ubG6djemQ09EuuMrK4sFG0drsdMczR69GgoeQcP4SZbcp940rLhkEMt24473lK1bl2XvHhzdbUl67rrLBsGHWLJ/c9/MM6HSqIHIdVmZVly7n/AsnHkKCWLXZdfbqn4/XdLgxnF+jS1uwRqMzMt2046ybJh8BBL4TvvODxf6bffqntT+u13DtezEQOglnvuuceCqFA1RSELp9u6sqJmxw7L9lmz1Hn3PvSQxVyLSgUeJuDqcmfY6sqgqLN9jXaGpFU0LnyDKVW1+MZlPWmUADXYRAQ7pL3+ukoLm3H2/8HG97rQ86GrkBm24Ez4RdO0QK+MxFsR/Qkt52CianyW7775ZuWlUvzRRzChHS99vvhc2XjppslIYk3tL4HA1FRJx5cRxyVyH/i35Nx7rwp4sj0zv5Jokil45eX9PFlst6GGTvrpp5+UGyMLQLeWSj77THaefoaY9uRIyksvWr/EOzjLpyeePpb1MX7VTGrCYxa2Vijdfb+wI49QA6bhKH+WhzwwDMJh1XlvJw7u7DrvPKlG0Esyqv3QK+NgIVXx6JdfcP3nSwZ8olk0I+7SS6T//B8l+eGHJBj+0po6XgKM80h54XkEX12qzH+Zl16mqpEZPaHXWdzll6niJkym54jomhgK8ydT6Y7HC7mldLqOjsEcO4xBYeI+FUGOJH4cO/FWeh8dywHXg3eDLwVf1ciYyHVg2sxpQ18Cdima5GAzudh/ddFUUfTBh5aNI0ZaNo8bbyn75Rf7TbxmuWbrVsuWyVMsmw4bban44w+v6Vd7d4Sfy/DisWw7EZ/2MDFtmTLVUvD66xZTeXl7n1of300JFM+bZ9k4dJhl6zHTLXxeDcJgtXp2d557rtF0wPRj3OPHHnvMAh/0A9a11FC1dp1l67HHWjYcOtiS9/zzlgYTSry3MwFjnZpcDM0a23QsEdCXw9H+YCe6YGUjyVctylzFQANO/NttylfVW+TC4tpZV1+jwrzpOsYIvu5ONC0Vv4+BznffEXN+gRpci0OCMXooGYO/dHHLQ6Fpplg1uBgDpIw+ZCY/an4Gs9pNwEE6aNyRzwqD23Zff4PyMOJXZMSUKer0RRiczH3oIemN+0mXRnuqhkdSHQYyGT3qKgGzMej5luT+5wnlqss8Tq4WqjYVFKiso6wL0BqCmXMF9hvjaF8N6I6k0sFtdHljXcSiN99S4c7x11ytHg5/D0equXtZzC3Clw3zgaS++j8J9JBvrrv96Kjt63ZnqwjDkk8+UZWT6I5J04ofvJTswZvBKPSMIAUhWIT5QAjcpXgZFOAHy6ktEegNgLcF/HCYDQ62cQhbuXh6vh4v2Kxrr5XajZuQ4fM2ib3kYrEgLmDb0dMkePgwpKR4uc2nZDKznDv+KRW//SbhyJXe898PqLz0LR2YppkijKEVgmNQSSvp9r+3tIvD9RrQHYrF+xrpv7wH0XDUCkmBiJILhX+swQFJiR3W6eIPP4L//H3WgCHkZWHK1e5K1evWS9Frr0rZd99jBAjl7BDRWYyw891IPEXtuxDJqQyivTUZaR564CVHECfTn9kelKnxcT8yAd5gLtfbZCHky8AW4A3Q58vBH+fX5L4EWN5wD+zZ5T/8AJfFU1VEbhEcEFhkpc+8T9v0lVm5ZCkChf6mioswk2jMuecccO/te8xoYQbgFbzwonJtZQKxxJtvUgO29tu6sqwB3RUpeck2vPk1yNPMyLJKcPXyFSiSXKl6F9A7TYF7WCPIM3+Mp4mfknzwCp5/XuXESMGPoCv7zDuTDwc68/GDL3z1NUFEiZgBrJmHHCJrIePqxhgBfoLbAjfBm4Eo9uDt7ByO2qnVM3jFFuCN+TKbHOY8hzOtniXR2tIHR/3qbm28v+o5Rsh9yMiR0hMml4wzz5QwvKhTUJzGXWIu94IX8bt4aY4CYkaqtmR+5G+p/PsfJB/nq0PwEk0yNKmGtLGcXbcCdNopd6AYLH9sBrOqSHclPkg1+HwkwCtGrgmjeAHrcBrae+jYw1UukLb80HmuvfcjYAjueNRsWGLPsBl3Zfnyh1WCZEjK1p2ZKXVwUYtbuEgi0FaF6M0tgwZKMWyrCenpTVo3gZzA2ZFkaPUGwHNqaPi02RsUjCIVhlZPTd6Wu1IxBuN62nNa9t13SltnXvewI4+UUrgW9v3ma7cCfepRJDob4fvV+O1FzUKKbFREaikqmom48h7/D7zCViO6tb8kIGtkOGz6bfl9GnLqVoAOx3/59NP9s67xM9gAd2NK7caY704aDaM0a7ds2Qfwy5arzz/ebH9okKGHj5EQaALBSDVqwTJBwmB+6hvzxpTuWtQ6oyDD6ueeFwvs5glIgZuAT0JPPHzGQ9gRU2bKI3CT+eLnlAUMCOQsutFv23YZuHWLhFTXSA0Au+GUkyUOkbw9kGubIOmtRK2e2rstwBvztlo9+09AtwV423n+Trz1nvKly6RYzEVeiS9SPpd9EF3pqJqQu/epGpWHdl97nfqdUGlhJG/ygw+6dBjmp2e6Wxbr6HHfvRKFUorNUe22bZL3xJNSATdXf0SdJtxwvVKOWipI0twx7dd1K0DnjeYnK3+sHHiyZ7bb2igpDPqWGuBuC/RGG6edYa/kD5WaF/trywbYcuoIhG3X1wHEavEjqIVMCGj1kI8J12tpZYALR8kjIQ/KyWDKx5hnwv/OkBXvI6+b99eWDeBmG70VbIn9TAVQD0Te8Si8+HwAGCEoKRYPv2UVBNQNgqL4fFAGLJlmz/xtECgNor2e9n5bkDfm22pKMs5hO+W5+UwSoAnUBjtb5m/blgjos6ARe6LIRD08knZff721eAh+G/0QQxDYjMmSjgp5jz6Kerjvq3EkmlgCG4OQbPtozLOwS/5zz0npp/OUiZJlKWPPP0/aI39PtwJ0Q4DOpnyI+MO2BXr+2G2X+WDZE70NbAHemCeQ8YdgC7juzhvAbL+f7We0fX8cLVO7onmpOaZ7nD8GhaCaiiUzSyyoHOSDH7w/XhxB0NDCUYcyYuhQiYTnRsQg1KSEt8YWRD6WoChFwAXnSy3MOAZgUmb2GiD7xR+/AfCc2gI+51vrokf5GOe2nxK0mOrUlviitu0HwSoa54+ANhu0dZvU4xO54uefEfbmI5EnniB0PQyGnfxgIT5flKM90HOZ7YaXDuXBe+YM7Amotpoyn2cDnDl1BtBc5+gZ53PMr2Yyf3cG2y7zC+QHjHHwWZ+Jr6hBeFbbSgTpPfB8YaRzAMC5LzKiOgJc5Up8y62qAEnsxRerAUxnGRvNUKQK//s/KYILI0sFxiA9chzy2fvjWWwvOqgA3RUh8iEjUPGhtgV623lHD2JLx+ZDzx+GLfOBtF12Zd4esLkP26hx8sfgDvEFV48BGQ6wVv1ptcObEPVJYlpSgh0HYlM4CIooVnuyl5Ut0BrystUCuT9/mLZAawv6BGEew1azNo5p/6KlPO2Pw2UF3JjyPD7UAqGBq/EF2C2rMIhsBviT/BMSVDHl2AuRaxzmJ037JEBtmPfPEdjz3thqy8aLky8A3iO+eB0R74ctKNvOE7SNZZp+bF8Qjo7FNrqGzp07V5nNxiLR2XSE8vO30Bbis5pxxmypgRkmCC+JVHhwGWX6uK4U5ty9/35QfPFll4wMieGTJzs8HRNwlbz/vhokZbGKyBkzUGnqxg5x7dWA7vCWOG/kjaXWYQAWNRJXgJgPvrcTr61+9+594I5CwYkIW26t5mpvAjPAmVNDfrbgYCsf/qhttXtb8CZoEwTsf/gsfkybKAedyNUrVkpD4xdX0yAxxhA4lhCAfB/uvgBt+3ewzhs2e1uwJ8hToTBA2V6rJki3x/PPl8d8jOuwLBwzIZ5xxhmSgBd1W6gWThU7TkStW7wc/FCUJRXKDF2Emdef1cZCMXiaDHOLIzdhes+Uff0N0kY/o35HYePHSQJyGjHkv6NIA3pHSVqf5wAJGFodwZ0gT3A3gJumm5ZAgMUimD+majm+Lgjgq1arSECeiEWU6Qpm5dFaCz9A+t2nYQscAT6DhwqVqxNOOEEOw6B/W17Wu2+4EbV/F4k/vvQYuekXHyem3DxJuP465H+53GG63UoUv6DnCt2Kg2C6Y+BS+MQJHS5kDegdLnJ9wtZKgNF01QjhVho4/fDhI45vfGUa4o9IgTe0b4Zw+yPEXtPBIwE6Q8ybN0+5LbPmJwtRtNZNk8FkGdD2466+WqqR3oJfrawq5qgQdQ3ScuQhxJ8Jvhj7QdMKTSydlVlTA/rB88x3uSul/bEKg5dV8EIhiFP7wWgdDOD+6jPWcMPkD621uS+6nFB0h51KgF98i1Gj9WcMdtPsc/rpp6siFU53aGZF5mWXI8Zjo/J4Ya1Pe4Cuz86W/GefldIvvlTVp1irlJGh3LZNVJKJiGREAUe2LjBQA3qbpK939qQEmCrYqn1bAZw+9SR6ETCCjgBOLZzzLQVveLJf+lhdSwLZAFsOmNKMd9RRRyluyXxnf4UcSN91/gWo8/kviT333KbVVDIKXn5Fit99V7XFwvuLZhg/eFC1mqqKRDZ8LrLmI5HMxSLjkKT2ONd84e3PqQHdXiJ6ucMkQBs4fzj8XK1AHvE6ZJck+WAQLRSuk9ZIVwRCDRsmvgB1TVoCrkqAPu5ff/21MNgwFQPg1NY5PuMq0UFg1znnSn3uXun//feq2EzxO+8oMG+AeYfR0gwMarWHVH0N6rchPxBBfAumDTAdxiN3/vAzRYbNFolJd7Wr+22nAX0/ceiF9pQAfyR1iJYjeBPECeb0TPHBZyo1bwb0ME0B82D4wKyiSUugrRJYjfB6Ajs9ok5GJOcQNzxOyn/9VXZfdbVEnXaacNDThKjiMBSfSYQfevAggK+7RHPhrt8B4h9CI/9CpBZZN8OTRIaeASAHiPccqcaD3D2s7fZtBXRkL5IZ4DzwUNsDN87TMfoZ8IlgRn5cBF4Jbpa6Yz50c4NZqk3VUmWqsk7rG6euLNdb96sx1UhMcIz0juwtqRGpapoWkSZJYUlIBOjbrEw7ayU/UfljoNdA5e+LxfBzD+zfT8InTBSmoaUphb69mpxLoN5cL+X15VJeZ+WSavjrlxVLaTkCvMrLlCttTVWN1FbXirnGLD4NPqraTlRYlMRFxElSFELNIxPUQCEHC5nOwJi6a45w3kvvXEMXy0+Q9pimGHrAHI/SgIzdaImogOw8dZaKZeBXIj1Xwo4Y29JuB67PXW8F8bVzRcqy4YIVLnIo0gRQG08/CkEfnlNe2gro6I2qGYpQKIeATiC/HswpI1MI7gdGqKDRlrwB0AnAlSaEJdchLLkeEW/1lerHxKlarsMyfmBVBjAbUycAXWuutb3EFudD/EMk1D9U1DTAOg32C5bCmkLJKs8S2+MF+gYqgE+NBMhH9Ja0yLQmwE8KTRI/347zgWc+DHqfsBQbtXDliQLNxBcRhWEIrQ+DK1c4QLzVn6otSs47N+DLuKyuTD1PnBKY+RxxaiyX15RLJTx5KqsqFTCbqk3SUAOtrg7jwCZ/CTIHSbA5WHFgg2NAMvmaxBxglgYf7Iev+IAGRAdbmgeMgMAACQ0JbQJ5A+gdTe3b7GMBvFP6DNQ0yy/IobIIzyTTENNnnUnWWqJaRFPXI2lbGGzxAMuWNt+3vhTAvfZjK+eusw509ptmBfFBgMPA0H3benCurYDOrqSDvwI70tBfRvuvYJaqI20GTwGzbJ1TagugN1gaFMjyx2KAsZonKAOEjXljnQLoRtDmOm5DoKY23RL5CLQggC2Bl1NHINzUFrAPoG1B2ha0jflg/+BmNW5eY15VnmSWZcqu8l2SVZYlu8p2SWZ55gFgH+AbICkRKQroCfjU6An4nPYM6+kRsGfhAKWBE8ShjauMj/jEDR421KqFIy1pCDSc7mxG4Qs2uyJb9lTskd1luyUbmtiesj2SW448HuX5Ul1b3QTIBjDbT52BtACP/YL9JDAkUIJDg5XmTS+OqIgoiY2KlbgoVEGKileeHbbRklRKcqtyZUfxDskozJCsoizJKUEO9/JCKa0oFX+zvwJ8nhdxnBLpEykh+OOyr8kXZt0GMZv2z6Fi/5tg6gsD5DlPzZ/s6rxtf22PzWecv0fji8T2xcff3fF9jpcgP/c9SpiNlQn8mAKE0aVHHHGEe0Bt20n7eXw1yUaYUmgXz1iEtciVk3I4QPwskSGzECYdb7+Hx5fbG9AJ9I+AeXWkn8C3g5dzwY6uwDJZ0tLSRu9CSLq79F3Gd/K33/7m0m7hAQg3DkC+CE4DwyQiIMK6jM8htjWtt122247A3Jypg59sKEYoTKqvuJLTysb5xinWWezXq+0a9+E6RKaq/fEQ0ruD1YoYut7EXE60LvvGxUpRqEV21+Q0gTyBX4E9gL/GjMGYRvL39ZeU8JQmgDeAnlOCPdfbE39oNZXQMP9cKlUwodQtXiINO+FqBbLEx4hp7DCpHX2oVIzoJ7VhAepLoq4BWR3NdWqewEfzAadkthvr/XyQfyUI4fswKxlTzscE7VsO9HOsmdr305Vlpi5gtKGRT8d2ajvPbWpqa6S4EiaO6lIpr4YmXVOp2rgdQc9isihN2K/BT019VT10570I8IcyEBIg4SHBEhEWKhHMpYNpuAqR5xTPIIKrwsIiJABAqVzZeD/8AmBnxRcXXpguE55DgZwFpjvFUFbqocQU4HnIK83AdLcU4WVUWrFXyivzkdmwWIKxTxDudVCDr4T7REi4L8DeJ1wCLCFIqRAE79EAMTX44x76SLXZV2okSGrBNZZAMO475FADsw8623w3ffAb8WuQBj+z1PmZpNYHz4lPrVTjr84XCeh8kZzOjmv8ayQlKUUePepR6RvVt/njO1jLSG8GIm3dulUGDBggp2KAk1GurSITvry3/ghNHCC++TvIGcux/awgPuwMkTjMdyB5E6A3XXZrNfTtJdvl+4zvm4A6vBGMDeA2lqlNNwvE/JEiZJyj2dYp5iswX86pzTzWN4GtLfAaAI0pk/K4RPicY7EIg33w4/YLRT4STI023+AQdX5Gr9HFj2zkJrE/B3M87wf8AHy/uHipjAqU/FCT7Amskp0BJZJhylXATzOO7VeJv4+/JIYmitliBgDXSdzeajl0W40M3W6WwVkWCUQK7jrgysZUH1nd18pZVEBc+CzlsQnM1LACAFCckk0NSBhVi7QAGCzCz9z+ktQy76UCe4J8cLTEBsfuA//GNvUC4LqgWAnxDZHiomKH6WUJxu6QD2wYvj4m8cPUX0wSiPlgMUuwTz0AkFwHEKyRAKwPhJ0kENtY57lcDx24UsIxlBQGDsB+bSKOmRDgm5ggD7A3lgHGwq9MelPAHKi0xVac0IRj1uPlUYP7WgnwreILHZWbuFwLtuBrMiAoAi+xBvGrr5UAAFwgXtjBZpOEwNTmD+D3w9US8A1WwA+JNL0EGtdhT8B48H7tJn6eOKDQkM1SE75Kpg+eLUf2RyAPtd9QMPriyjNIZevPP/9USb74hcHMjf0QXewScXAza4lVE18/T6QGmnlYAmwUp1tNKsmHudQHl87l5kbtDegdanJRGjG0WAW8lY2ArECYYAzwhX3SCtKYbwRnM4BazRvgDcCmVt0S0TPDFxqULwEXb3cFusZUAbOjNm5rs70tgOOhws1o6bQHrKeXCOsYGgBvyt8H9rbAz3kVVWl3BLoIWoE/XsyxkVIZGSjFUFZyg5FgyFwuPbcUSvK6PAktJiiIVCbHSOnIPlJx2ACpG95fAkLDFRjTjm+AtO3UmFfgDXDgsiPN37ZbBHbalUvwQymqQfY/gHxxLXKYO1guhjZJbqhtkIj6iAM41IQ8341aIl8Sgf51Eu1XLj0shRJhLgPoVEuoBUCkQLgeUwC1AmNjnlMrUzNuoO0zKBImkCh456CQbxAGuAgiUB7Yvv8y2o113I8gCzOI4Pr2MZYBgPst77fedltj3u4YAE9j//p6VMKpBHjWByNNMjRpvCgtZMxblwPF4sP5AOuyD6doI2O+AS9bNQ8gtfB6LQBtfmk2kPESN+G5wH0orsFgbHWZlNXia622HLcP2T7xcg70tz4Hgf7WeevLGqYijOME4fkOBnOKs4kvXPV8oNH64AvOh18Q+HpUy5jnVMzV+PLBIK8JWjqYX1QmXGuOKUK2+fSUBJ8cOcH3e4n3zcMxK/H7gRKAa1WmjVBEChsgT7ANwzIBv6nNOr8Xz/VcDJgyg+OECRNk6tSpzlNA523aN7hZiq9SKIZyyAyrNt53ituDmwyEYh4cJhqz5eHDh8s4jDe1htob0E9Cp64Dnwg+AvwseCy4WWqthl761dcqBWazB8dKBcAE4/Aw8QvHFPN+EUj2hM/cpnnVHo71aDPm1T7WNmcpM1s6d2et54+SHicG8JtttHz7l4CR0Ip9pTxYzYXlucLxwAeg4ENnEX/Q/AHwx2fP9Ds2yNffV0LDYCrwq5CYhjzpWZsl/aozJEGKACQmKUWitPXwcigKhMkMwBwQEoP0wXHYp4dEhidLVGQKbNNpaI9tBGgANQHbH2DRipeu0S9PTM0mlKkrqpHyAgyyFlZLGablnBZiuQCGinK8HDqAKAYfaOoGq1MS9DHDZ00A/upF4PhDy+M9tOCEQfhsDAEH+0HPx70PllJ8NRXBbFSAaSFeJuV4saDdt1yCwFwOgKmHYF9mDhSITxpC4iR10EgJjsVzbrwAindZgXzvGlw0voT6TbWC+CDAGl/oLRAHZOlpYwvanOczbJucjqmI42FKHQZAH9XKUnRtBfT3cS1TwHjdSS74HjC++xTNwX+qnM+DjwdTxbsYvBzcLLUW0JkprRwlxPwIvAqcAb4KhAHYAG+rRg0zRhfIfNisgNp5Je311Og5Derfv8MHM5nb3B6wuUwwV2DReP1M4KUKJ4cHQEsrl/i6LIkvXSsRecswqFdp3SoQWnIy/HsV41O4Fzi6d6cDs7Nb2ABQrCypVeBsD9blAO0KrLO1RvkCVMNjgyQiLkQi44MlsnEaEh6I5xxmPFhm+OVnAC+3p7XGaHO8vP82BG/rdv/f3ptA2Xlc95337UvvCxr7RgIEwV1cJJJaaEmRosSKFctrYsv2HDvOyYxPxnYcezyZcRyPEzuJzzjOcnLsUTzxxItkS45k6ciSJcqSSFELSXEDQBIAiX3tfXv99je/f9VXr183uoHuRhMAkVfA7Vq++r5XX31V/7p169at6DnEdf9KnftmAHsT4FvCi6+5PAwGciHs8iiuAYN767W6lQociXhm2J7466esMEN95WZt3Kbs7i7OCE1us3KhZsUZ1j5m4e5LgPYyLo42UDaNEIhBIM39qdqo5eOT1gEJ8DMMAOkYSN+/y+I7H7HYzoc5+onZmepR9RB8IlpfmkaFdGISsSHMk/yJCWaWGJ9rcC0a7qyru4uDRKLDRFjzGoD6oVfKNfvtkxftQ9v67cdv2bhMiS+ffLWAfvmnr/HqWgF9jT/Xvu0a1ICmlzpGTAtSAuzFvtJkdVHA3XpYhXSkwxmZgxjcGuxI2kDtnA1Ov2KZi8+bnX3OyzD1Dppub74H8Aa0t7zFg/fAXqHRNXjDlf2EwKkwVYar9hy1OOtpWMPAYc+MsYgOcDUdoNHZK8D2YN3VAtpK07V44sZ5v2a5VxlQvWjxWdonIrWBEF7sa6a2jcNWbsGsrdrGZz7zGXsFI1nVoap9NvdZe3DLg/av3vmv3BqQiqFZjYBdVJrlHN4o7ONKj9IYAArTRZsYRexaAbCR/l8P1/mOIfvxH71rTT99UwH6aayiyTZyOARCKlGrCd/sGyzW1EKWuUlTxeWAeTFYK65OGTitxY90Km7oQXci2to4NOi5bjR3BjvQepl5zeLnAO2z3/HgPaOJIE5T3413ePAW1y0QH9rvtUB8Dvc3cHO+E8933FKh4jq6OD6xfVrncuUT9xhxgorruo/7MGyYTwvX5LemibskTbLeQmXK0Rx+kRlDBQ6siqxfsugYsmn+OkqmkC9nWRzOsVgs1US0g7J57+c60uw7STAmxR1XLL+VxCm3xlvzqT2HayEcfKUvFQ5pq+HAeYmmWwzMVwLnVuBuFT80HxgFZG9di5cilU3nwcqpf++Mjn+T1kqaNaAv9n3Rqrmq/frbf90e2/5Y9ISVeyrH1772NfvaV5+03s4BxB/3c+jNtFtcH2OBfZqwc3xDlaWnW8cw9mG/n6MZsenSTby7i5OcqP9m29Agrf+0DTdgE56q1OxzFyfsqfFpVixi9t7+Lnusr8s2b++yTbvXZhuG8jxL2R5c6m3V2q6LWyuHfvjAd+xzX3gcrYy6lSteJW01L6BGvpoBIBxs0do5QodYzl9p3tV0KN9I0BmmIYoTXspfKi3kXe6aOKHlQFvc9nIujR5yKoN8OsXuT+TONRbcKiy2Sf+jUEvYNDRZidtYKebklgV0tPsb07Yrft7uT7xuD6SOs6nhNRtC/i3XoLFPduy2qb77rdQPcA/cbanePagbon0x40G61MJ1uak2U3KlaWq+Gkf/dJ1UWof6BiHufDe9Jk0McXStEUMLKD5rVajM9LzC4hyHsFk11lo/LALGWAwXKDMOeZEHPVqLeDhN1fUtAoXv6S5epz9698VteKm2qzSRuOsAzmpPy7lWYNbBFwGkF/vhWjKdsQnWS89NVe00C5inoDG+676BtG1Jcl7u+Dk79vrrTkYdflNikOGBYft29tv24bs/bD//wM+7xfhwfaW+VKels66Zo95R4j0doNFKOndV77QaNwc+ffT0sP37ExeswHf/kc0D9gu7NtlQJkirV/O0hXlvKkCf+Pqn7fin/sy6ExetKzmMLm/NWUEr5zZaObvBKqixlUWpbqsku62c7KAT5uiEGVbv0YNFYyToJV8pfLlGu7CK1xa7tEPRwehk9WiEr0UAEMB4bb9y5btioE8iw0YngLmOhkoVcOaMJptj9+EsusZTAPMEwDqCaHe6muBawvJoJPfHpmzApr1PeBB55ObUrG1gsUry7n6uddfZ3IJWRrHSy6LURpupDaC73GWTsSEba2wkrZcBoMMaLFhl4IYSjqNdusx19LotHbckXG4GsUweGXI33FpvH2IJfHG9GXG+TUqi0u25XgfW7o8H8aV+QZxmWNQ6z6HCFy8O2+jIsM2gHRVcHE2ObFcv66e9qJzCYeW6rcZiajlBjYBxfDonR5Xf6gTgcvobrsH3u4jj8PwKo+P2XC6x+HqSuD7agQtHaZpBKA7Tj1pn0npyCevOJK0rE4cS1plO0I7EJc4P/K3h0J5a01rDy10XI7QYlEM8gLPiizcS1SjvRcQcp8bmIA/YCgu8T4/P2bnJOf9KvJVcArDu5H0m5/zibxfh+3b02ls2pm1rctrKo6ft2GtH3fsp/7TS+sr2fQ9/n73tjre5Mip9pU44IFvrMuylAe5qnPruJy+M22++fs7OlCr2/oFu+6VtA9Y7x54ARI1qX6fPX7Tdt+yxxx69ou7IkkW5qQD91a+8bF/62LkFL5pOlKw7PW5dgHy3nbau2FkP+IonLoABEScljYbOIVa8UXEKfjNMeqdUn+RD4jrhQgT+oksaPNdq5SKqdLPsM0B9EqqV2CBUpnGWC1zDRz/Y5ZGP/m4ddbBapYwvUQA+U/YaHLLzUXVj8zyay9qugrqXi9VhEgVIpIjtg4Oo4ytcgxuWtnQVvwLwSmu6BBXZCFIkXmDjxyxh0XQ1ZdPsDJxjQwhLoOgBa3MI6mvu92I8hyklV/oB5H4WjbYAylvRYd8EdzSE+t8A6cCxA+fO2qTlKuOWQA0tuCrPmq4N2WR1k001ttpUbKdN1rfYVHWDTRV73OaUkFd+AmDOAsYeeJPOT+WTVgd8S3EO+Qa3pwGvSepntFy1i+WKncN+yYXpso2wOObwrPWBhLsBtqHurA11ZWwDFHxJSQuIQeaY+s7xLOcD3LUCi1hsIIqjjpdit2KuNsuA0vpOzBjYYDMhqme9T3iGDTeaTSx2AqEsmjdxDRpyeCGXBm6XNH+JbxqluSsaZFyOS/KF+/QeIex8/uhdxhErLeUEiIPUsepisNNTCHt//lpWI8NVOA1Wo7NlB9YCaHHYAbAF4Gcm2ORU0yDknd51Y1fWtvfnbHtf3rb15Wxbf96FlbaJ76j61LOeOTFmzxwft2dPjNurF6bdYMglu2Njhz3QOGIxtt8n0klm6yVLNHgPrm3dstXJ3iV/lxXG1XLXoZyr8YUPj586Z7938Ajy+VG7lf0B++j3RRb5S3PR4j0P9NK6mKUGttqv/OOfWs1PNPPeVIBelaiFKfbsOKveTZWuhWpd1bKqbd5lMjXrzhfhYibh6tFNZtrf3TiBPvNr1lU/Pg/487egqgT3JX1WB+6IFdh1Z4C29+HYFJcu8Qqc9ISrminAxRWZls+y9Xq6gcIVQDFeTdtoJY0+eAawyAKrNGZgXRxwnim98wnn2FnXgUAjj9/JTjv5jkjLomOtrRoaCFbqNDDUEjn0lznUGn3wGJuLlnRwnw3UvOYyOwDqXYAcgF0BqMtAfKEDw1FpbJN4sAn3J+ESe7SwNyitjJz1bPC+NDQ6+jKWBLibHGvgXPGXStMzW9PF7Y0DHiMzRRsG3EcdyBcd0I9E4TGuj3KtRFvppO76GNAHoF60HHrccDYPgqqHqt5Reudw3EkMXeW6++D+uyyfSVsebjcH4OUiX3EBoPw8QBKupdA2CSAd6uFa+BI9js74gW54uuTqRIOewiOkD8MZy1faxDLgLw54MdhrEGhNG2BwEMfcCtQBvOVr0Gx1A6wLLAbqAN5bAfAMawaLnbREymXtYj2LTjp9tfNOzAvAZEVuqlix505OOHB/FqBXeEvtvD2SPGFlGJujbMqzxhm7Ldll2YLXrReYS/4ucBfpXFKJVtbqxM2PAtitGlqnmcmNkxbX/oPIicEar2fo4zmYHBa8kzXbmZhEvXLOkvlue9s73mXve/TBkH1V/k0F6H/50jn7R3/0HdehOmiI4kQ6AJAOOpfC6mjdfLDOagxOsmHZEtu1ZZluFg6YFe4KOrzawt3qsugzs8bB9uyKdaMa1Z2B248Pw+mfse7acXbIMcLS6Z0+KipyAudZIHSKDyYgHqtk4CRTcJIJu1hM2IW5hJ2fi9tFqABXLI7Oc91w3kyFOwC0PsQGmir3wFl2Y8Oj202VKTd+lnfJYkwpC6DkIIXzWcCFcIawGqlIU1v5Tg4qtgfjUIx2frDRzkGFMTRm2K5xdEka17W5Ax3tGh1nur6BHZx9bCbpdEA9NRlj0Czb5AgyYxqyZMmNOMTuyXQXdly644g4YjRQr74dTwPK6PzW2Eyi/NIbX0ziZK6Hq2LtrohdlFp3r8VY3Mr09aP+N+gPqaa+ewGYHqg3xXeRD3UkvLjmepT3jfjNMpogo7MB7AF8BkANis2BIAwI+FPFyzMrGgQ8Vw2XDXct8BZgh7D65mJXZdF4jr0ChcIJfExUlM4A3ucwsTBsr5eTdrgywKrKLXbMbrVhG7Lb7WV7W+p1e09f2nb334NIhINPcruaA6eYu1fOT9tTLx21U88+bjHMHnyzssMO1zbApJXsrYNV249INoWpgwJWK+UkEgrgLl+HkS92YiAkgmkFbYUF5JK1BycUmWXj0SiqtROZDpuaZf1oLGb9fYN26+Z+u41ZRG/hjJ0/8oLNTE26weThh+9CffEYosL91tf7UHjUqvybCtBfOnHRPv/sUQwhoYrEVFzT6BJ+iQVSv0iKjxijirxcIhOJLiRP9IAqIYPsV0D47LOzNGH20aGfCigpL2Enr5QlO+7TZgbvk06aUvxCV/BX9S3esMwaMmTqIA7HKUm0wjHCEuA00whLfIPEvHlNYtliEXsrAbABawfaALcBzmxVogbmOY/LvYAGGGmziCRvdT7hOjsKywBqAfkklmqwAdKwEvVeAtzLVKPiRQrifIUh/SKXcAxU/A9h57s4i5ASczB4Z6As4CtSOKew0vFraNZMd/bYRApuCUCboF1M0j4m8ScQWVxueJHIvocB04E9XHkA+h5APwwAPaQr3Eu+bkQuScqUZHAVaT0kznuxnIjPjkmEW3HEOiK3c9KJeCTOY7CE6gyEddLm4z6seJ37G3WpOyoc5eHZThTjvrW4zjAA+e+sNsGHJo980vjn/SvHqSqM2NVtFo2dGRYHZqFssm69uQZyekAyoXIjcmTnZ51y1eA8q2j6VKrs2K4hfqwhftR1914aHHwbUm2cs832uu2BbnXgfdx2uzUufe08zNNuYH3ARuyg3W2jsQ2Uum57GoftAXsagD9qd/RsA4gfBOAfYg3tdjhu2hYqkFrcPHr0qGU2b7FPzAzbxPQGRKFbmOFhU4dZ7Vt6y3ZLFtHaHDutizAzOMnNBew9aK60ct7qD8E1eP5cPG/DzKRHqzBxMUxNbOm38T2YzeDb34cBtB8d6LUHtvTYLYMwfszcn+E4xaeeespm2JW+aVOf3X47M+nc11DlfcU9dsf2n8TGzP8efmJV/k0F6AcOHHBHT62qBsis8wK1oCVfoCZ5dAPfQT2Nvt6Q/DqGXRPCNOYGbbCBUaIYFCctSf4k98/7PpwKaa7D8Fx1GvK7zoMPOkaCM5+uayI1MocmCsvAkZAFI0ngHI5hQ9xwNIAo7AcTBhQ3yPg4OhPNdBfmDeT7+zT4iATKSp0PNxCv+LjPk9B2fW3jBnyzGJLKd4iYFhNvBecQb/UF1CO8wwWKchaAPFMsOzrN9PhMqWznGXj1aq2Ot2WHJ7MiOkMXJD/Em2mAfxcAqXhI6+KekL+L6wLPq3FawJqBy5uAGRDAB5BXfAL55xjrIBOsk4yzhjLhBoEGi7ioomGoaoa1CcHp1bqYA3wW9nmaX0ERUzEfVzispyRoB2I41GrFpCDAY2fsKNvjIXjaDbER29AYZr1jXC2ZotGOeL4alxdbyffxqy03o73vR+5B+p0lOHrEICPxnXYstt+Ox/baa42ddrS+ibUcr+mRo33vz1XsLgaJu5np3cPmsV05RHKIAjUYjI4+Yd++eMC+OtPJAQsP8Jw97tc2sb/xLY1v2f32jN0RP2X9vfeiSvggXO8D9vzzM/bEE1+3oY1Ddnz3cfvcucftttz77KHeH7aXz5btOWTx07TJHsSZe3MF2wPA50pj9HXEcJhuKADcF5ltny+l3BqKxKKpbN72be622zYxcx3M2JcYxMZpNx/c0GP/7JYttjvP3gicFtVlO+ab3/ymC28YqtnWrc+gqnvYYU8PZRwcfI9tGHwv1jR3u3vW8uemAvSpqSk7f/68EzNI1LCYggiiNT2oXa2l8q7lPep06hjirN2gcy1/fInfqsIpn2f240CaTiD/lANsD9aKT9OwW10SoNmEvHAT1vKGUPPbEEf7BdAZAHD66mett8EWbcn7NVg5cNE7axQTLZFGHnL466of8swDFaHoGfOg5fMqXZREPJZE2ymZYEcxQBFDgyeGPRM34OrJGtzgeGvYFBFnWalMMrvT4tu8nJ0fvMTF4p1oUW2wUmLIiviFONo7mKatx9KOEPQxsGKey8UJu/kfgwAgV3PXBOGCaz8v9HAeYD34HsqrDJg13kX2bypw8RV8hScRHZ6rJGwUDrHVabl7Y3LONiUKthGNo41oHG1kV+RQfAJBxjiAD4DBVesdPQftOf/5OLOB6FrgrFuf78PMgDIbMaO7xVEmvcUmkzvtCIvhr1b67OBcyl5Cdq8ZkVyGwffOzpzd15W3e0XdOduLmWDNYq7kKizCj45+zV6+8E17fLxoT9fvtoOxu5nvYMmSOd/98UN2b+0rdo89Zx3MMOcKj9gLL+zkOydty9uG7D+d+yizt6z9+jt+3d6+5Z125OK0W2j9DuD+DHRqbNYNmgmYmr1DnbZvY5ft2+Tp9k3dLLCn7cvjM/Z/vXbWXp0t2oPdefvne7baQz3eeqP2YDz55Bfhyl+k/dTZIXqWxdgXEa2wdtP/GCD+XjZHvQsRae+VXnVF128qQF/RG69Tphry5SqLMzU0IGpuukvDJ81PJeV7WuqaT/PT0WanYWRv5nXTUd0vMCGd55botBU6uTp6LEZjB4DijtBvJh4LcdQw4/HoOr5Lx48rnYYrP8ZCrO4J8TiGmxQ2PQeOnEZBp0XEzp+zgPUpuItThRlM8s4B3BU7y3T7IuqKmrW0ui62SG+ITTiQ7m9csP76GQfWgwC2QLsH2xriIINLsBCcTGJLhcacwlecAnhAdZ25NQzMts50uO6AlzRuat4TRAlOxECqYF4gXK1OIDoap1N5EkCvxgkAVK/JZCeESdtUH9TPusUQ4LWJjUFbLJfdBne1011THa7UaXDxZZxELDGFeCLylwz7QUVtr4IYo0qeyw0wsmAY8eh8gSGEFVBsowvDt/NFWCBqcdKPGmKg3QhtAvAF/KLNDMKbU2UbRLSS1MAHxUUMTPLT6UFXB9kMGkyxfnsBwH5humDPT805f4SZjZxEVfuZ4d0H8Am87+vK2T7iqaucUenZEktNTn7HTl78ij0+ct6+UdoBjD9gMwymGirvTV2wB+Mv2p6Jx+38wf2IOPps960nbWLDIfsOW/bv3f799jMP/Z8LdNYvTqFUUaraTtYCkswCW91LvN+vAeRPAOi72BD2f8CRfzecuZiKs2e/bU88+WU7/CoabcyuBwdP2p69I4hwHnacuGYNcfpacDoARSauda6BTFrvH2CT3Brc/7CA7jsRG0DUadQ5XOfxHUSr6OpU6mQu3OxYAoZJ5PFTgAMLq1OAK8A2nu200VwXxp7gzOC6vLFUZMN0phCWL/3tCjK2KsCJgVF8Xc84KtMxnE0/ppzKV6YJllG1qkDS7b7eLsHsoB9o8OA84uSYCg8KItAQEefdhbGrAM5JgXQKsE5638Uj8PZhdtIBBOvlxMmXyxeRS74KvWIzs/JfpdO+BuB5madAWdPZzs7bka/e5oDYceiunHR6uHUNaDVOnapUxnjeCN961Ptl71fku7RRNzj42cPCt4jxXdPpfmjAAV06NYD2Douu2i16SdtSO9PgMj/QLXwawxWzMg18biCRz7OaYc0wWsofwokEtosC6OJr5qG4m4G0DDYFZlFhdqUZ1mIaZh2q1aW5dxuL8NtbaAu7XM8y0D8PwAnExQTICf5uQ0TnuG6AWyB+B+Ct9Yxr4QqFY3Zh5Cv25IVX7WszOXu28YCdjW1zP30bs5LHjjxvidPjcM3n7bZ9X6W9MqtEhXfz4Lts64bHnBy+I48to5b60s2qr99Al1w65X2sk/w8m4J+ZGMeOztft2PH/xrRzgU7d3Yr7Y662jZtDz20x/bs+QCb7bbbmdkz7mCa41PH/QE1ALgOqTk/e75ZJR+54yP2iw/9YjO+msBNBehSaZqYeIYO0grMWozxoK30wNUIrN1UnL8sSWibC9QV+d3s9cOUbHzQZuL9hHvRG0/Ynkl2MI6/Yg+Ov2R3zhxdwG2q0ot05JO5TXYiu9WO57bYcbi2k5F/NrcZs2XInuFE/GJd8LVIh0lR5PDuGo390jw+rxb6wjRU/J8jGlvgBefTPM+qMklsgGEKptGaKvsFM05m9nE3tVaarjHNZkYwP92W7m7FNqJ1s5UOuxG1r2wE0gGQBd4OBAGca+m0qDYze8QDdwTgs7OHI4D1JRHXLNDu6NwXAfg+DjG4BVDzMs31KG9dYg44/gD6Duw1CETgH9IVV9uTaCfJpjbVmWYkC8PLg7TAeTGorEf5V/IMAf7pJYD+1JwH/8B561m3IuO+F9AW1y0QvwsxSgfrHOvipJV1+mlzJwGNHjHb8zdQOP8Q8hqMr63Aqb+Pjj1pz53/NqKZkj1du9NetdvtjrMn7O2vvYT6LQeNPIBp59If2C2pGfat+AFWM7HOzv3MxBChJTfaxwp328cnNzH8xuxHEJv8vfyLmOb+BueVvmwnT+yzi8O7mLXEbPNu1p32DbLIy5kDEXjrNCudLxBcd7rbdnXv8mcDc6iMzgoOJLv/a3E3FaBfuPg5+86Bf9IE5pkYOtIJdiACzLOxPpuO9TignkJrewod0ElG4wkM8FcYSRe7LrimR6ZesvdMvmAPTzxne6cOO4FHBS7n7Ib7bHjLwza9/VFLdmNulcMhOpkudWAjOceIm5k4biko7g4WCE/mN8hrfbug3c56m/cJK456IL02ZG771IAGo7m5kxHXDceNFoC4bqUFjlZimg6Au1PA3RGBN+H1kkm2P8Tla0CAf5YF7g1S6YTWzTkA/7YH8ONPAubPwH/B+Yt50IY/Tldy9sh12PK9f89s97uYEqxs8FC7mpp6wV678IT91fBFe2F4yLYdYlsdm/qe2nuPzQ6x2Wnyq/b9fUVEKP1WmDttny3eZn9afb9j+N7e+Kr9AKdqarF5ZrrfTp66i13DO2AW2CMydMQaQ6/YbALLmCg0SOSVYz2hO7+NTVy32Jaefbaj5zYH5DqgZb3dTQXonzx71v6XVy8uWUeCSk2P+ml0nny4L4oPNQp26/BztuXct6z3zDcsc+FFNBBZZNORZzoXcNc7oXf4sGyUXMlJCD07YjZ+zGwMGj/eEiYejEyF52izUv8uD+4C/f4I6OV3b11xYw2PezP56mCl0kXUy441RSUSm8zChWtNwjtsnCOfliqauO4uqAMAz+W2Mw5emyn8etSpFi4lL3XE+sgl4ZAWfOVdKkyaTpgqoXEzh8ZNeI6O9StSZzqp6fbcXruj9w67c+hOu2frfbaxbzOgc4PWlQD81LfmAfwMNqYCgG/BciZ9r7Hj7VYfeIBkZlnnnrH44T+z+OufsViZnb35zVbb9b1W3fVhazATC2YR1IVhi3kWqylSUSPs0lrixfp5O1X+pn3hCOK0ybgd3bzZvrznIRauGSdol0XWTM6ygL6//rL9SOz3bVfjmI1evMVOn97PYSJ9DsiH+kds66ZztNEZxhWOlWT9ocHC/1IuzmaiJAxmyiIinGz0Wieb3rrGTlpy17ut67F/sNStV0y7qQD9aKFofzk8uQCwA4D3AuZBXOFqRaesnFQD+ppvRGefh+ljOqSFCgfg77D6zketvuVujtlC40CLnG7RM1rwlPiCuDQrtBDntU+0YOnJLe4hs13qmvJgpNniE2csNnEaOulpHM5TxvQVV2MOTmXq3eFBXqfiaJDR2ZJNP4RJ1xFkLj3kCdciX89q3qs8i/K769G9mDhwXNBVzBwk29aCpMRh2ihSLJ21knzFS96X7NuJhqL31WKjk3M7Wbe4boH3XhZNVzCQhjp7A3yBZeuhxS7MgeLydbS4ausAAEAASURBVOh4OMg4HG6sNJ28pHQdRi7QrS6lwneFsmp3ANr7CAb5yxpLhpllpoaP2YY0M8wMG9SUloXC9enErB3OnbDjmbNozwjV4BWqqNfVdtnt8T2A/W3obO+3Db0bLYGtm0RPhrMD8AnHUAl9w502tAHgjWNfNzv2BAD9Hdfm3SlJXXdapeMBNIXuY//BfquxKafGImsdo1yXLjWUGby+ZfnE44gueQbvWqrvwwbQe6F3kn1lIhnAAQDmWLrEq/aSnYZRYG3hzrh9O3+3q4rvq/25vY3DRGbP32OvT6J3zvZBDlC0uzFlcWdjB1+HfiUmjv/yXZCjCaupKaulUJ7Ar6Y91fBr6UlsI41ZN/2hF8avf5LnRbvYh7c9aBt+6vE1fYL1APQP8Mu/A2m+81HoN6FW9xNE/i10Jkr8j/jKt6xbq7XFydOH7MKhv7RYH3JlcM84dNZvtAB4i9jkGD5l+eEz1nHxvOUxPB+j1uuA1UwvOqR9HTaBbemJLsA7zn1Ovjwv71q2sG/EBcqV06LrHD47WfPFOmE2b7BDTwesSPedtuf2MMXhNGJwHjG2FrsZxXqXRwOEpoY5yPmIhpph1hYyeWN5ARU9jJuxA4+N3tCkzdXHrcB5pcXS+RYu2xdOi4bZLJohmc1etS3yc7kdjvvOoDGxXk4n3wuIxc22croFFj4Fsg6UAVwHyotOmQ9pAZTFXV/OacNWF7uFdeB4FwvknWjFdPG9OtFT70APPxvvQYOChVJEgWmOxkuVEpYWsYM4xQ7iFIZqsoC0A2xAOi3gBsBT2N+Js2M1ji52HONiCUi+4kuGuaYxuIbd9VlMs75y8ZAdGoMQV71SOmwn2AKvPQtyGyp9tnduh+0t7rTbIIV7+L4O5APQy+9GE8r5Hvzj2NcBPJasDqdiO4ctInZf19hxWgeMaxNoOJ3j4JGRb1ty+hlk1YdgdtgHwV6McmMvIMzh4lAZAJcWvdRhEpgUiGuQ0Xviu/eVr/fTwqpMKrCuhNDa+6VhSxz7lMWPfsLiYy8D0OzE3v1+a9zxQ/jvsVhKDA95ua95T7i35U0OHjxon/70p1nrSNr7P3CvZRG9VKZ22je+/m20V86aDlZ59NFHDZxi0ZtnrtA5FdyRo2aHv2B29ItmJ77uBzGtA+z6LmYXb7fS1rstzgw937VthU9dmO1qAV0gfhh6H3QaYtXCEGjZISi4nyDwIPQzIeFK/loB/dTTH7fD036HVZypVe9E3foma9ZHw+7CboVAUABe6GHxc3CDzW4YsrlBFivT0gigwdIAFvqtaQpfGtd0X9ylI7h1t4mCOZ1P8/Glry28R1o3miHUNUsIz5PvGv38c7ymxASLcdKOCL5ORNF9gDvv6MAeoA9+AmuSaXSjU/GOiFDBYpNECo2bJNcSaN3Ixxo3YToPIR3sG5OBsNlzcEaAcmGY3RFjrPxOYbRqxhJlFk1RRVu6S/svXKdu6lhqbOiYLg0G+X7OXsVeBodPx7RmAHBUsiw+c9DwDLs1C1CRb1Fk1lBkgVYg7IA4ElHMoQ8eRAsC58XXA2C3grfAfKVO+sg6SHwelD04dyCn5yA+/w8jXJ2sv+Sr2J5hg0knZ9d2zo5a9yznrs6ds2T5DHzEWQyUnQMzOOlmGVdrDFg1sZUzSrdz7NlOq3ftYuvpLZgGZuG2G734JmjzTbAeGWOGuV6uwNrOywDegZEDduDCATs4egC1VHVf77ag1rivfgsgv8P2TG+3W8Y3WwfvvMABih70aT8AfQMda8dFYz5DfoyF63T8ZRb4X3KUjmEsi81PbHuC877dqvn7rdb3kNU3PmRxdmK62YEGLAfgzBIwebHcgLGgHEtF6Aem4+Ke/xOzl/6Ms9IQfUrufvcPmt0HPG3yXPdSt4Y0WT78+Mc/7naIykSudorKFIDOHb3vvvsc2Ie8l/U5E9Ut5B4BwI98AfHr6z774D5UgN5vtvdvmu14mMEJDn8d3NUC+iOU4VchSuXcL0f+b0S+vJ+Argmg1y8etMZzf8zo9xScgGTgbFVnulquew6gzBSusfWtltm9ydI7uy29naPqsJdyvZxGbIGQm64zdZe/IAzHKO7QpROWn2DhR8CTBQQdEXYH8Wq3KgNKik6jg46dvUU0V5JQosGm+noBkOEgXSjB4ch1qc9B8zLqldWC1OcyaJAk0sgsk/2MPR08AzVLdkiW4UKLiJIKgP4scs0ZiSLggmcB5hnec5bDf2f4JmjuoxvMEgODa2mVMt0U4qosA2+O989hKyOLNkA2iQaO4ujit9ZLDq0ipal+spFYIoMp3rQTV6DCKFAus/O1nGEmhIZDkZ3AGHerw106ki11DkFO2nkGvHMMdgB2TOEQHwZ0vDhDtScjEbXUZgaxbch0t1uja6c10FzQ2kisdzP1f4HB8KTFZ08gYqNjj75GB4cKoy2VT8Wwfd2tofTfCsBDwYdzc+eatuRer+BkabIJ8odGD9nBkYN2dvasezw8re3q3Gm3s2axP7XX9jUwZlXebkgO3CxAM4F4kuW/FKdI1V9g5vGcJWbhwNX/EDs2hu6FA32nxfa8y2I73ubtHq1Xwa/0HO3yFJi+AC68+nkvl98IoAvY7/4Bb2BvmWfI1tBnP/tZTCVfdBz5XXfdhdhvBQMrVh7tyF/53339K95mEu3TrcPdBlTuhf/Vt3wD3NUC+vdTJolcfioq20fw+WILuPGfIC6Ah8Vz3PzP4Z+ClnVr5dDtlc+ZffxHOb3mPl95NKLG9rfCMaSsdBLd8RMidMsvIL9jEKedWgr9UQfuOwB4QD7JsV4r4QwExuIE3bR9GTAOU/YwrZds1QG2AzofvpJMVZ2pM8X0Hc5RqkxhEHCcKiApv1UVatlKXXQhATA6oNPAgMw9jWglw2CRdqQDGTSjlV0VDpGA25/D9k0BbmNWogrkn1cqt34uSWcO5dY7qPzNOItMncjrmRtZJ9+ig/rMYTY4xwJfjvWNXJFDfDFhmy2MWXZWNIw4QkaAFzqpjzVQLWsk+pBJYkiMBaY6C0y1OlTpZtDCJnmZXZqKo37KF1/4AAbBeHyck4KG0Yy5wMzlAjwkwM3O1Xj1DDSxIH8jw2/1ANJoJsUGb7HYwG4PvuqgXWgxrXKAcg+f4zcE7KOAvPMjoBfgF1t+nxmPB/tFQC/A76NMa+HyxM2Ki5RMm3bp/Mhy6Cgzs0OTr9tB9KQPFs7aAQxljUSL1IK1WxnA7sTMwR0M5N1T56hfNkjRrmrURY2BqMqCfrVnKyJMrUFxWhMAL1/tdXFcu1uXS198n9rtj935Y/aOre9Y8G2uGKEt2YFPwrkD7joBi7I6cJWWzL6/tfbBkndyWjjiwA8D5Bde8kXp2c7z3w8nDohLqQLzAcs5bXqbOveSTZ47YF39+23otncvl/Wy6dcC0AcowQxEq7F/CP0Q9B5osftpEkS2Y8eOB3RayKqdGqaIafxSTjJQTTenZyZt4tSwTXHI7MSFMQ7kHWUBhek9ZlTnsmUr9wJknXCbebYKp8tcK7j7BN4CZT1DMlidNHM51wrGbiqPbFW+wE3T+gDU0kcN4ZAe/DxcqGSzl3MLNCdatSIisYTTfCA9iC9aZcol6iuILzQ4NPNSHxW4G/1+E4wXg3KI4zeBOqTxnmk46SsNjnUMO1XOcAjBKTZ5cbBBkztm7aAROGVZ90M9DmEZg8wEQwA21+VDPo6P+dEEm0XisXFETVxjVrKUa6AH3sgx/c4PWKwMWE6xAM17N10ATamSAkxNbaMQzqKNdC2dQChw8gt8wJ/ZQ9MJnLRwHjh6xFvOjLOA2gH0YsBuiQOmK3LUzUX61oF8hx3EuudB9igcZEY40TJLWclzNNBrpimmQn6KgT2E5SdhLkLc5Y3yhWunp0+72cNj2x6zf/rQP3W62yv53QV5hl/1wP7ixzGwf86LBO/6MCqQfx+lCAQKy6wPNJ+h73L0cS9GOfolxJHjfoCQ+EQcuEQpOhJx0XO0NjfDZrdppAlTwwe8Gm79dcRQ87O0ofKH7e4P/NvmT60mcLWA/gg/9qsQpXfulyP/NyJ/saeBnZpYtN94Ua61cujPc2jwH778h45rFvgGEgArXEYuuxKnRagcpm9zGN/JYYe8AxuwHciBOzuQqXJuYFdHtwM6x3EKzCJACyAc/JWA8UrKc7PkaQDKlfMFK58WgHuqXkRdDSZRLo6sOJ5Ddo/54Dgy1Lj8iGKIxkJYYjKFW/O5RTL/GP9XQAZXb1jWM+TbNgMRb8ifvIBPOuBel1ikcweE34GP+puxaOsWsJiZwHS6tQmnBidulviCsEtTutds0DqGy7M4Xc/S/5BO2N/j0y+5L+SN8um64x90v/5rgKsxsFVORXQaURpUJa6ZBUvTzm4oayUNVBgbrJ84n01KGHdnRgO3yCypIfvGtN/gO60mxbXuwXpGjIFZ4ZgW7tLMXtGAaS5IuoVJxNWVYSxmsr8Z+yspbJ4sAOMIuANIe0ufsdYvtepwGdHdH738R/a7L/6uY0A+sv8j9tP3/LRjKlb9MHHXEou88CdmL38WhhBGQAeL3/vDniT+klO9s97gFjQlTtEmJ30QGAPbA4BLHn4rfKrWhlx2xKlocs2yY3lq9CCHgh+ymbnDbGI8RfviN3ExZjfpWUxGVHdZR3YvB37fwQTsHuvYshNlO0Hl6t3VArpmwIeh90JnIN7SGOKwbjnv6CHMYb37XrxfghjGlndrBfQnXvuq/etn/43nFmmMAuEO+Uz1Ba4dNGCFm/EoHNLC9RRT1xoqUmWJaU4CPBLVAEBa+JHTIpAT0yCiSQ3laeyADxTD3roL4yNvuCJ3unwNLLwiEHBmSJkpyP6DNtM41ceF2W6omMpc40T7VvAunwVkZXsVJy0JrWGktnU5P72NhUC0Gtbq6hyiUEejQloVNRbmnGaFNCy0SBelu+toXghIr7kThkkjQ//FtYVw5DtOjnQ3GWu9rjD/lV9B92fBvdH11nuVT4vkstApvWvAH3mH8xXXbMely/Z/FF6XOuF33aAbFnTxm4u7+RatHL590NC5msXeEUzd/s53fsc+dfRT1p/tt5+9/2ftQ3s+RFVdfkZL7SztWPuxQ5/yi6knnyIPL6QNSxJnHYELnz7r79t837woBR35KutT3uTEqzY9cQh62Qqlo4j/aO+RS84NWGZmO0wipifyt1nX4J3WvZ0dqJuxwc9MZ73c1QK6yvG3oX8HaUj5fehfQr8GPQP9BSRu/XsgzevEnf8j6BVoWbdWQD/99CftyNg/ZwBEGwWVrxgLYFLij8NlS5NDBqmkyyxAlGGrBItpCYA+gepdEk4kiZ/IYYEvF4UZABKonjlLfGid1i8iIzyFWMLJ4tElnSgteAe6DFwQIMICUT3JNvos4JHDz4jYXo+tiAYinHoKNUquu3wckVdnV1kdcU8ds511NCPqjOM1Njp5knGfIr+zEISk+he0chJo38SghEQc+PPaOMpDPNjxCFo8C+L+ORIP6Tf0zzlxJICEtqg7+yxu2z8bIFy8h0sLOQiBpuO6xX2fnvEDICITOTXY1FZEMAG8AfIEpxM5YHM5lv4j0JHusQNk6SEHsI4AWuk6mER+Q4d2LnYCGKm8MVBoEI7Ll9pbl09zHUlAGUDVgaZu4kHNMHH9Vx6IEvEP64ssLlcb2PbGRrcL17D1Tbgqe9912fxWGNs/xEV1BmMe4urN7VWgu8TgXtEV8XVJfUpjSvZmmj4FiSF+UB7dG+eaf8aiPO5e/xz3XULcF5y/vJAA3/k8sxl3L+bj2kXjiHfHLLQLa+xtmm/m3aliJ10hTcypzEe7WYPimAeoYju/HlGNBcUaO0jrIhbKnRV7abk44mZ3GAoPxNgXonhEHqyGpPA5CAU9TU+6pnACX+E4A5EIab3vl+rHWXsde+e/f+xZe2Xqgu3t2mT/8/4P2j0D+1y/lTE69V9P5Hf9Wf4V2p82A77wMc+5S7xy63dZHXMDc1v3slt01G+Am2Tn8vQrzBLOU3Dv4hUW4QHuzPQ2zh67xe2h6N54l+W2b7TUlk7UTxf2G3eX1lBOfsMax5606SMHLHHHd1vHe386PHJV/noA+qp+cCWZ1wrox4/8P3bs1G/zE1GjVQOVo004oBJI0R2dKqBapg5qWK3DWBZ6FnQugBJfz0ba7jq5gJil/ZU/0XUgyhrKqX7Ek1yviYq+8oddw5y8YryG9cZqF4c8A84lljbLDH4VuGwo2SBdFu7i2HqR4SgNBkjZOF7Cg5XAUe8HyMgPgOpV3+CuI8BeeiMJ+RHHeL1kATTg7EDag7VP92mczUd9AvZsAtPGMH9QBACjTWKI36qylImJBxnHcuCLX8Pmh7N8KCAm7K5HYeUTULuPfoXqTshuC5YZE6iLxlj6ZXQXFvPKQkUq0E27+dagpGuP8i9DamVSbZVabPBXUo4rFPPGuswCfIz+FePwcWRChIk3wz4OJ+TaUAMRT13MEwxRg/0PsFr2bCFhn5nEVjkaVw+w/vV3eiocLrJcf2RYE7gvBvwA/lG68qgNTKPDXyi8xrfyTIrKl57ZDHhv8+AduwVx7H7r2LTbNPNMw8Asp0FXmxqxiRe+ZeOvHrbx06M2PsGRdNVtdoxDYA4MPWvvHNxh//Af/MKavs3lAH2xQsGafuBa3tS/8W0s8H2YTicOSjas4XIJ1xfHudaQ7Gw1DtBVY9OH1BbiGuqAbKXxT2Bw0MERtJCoo17hwUyF43VmA3VAsOkDkI0Qh4Nw6d6P18grAIVi7OIR8NUl/uEYvQYaBr6NCSHlVE7vy2skmRmkAYEwQ0gBmMwU2NnhZxHy1Sk0U6Bj1JgpNJgp1BzBZbLQWItjohVb0k3HT9WxqS2qpkctltd7C15UB5epV+ouUQXkqrwng4ELVxT2A4H2Q1qeZ/RBnHzDzhpXdsOSY0PESTgNNosFI2Nh05g3QUzn5rDoOtunA2Br8F6tE0cnS4bBTK4MaqUzQz6NsIC6wbepo+5YhSpFrGUWslZiN2NxOmVzU9AExwtOs6A+xewhEjEtVY44A1uKwSmFuK5JLs4RgkojnG5eozumYsiq+exUd4mPXKQdqhUWAfk5FrCLLG4WsFE/W9KMjjNTubcL6sz44wvluyMZnU84jTkFZk8aV90+CO5xPn3D72uQTxq/QSdq5qEC6FeI05w1SlmkHENiw8Y2zQw0o9BMgtmHa4th5uFGbq4zrPtZRpgxRPlI14ytOUNEFCQxWoPdkw2J07D6GMLsYEPn/3Y0oHax8EvZyaNZwH4Wt/8uG9r+NPtF+++NJ+3ATNa+t/CAfbB4B6co8axoAKgzGLj2rkHBtX3v14hXkuzpSLLWov7gBo0Sgwqbvaa2Wt/0+5ucd8fAbZbd1mfp/YgNAW+Jlha7IrPLiQsFGzt+3iaOvm7jZyZtbDzBJrZe3jNH9nv5liU7u/lZO7TpM3Yi/TrMYsIevPWnFj9qXeIBIdblYat5yFo59NX8hizl1R3oy944wE9Y02J/mIEfDCTqCIOCHyCiQQINlxpnFNZYaOXLILoJACBTpnBmsqgnEQ5+yl3TdQBMYQDhitO91bwIeZ1ogkN6xdHWZ7UZCJ9DfyWOkO/i7pqu+7hkqks6NozEkXdqMwvsCyqe2KXgIAKBd6MHscFWxEhDDAB9vH8nXCzW5FzHLnvzsgovZ2vcm3CVCIhnq/MyYxLHKQC+1KY3clYnIkL26vwgPvIiJdnjTqC+Ni9eUtiLj7yYqSXs0v11d5+m2+5+HXDRBcjkWQvLcMxq2uam65wxyaYmZgkFaC6EAWfFi5Cb6C2qvDj1lmOmkGPGkEe8k3dh4oSVVmZNZYLBZopzOqdm5yC0HbBYqBNyZrC3PcsAPQv4F/guc8j4C4xFRX5I0CzBHhuHnSRk0c9eEtVmsiz3CRqL1HFNaH0Zp3wd/IIOg+hGi6g7hp1RZL99DOIb8mymyY5zli7m7HQ8W5ZDjLMAXFYMwjLt5zK/td6XkmyM6+u42/oGH7P+IU766djjBgX9jjRhfuvp37LHTz1uW/Jb7Odu/8f27v53MRpqgIgGCRfWoBENHDBHbnBw8SiNsNbGtMbj1nsE3nzb4NSGZ7DeOH5+Fio4mjgzbmNnZzAix+AVORnB7k2dt95uDibf3GHj2+P2RP6QfXn4cac5t4PF+Xdu/x7r63rMbuvaYO/eipbSGtzlOPTLt4Q1/NhKb1kroNejxS5xPm23fA04IBVXE4F8rQX8WwcFcf+pTR1+Con8eyVyb/2qDuSoVALAt/gVmZZtMS/LICC7425UXL64l7mCRozTTIc7Yos80w58keJsaEGLwPuaVXE6LNN3pTVqHBTCST5VuOvSbB7tvhy66p3IfDu8j/ioVqLjJjMOnD1QA9IC6giglZbvhBvFANMMO2jHpkftwviUXZgo2HkOUr4wy4lOOhC8nLZhZiSyb385h6Y2u1EL1skaivwuANaH8QnnmSHlQesccht3RiqzwQxC5zSL5PJTiACJ8RPMGBDvlFk/KmNGYJYj0yarSZuGZnjvGcQRAvp6qoCSy4hl8uj4A9x5qJNwd27UevLjcO8zC4pboe7G5vptpMiuybk+aMBGi302gj9R6kVkxRoTd2iw8wo9vg9qaAnu0iGg5dqCiy3pS9yf57CN+3pftof7X7QdHKqcyfvFx7g2iBU2Wb52q3Um2bLfvddeQB3wP1/8mB3D8Nv9GPb6ubv+ie2TfB1tnbjMC0hrJ2IuxFEXJhnIodkpNshF4RJqs3UG2xIbzUr0Ffll0iqo1lZYu9E7BydzBuyFZc2Os2KZtcexAxVL8l1oS7pSrLDWxH4LrT3EnYgJxkWz/5b3PLovZ7/9c4+ER67Kv6kA/bXvcEj077GooEU4RtUkU0v5mr4mF/jh+vxUN1xvvS+p6W64z4VpBFLVartLakCDaZlFUNfYnU/DXxDnGvGyOkV03edHls00uQGnHwdkYohsYtjSmfcJI2a5JK2ZhwOWm/dEeZlexyPSvXF3f3iufxYLADyXnbNMw5dzcQEkW/3rgFUJC3+FUgaOOmvjxbyNlLo4W7Kfk5sGAM0OuCwOOEB8NFfFLAAc76bElA0xq9nEvoaNnIs51MFB0k70kbQuRCld2Jjv5JSbTg6K6M6zkJZh1oBGFnIWOj/T8VafhfvVbBqSmES7gOeKZ6w4B+HPFU87X2GlVdkt3OqwyI/QYyPihU2I8HSA8gYGvAEGuwEW/nptYhKT09gU0qHQM5h8YE6F2MeLfuQL0wTDgfRst1TQkqZrciGPgzFuvDS9NQ83RHnCffq90yySnkAMV6A7DjIIPdh72O7tP2w7Bw4zk2CDFK48PYSV3TtQM7/TDqLqeKz7FUuhirxz/E7bOnkbaz2XikncjS1/3ARHgB8xi+FSnME1CWhzRDQD6SwDahE7PQzbecSkHYhUOgaswCx9GrQfZtPQSOGUzVXO8SrMkFHKKKe3WoXd1mIsGgwWEqPqUPGdnVl75C2b7N3v2B5+alX+TQXoJ49P2IvPXGBrN31C6lpwoRWmTBVOJ686n91qka/0KumXk3EuVZMa1Zsgr0EDOaRGeU9+xPejP2kMLAnZvAjXFef+uOIMDO56xCWEPIFrCHHnIzvVQKKwGpg4AjUwL7IIYaWT5tJ9WB3Bpy3yo3Q9SBZFlUfsVfN50XPq1KE4EceZLABjpaHWGQG2AFrcymUd5c6gO56GMqitLQzDW5Kmgde/N3Xm6srXk6uTlniC+gj1o3qRBEcvEENE1mDPQR0d9Do7TmslRGOYZW2G3TXEaJicrZXmbHR6zi7MzNkwMucJRHAoprK5LG4lOlYD7Ypcag5OFa45NeuoA7+Lww/ypLuOvsQLy9gU0msGqQ6oE04Z2zQY4qpoDQSESzH4JNHUSMC9JRQWFwf3rWv8KuBG3PmqT8fz4jGb0jci7mXdhMTiQXxxfTj+6poPCw5d9gXlQwOqzolMrFcgKwNEMNnAQNRgHaBWYtAqYziC3cA1DInJr2PHp46oraawS/O7PH0aIpcqvKhTi5QtIz6A0FblULlCuYMfpckoVhoDWUkGsxQDWIrNSamsfGwNocOeJpzJ5XyYAycyGuigdC4fpSuet1kM633rv3/ajjxzwAoYdKttu8+mWYAfnyizmxg1cgbpAeo4XaVG0TpZys0l0TyKYXOGmUeZb1CkbAXa0gzffxp/kpkQSyFuR6S+hL5TEjBOI5pNs2ktyTfTQeQxGafr7bVST7cVOY1pjkG7wDbrufgMMv6vs8P5qygOyBgaay6Jt2Jp9GGrTm+x2AwngMGZb+vJ2m2DJdvVx6EaqVF2aw/b9o1vsXfe+YGlin3FtMsB+uXniFd89LXP8JWz4/Yrzxxt/nAGAOzIJK2bjSjdbFjp7oEryqTgjjCwRJrjkgDlHB8wj40GnRyk04TQR9DyHJbusI8CQNYYGMJA4HxNtaKBooZYQoNCDdlnmfQaRvIVVpqmaeGa932nUwMRVegEVTqywvQPmgtr6PghzsSM6TGcENwAZkaYtqvDA2bk1+K9DlXRR0rQMMRraMlJ6S5Mmq6l6F/Kr2s8okkEXTj47hr3+lzz15hQOtmtytSAK2rwAw3UyBr8eJ1OI6p1Qd2E+VdFewMIgPRe2u4tvQDS8VnDBeRihtIAjVphiF+sUs/ydYa9l/4K1iTdBRpAToUFcz6NsDimkFeqI1d0eju4X0dLZ5alygQLewFUXS4K0NBvqR3weyn+OqEG79INaHQ5QhQicQgdPksJM9R7mndMagEYsIhjNyZWZaNSlRbFNSeCwHc17PyVlH/pMl+3VIqM1qxrX2spg/vu7N/hqNorODVI1m0QQdEEfN2p6qj/WP0+RCqQnnABq5HUvb4eii7YC8racfrtDH2ngMxfIqUNvSds++AR28X5oePsKn6c4yOPYOkyzwJ35+S72PjzEM/CKiYqp531ac7GLdouJ/Yq8t1hYFjsHUclcqx/u41377axPBZa0/Dm6mRhdGfhuHPmkOVGv2L5CqZ8ua9exubNzPtsqLbBhrIzrEt80wY2cuzdjjHrzYgmGBjUu+bdybMfNlsjoM8/5dLQmw7Qz50/ZNVdcCC0mBjcpRaYCoRHWPk3NCAScBxxtSZxsRFIXPraC1PUBfNM3zsBsU4AzRNpABsqzjRqwJZ25xavaGwlGnsJrltyyiIDRZFBpUgHLwMKFUdqkaKbwPFebrhANrukU8dzNR18vblQUvEoLJ+OJ+dyObCev8uB+IpA2z3i0j88WiCcpayoOjvK44uyACp7KJ2+QRYuU7bE4WPxGSChJPdosBRd6i7l/KRHrdlDEg5N4r40lEG8ohlJmpkcbDjaUQxw/LbzNaARr9EemXG7cJWwqCKfaxXasfyy0ggrXaR4mfQSz1KbK1Nv0n6p0/YatDkVOYamCCinB+NTk/jqFwqDfyt23HFF57+nvqknfeYQXuzrYS7N5VnIaChdTp88BnMV9P+9T/m1Pka/KlG3xWxEjJUzMUwks3ajmU6uAztBvd3M4hCIwHDNlocQle1lpvRuDKM1rCdbsP6+Avbhn7Op8S9Zoe/zltly1DKDf4d9KPtYwO6mryZsHM2ZOqYxRunlxxHVhCqDmbdbOG7vvnzG9mTr1lU+ZgdOfNYOjH6Lk9BmaUNxuxOwf0dX1W7Nv8rbiIKjTWQ2YjZ6K7TfspnNzCJYMZmI2fSFso2emrK773k0ZF5X/00H6J09Cav2rcDWBp0hDrjHHKsAt6lGHzV8n+YbvTqABocp/KloMIjJRwVB+Rqk6yBY2VUPrbdBI3TAhO/S9CfgnVqrAEu+gnCFaX48C2WgHFPrLKN8hnRRlniasmo5JYMvYIqRT1bs6k4fGb6WeANxgeOHacyO4+f5FXpEDc6eSSWqh3DAyCVqqJCJi5EBJWdEibCkgC7e6hNmSQf+Ag7Tvw2+FwXIZ0nRxeUvILhUxcETRArqd4AhpFNyEpB8F2Y2lMBEblzbwul0smAXZ3duinAaXdw0nSHF1NyFeVgaylBvKb5RinpIUO8J2P04fgwkjDGDAuG8hoJmSVBV5ERB1E3oia7WF/7hsU4MlGbGls6hzYCfgjKEUxIRKV3qgyEc5Wnmj9IletPi2lqdxCU6zk1ndI5CI6jpyR+N/EkXrvlrlQrpHM8nedkSjjGF+oehoK6Wc+rcnQBjF9+kE+qgvXQozH15whqukAY7Dph9ybRHPwAmKKceq0GoSnm9T5/gPv2mjhCVn+K743lb+fhieGSMIJD47lk+TIHnzfCsGcLyp3kn+eqOy7ls9Hz9Jk3N/U4cHZ0E91aLWONHhDaFtc8MYo5cFzvD0Ybqogwqa5F6KyBqOo5mUbXGCU6d77We6ucRIX7ezp/695bteisL3w/TJjHah+2lNCeJ3cos/j2JEdseP29b6sdtsKLjEI/bAUzsfms2ZoewZ68+vxdV2++mfdzZOWj9nRw517PDcg64twDiyMv53Sk0YcZOn7aRUyccjZ76NgulWCPNIfJDd74ylLNHx7vsHnvPcq+/5vQ3HaB/eMdu2/qlL8Ahp+CMIdnVBihKUBHQUHyOqZML488BbHPIbecAljka8SwcdBEwEzetvpIQh0YjYO3FiV4ScDfasCb5vNu8prhABmBJERbgpAknozjq3z49XF8Q9/dFZ9Gu+SOt5EZeAxGJuDdya3AB6OXHeIl4RAkWCTX1S8YrLPCw0IN8Mc2ij5P1U39J6i6BL0q6XbaoDbJyH9PpSKziN+g07qQkp3/cUioNdovcpSk+Qw1wLqFpUJzwMvoiqn2KS4YvbQLmWY4WPY4X8fJ5ccJZ9IE7OX0ns5kw6pcZ1C8z+NlFvtIE4NotqvrhM0MeSMQ9u7iGSdIVF6ncikudcJaYv4cBBJCowSov9Qz3LJWbi2MBrCOg1sxRJNAeg1EQt72Uo3axE1m3bkCvh8F7D/QWFvm60JjohIvsKBetkzWBXHEW/ewC5mtZN0DuXeZ5s3y3Wb6Z/Bm+U0Fh+QyYs3w/+bJDP84ibCGdwRgduvX0neVcAtl6lt/KApy5YoGwiDUJ+tdcJgfXnLeifEcIROhXy7mMnhM9S34nzxpsxgtY3dTv6Pn6LeX1v5WA6RH33tk/YF0DG6ybsw26RAODLhxDnfGVbzxhrzz5VcdA3PXu99lbP/QD1s35B8FpAD1yccaeODJiXz/6d+2bJ+6xeu/nuMyOzenn7W/2bbN3d5+HWUCeo9EHJzHfqWKvfXIyYQc5D0DCGFqa3d9xn33o1u+x9+9/F+qdvVacmbGR0yfgtk/YWWj41Nft9LljWKocd6At4J7rxdrOjphN7S1h3Eytaf7j79ha8j+4zn9p5tfHrVVtcYRt56988zyLXnAOcNBNH0D1sm64isXXFsX5zlflGrCmbks5bJL34dzEvQEcorjCcJzy4y4Od0rYLQK6NLhWxRloklxPOC0bf12aOGXepQAAzLFYKW6jBBUBu7KI6WUlWgjWu7t3xXcbNKIZBcjipt6ahkv8lGSQ0QClAckNXFFYg5Nw/1o61R0LGtgTB2ThikU1ptVV4qIKVBZRP5pylzJwodTzHOTWIPh4TmSBX1FYPkBaEefm0rxYQ9cEzEvzt2/8G6cAYoFhbm7WgbALR8AlAPNAFgEYi7sSFfqZnWZ31BEkjhC0om2hncKpOXFmNnGA2PkAtAxoOU6d19GAIFhNcZ/GdKQyzndxwmH2pBmGzBFUBM6A/SzPnOWZswza8mfkwwjNaHDAd2HyT0Np6rST2WIXg04XNdsME+90gxFiS8rR464pjfbGbzv2Wu/SDFIGxfWeIU0pivskBis0bcbHbHrkIrLvEYxfDRMecQu57qboT5K6SXBmcGkWRObeoV232O2PvsuGdt/qgL+TASBFHrkyfeGF0xP25wefsi9d+F2YvuNWm9vGAfCPoa3UacfRUKl0HmR/xmvkjnF831vt7+/7XnswdatNnDljF06+bq+de8WOc4DFxdqY57g7qjbTQVnz9FM0rVrdBix+buvaZtvg5Ld3bfdh4goPZLEEGr1/6z0rCXPfs+R7cKm8UfUtdemNTVsroP/px5g2fRUw0GId03/ZfaiDSjor0BOjrMIAhzhWGHEXVstyYEIn8K0dQYPkBpo/Qi4s62eBEA24MMeC6bzROj1Hi4Ra7PfiFH4bwNBSntM8kM8/l0jV+ROMfFzp8HbuWtBgkN+aTksFcOEHsARXhROuYsPcTTf56OqodGsn4pDPTBfmewnfpfn8yXAf3JPE1zUqQuY7ahQeuAcM5cNVgiNlwNDJbymD83kxyW4Fig4sKSljQwSgWgbyIlvvK47cmN8Li55VwvBXpPGblFwLnBIFLXA8myuUjRkEYfnzxF3EJUfx4qd5X7IznbKUYqt/Bnlqmu39GXb0pjGbnCGcgtJcUzzd0BI07yzxE8CInokL1wgzL0Fc5UVUFcCqhrjKi61SlJfBlfskIssi9srh53hWjp2anWyQ6uY7dbFBrZvdyT3VWevB3HIPpgM6ifdzylQ3K8ISS5URuJfRIa/gl+Tze2VWGsv4zTR+t8wGKKXN54/SFl2r8IxyS5oXsakWXU1Sbn7V1b3qPKJQ/3wP1YVmKlSs+/YkuTS1Z9cWdS267tMUVwJX8eafrfqiLl2b0jfm2cR1s35DA5EbjBbEudBMX5zH3zd/3f8mcwvqHS0kFi87WZzuZmbZxbfuZLNfRwk1QgZGOB8213F83AS2hcYmLQbTk6ShB0qgk9+Z77H+3g3W17/RegaHHMffOTBgT1QO2X899cc2XWPRUhvP+L0+7O3fZTutl92eY9MXbRhrl+K2p/Pszs0h+nT1o3fR4Jl0G5p29u6aB2vAe1t+k23NDSLSok5kttkRHLlO1nLmv0nr3oYu5h7/oFX+vRygA09vLvfstjn7gx/c/cYXmk7sJv9Odht+jq/pPqi0HCrWQQfupHN3QHnU6TrZXdqBypNLJ6wOrrCnS+Mu3eXz96lLBCf59hRcwwS7HKcxhzrF7tQpdqBOoa88ozjhacyiziIH1PVZRCSKF/DVmQWSrqsLLOm+CQec6vqkCyjxXZrgQHl5X12bT+OMU67pUApphoT7wjMXp4Xntz53qbQkooQ0IOmBWCpiiH8ExgCmA2EXFjArj9I9OCsewrr/ejqqhJqaByVx1FHNugFMaxgVFl/1BQTsDJ8MQFoDoXZ0o5x7gIc+sjTrP87gKgIy0aKBdFEuAhKHr9ECczPN52jmCVHnR/f5H2w23wVZmpFm3pZHtaQxuvqfDGn4rjw8QKDuBhHeWWDvw1Ga4tF1XdNTfB61Fp9XDIEPzz+nwgClQY7h268HEXdrRDzD3c/vap1Jmlb1bnZIs0AJC8JAQ5h2I6MJzoSEyxFzp+9cHON3RvUdPP0g/vP5NH1tyvYi2toBuOcar7vZiBj7DgatHjZ09aD62Y1mTZ4yYJyDtggfyHeKjZ0yO37UgzYiMgfeYkau5N7+s2bv+xdXyrXq6286QP9lzsT6jcffy0jJB4H0z01R5UP6P++U5pNa+1Fo3KF3iTtRH3E++UPc59M192QHfP5XfHz+d5YPhd9dKseCoi7KAJ9oA9UpR4suvami/v1bvpH7bsyI1LEjkgx2nsMLtUKabnakMLopUBCr0Gu5xpfCFwn3vP3wKK50TSvodHpG3S0y8GzdQ9g9G9jUCfTILvgh/YZ+O8qjDBKYa2B3z6Dzust8e8+MEicc3eLCpMfQjIpjWyftfIUh9EqdT9j91Aq/YB0ZU5PQf61XAb/LpaECs/B6FHf38s6aoi3sICssyRWyqRL0X1NH9xP6QzBKV1p4/zi6/wnqQ/WUZLEqjt2hhOpFYfwEvguLuWUHbE2ESmiNb+9m3UIs8ki1Vvq7UrN1p6q7+xhK8UVJtNakV66BUYyFU1eVr4ay2EXy85BcZQ0CeSjP56xcNoA1EEPVEU/VMSdRJ71OfIZ4zYXlUz7NqiHvMwCRt6rBCDFBFV3+CpuL6prR8A2qfMMhTOveG35wHf03HaB3c4BBXBwa33MtjqajlkdjU+/z4YW+GqPSW3zlZbpLS1HLjMKKs1joPn7UAFxYC4haPFSDAITI40EjPI9nAR76DZXFAVn4LXENCjtgIYvHIq/B4QDG4ZEDmAYbZ9jBgDoUir4smDXgLhrIYtn9g68w0zulKR/yXH+dNMQqAjT3bOGVflO/p99SnSquNt/8bZUnukbDFMY180bAqPzS4w7pDjD1jOj57n3CM6Ln+zz+t+bz81tvlKNeY2jWxNnoEkMeHeNga0/IphV31HId2bLS4tyj+2K6D1mtz4s5AMLueS4f1+VLhKcBgI06LOgwDvjNOyASdUO9s38BlOIaCMJ3izF70zQ8xgwPtZ0oLENRfCc4zJg4PvlwnImIpP3khF7OZwetBF2BY79C3en7AqPkYiADaIBPfCnlhjhhpTtSmEGO/CFNd+t8VVmTdMQHj6GfT0HFl0dlUXlawyov5Vzhp9Vv1SO5ZiKx0DRBFU2T0jTiKPTLy1gvLE8zEyJemaGMtE3fr+YrocZ+lCrfbY5vo4XhGTYvzUi3HNPZs+xTKbLZqZjN4sMo0Lel7hlHBpnmO2XpP2n6TRZKoXGUYWE7zbdLsRCd4noasU+aowsVT0oEKN+FJfIhThvQmoO01pZyr98HoH9s/VUX33SAPj660QpPDvIBxYnRxBz4LAQGBxACDl1vARABjgNr59HCtOAEyXdhtTqFWTBy3EW4psYoJHOcGr/regYPw+i90nzcX28Nc0EF0K8t79zAwm+2+u6+6OUAAnWkq3N6AW3PcFs05h8ljop3bK0DJ6Bvvre/LjVN1yP1GAcevmPz8kQh15nVienYdPA42jQJOCQSuI2yL8HJMipHr6xnkaU17qqD+5S2xLXmvXou6xrL5VG5EY9THgGQzzf/8r5tIAmldkUZPpV8LS+KCIsrhDs07KU0MOrl4iFvdF3HddfJR/dl3QHzAfyAjGw5nwoAnlErVVx+FCd/kd8rW79LR7MaX6TrISwfAIviZYUBO8VdmLhgVE4KqOxVdQa4JG92YbSY5MtEgdLQS4n8EmIDH1daHt3upo/RrhB2D17BnzLgO8e7sLxrc7w/qwvOL/OOZTZc6bq40xobsKrOvg7Qz+7OOpxqPZp1OP7MqTcxfKAmKUBM0u4zlLM7w1oFRsM60SvPZylvDtHm9hILnfNstbpLBZs6ZYC9PAvIzxAW0GN0rTJbZDdn3PrI47oivpyfjbkm6hPW7a9mZAyRHcwGsCSazOBDcUhh+Ypnq2fX7RdbH/SmA/SnT/baXQ/+V5q+dwJQLfHorw/7uL7efHrrAqTCHoTl+zNDFY/y4Gs/WkmbGKCSTGxyR4bDNDI02AwNVZtT4mGaLiCmY0lm6H2VjAYrlHHp3nciIuLACgxr8GnU5GqlqL2ROu8WvKMrjSs5z+IfQKUS65/i2sHpFosJy69BdfKEdMXnSfdqwNBCqhNetYSVyj8KpDfw5OMqmc8/H1dex4nrou5zd5DUDPPeDK66Jk/v6d8rCitdac7XmyxO9/WkdDcuR3kV9s8K98/nc+naug6Y0JX4Pc0wIH7Dx8krLhiKOc7Zc8UxuOs4nHPc+cAn1xNcTxJPKJ2FOXHOcbZ+y2a3s3/OICY913kRDpwubaTBjI7lbL4BvuJNojxwhWoXdQ08UI4BNqfB04kuqCQ34OK7EcvHfRUqzIvj+JzRGEvN8cIwx/iEXTqMSR2JL7ZqpAU0yfUpGJM4FCMec77iGpijNABV8TQDQZqBAlhGtbXkhh9VvIC4BhBLdCDxjmvJ9Bm/9sLAqeeoTfIeDcov38nT5RPXRE4Dcus7auCto+nUyDOgMQKLWw73uX7D6/JUV1cNjLxQ9ZQJy4bJaetNTFs/u0J7savT1z9l/Rukmz4P9tqhPIE5hFEOEB+v9zga5YDxMeIavqgtVSNe9HzFXdgnp1Dr1aCYj6NW6QZAGVHTQIjPMJZzvgZIH9eAKJMPSzkNwChlQh32bGyH7V4q01WmrRTQP8Dv/A4kYeNHod+EWh3yBfv/oAcgnYT6Q9BxaN3di+eetucmh3kujUagTeOp0pmqcGEVOpT8KtxhFe2XCmpENedHaVyvRNdq+C6MHl9V9yk9+JLLXc7RHpNwG1pB19bv4CebcdKU7og8cCgJGlYCJfH5dN2HOiMcTALQcdfgwBLEdRiGh7TQ2HyDDkXi5x2I+bjy+Nyu4yvmbvPpPs/8X93rnHo/zmVtJpLgwvxpSVMnnY/7C9HtpM9ndPncU/XcKF2eOnmULhD3D5OvesZ3HYB3ELfPgzXM+Pu5Tn59Y+XztRLuufQ5zl49+fRPz3T5+f4N2oQ0lPTNpRFV4/tq42uVNJhFdLIh+S5P5JNPbUgbt4LvBkjS1svpO8san7PE1xJWXDtX9draJ+Hi/GzTJ42m6jC9CXRUsBPX6a0DOEVprvYjkAoAuZZ3cPWqL+G+kepfX0V17f3lrvvv15JnifzRk5rfWk8XU+DrhzrSP+qqWWfEdTiGT0MjDEiNNba4uNafpJWUZ+B1ZoOlGYO2TJedYGCqs0DdcBx7H/1tjvMJZiHNtLQvgzmFIz+QoSVFO1L96auL9Zmk7BwV7TSmmCcA35C0mNhFUMQ4ge4uMWcqMYCX6MslrmlG5Tb3UUp9VL3bzvpe+3789XYrAXSB+H+C3gedhp6G/gI6BAX3kwT0nnugH4b+NSRQX3c3kjlif/221+hkgDXT+9BYVvJDcQA2KQCFkgJX+axcZwjnFaZnJ0pK0zU217g8UhCEI4H18eR/twZINOMKa/Bgl1FF+VCxUtk8+Xz6kG13hRpoAX7X6slO/7mk6kJV6lprPkXDNYWXch4EnNInnV+7ZAkHYCAcZ3AVSGRYgMw5AFGaAJZ0rglQQljpStOALJzXfQJ9/dNgpZmRBicHCgrTNpQitdq6wkpzYcV1nXvo8yG/T/PXFK6S19nZcb+h/B72WgdV/86uZubrBjBf4HiHpV1Ixw/BlozqB+4no8HGhaM0iua/lfLrepTuZgEuLboedQM93g1kuobTs5Tmf1Z3qwb9O9a4SFW7WtU7112/J+7CyhOFVT8MyiFdg7f7HuSroS5a1zrYko71C+B43infcnnnc7WGtM7h1jMaRddGVH5fB/5d3Lu6etG7xmzDWHfr7esWXgmgv5VfOwq9Hv3qx/A/BLUCuuK/Csl9AvqPkN4p+nyE1sl1lQftP/yHAzxNj5fTHA6nr9p0hN0vhzQqtVkSBRbuR/TcYPPmdQs4zsiVTyOzHhsKEfxFaQvyLFeM8E4Lr7dyxwuvtMYuvbf57lGRQo4rpc/Xp39++P1wf/jVpdJDWvTlQtZr5IvP0vdvuzdrDWjuJdfsRZp9RC/j+1yAg/l8YfYSZQMu5u8Jacv5rW06tN2l8vproSTzCKW8i3/ty/e2PnWpp60tbSWAvpVHn2p5/GnCb2uJK9iaB2GiTUID0AjU6n6aiMiGsZGwFveWu+63g8d0YMLSbgGuX5KltRJV8fPx+c9wyU0+YT7rMhkWJi8GvIVXrxBbxW+FrKEhX+HJS1+OOLj5OvBPXVCXJIXfmE+P8oWntjxHV3wnChdDJ1Oc5k0Gl6d52T9LieF3wudx8ehy+GbNsqpjNq/5h7X+7qJLLkPrtwkdbXG+ZtyJiPxzQ1rwo1/zz3QF96Xy1xfm8nn5S2EvvTKfMh8Kd8ynzId0jVhL2ZQCfypvoSNPM1W3NK/Oh5TYkmtRjpZ8zSsKLCxN85tdJo+/tOg+tZllfsI9072jL50As5k1hN11HsEFfUsfJeL/u7QQXlhfyqCy4MvJaylaaEM+iedGbbvlDneb+xNd8+H55MXXWn8iecfORRnXJ7oSQF+fX/JP+T08kW3YsCGqSX9hpX8/+GP/k5mo7do10K6Bdg20a2BBDaxk1nuGO7a33LWNsNJaXWseDRI9kBZH265dA+0aaNdAuwauUQ2sBNC1CLoX2g2hlOsWPbUo2uoU//EoQYu3X4bWxIFHz2h77Rpo10C7Bto1sMoaWInIRTLxn4G+AEnj5fehg9CvQc9AAvP/Av03SIunEnBL06Xt2jXQroF2DbRr4BrWwEoAXcX5XEStRfuVloh0fn6gJd4OtmugXQPtGmjXwDWugZWIXK5xkdo/166Bdg20a6BdA2upgTagr6XW2ve0a6BdA+0auAFroA3oN+BHaRepXQPtGmjXwFpqoA3oa6m19j3tGmjXQLsGbsAa0Man6+W0VfTEGn98kPsW70Jd46NuyNtu5vdrv9sN2eRWVKj2t1tRNb3hmbTNdMMb/ivX8AekLnkzu5v5/drv9uZtue1vd4N/u7bI5Qb/QO3itWugXQPtGlhpDbQBfaU11c7XroF2DbRr4AavAe38fLO6Z9+sBV9huW/m92u/2wobwQ2Yrf3tbsCP0i5SuwbaNdCugXYNtGugXQPtGmjXQLsG2jXQroF2DbRroF0D7Rpo18D/EDUgm+t/DeloO1lz/F8huX7oi9CRyO/Dl7sd+gbEEez2C1Cr06HWr0Ky/vi/tV64TuH1erflnnOdXsv97HJlWst30wO1rvMc9FlFrrNbz3fr5V0+Ab0CvQw9Al1vt57v93O8jPrtAehPoCx0Pd1q3+1HKOyL0EvQU9C9UHA3Gp6Ect3Q/mZKd39Uwi78w9Ad0L+BAijL1wHUckPQQ9C/hFoBXYDwGnQLJPvtL0B6zvV06/Vuyz3nZni38A4/T+CPoRsB0Jer79W2Sb3bH0A/pQBO7VIAf73der2fjqA8BuWiF/pT/J+IwtfLW+27PUpBA7P4twh/Kyr4jYgn16tOr+p3P83d74NehfRx5OQr3up+lUgroD9C/AstGX6ZsOhGcmt9t8XvEJ6zOP16xkOZXqUQm6OCyFe81f0qkdbvpms6Detx6D3QjQDoFGOBW+u76QQvAd713Jm94EWWiaz1/QTopyDNymSSW9/u/dCN5Fb6bipzH6RT2OQegb7gQv7PL+OJbkh3o+qh76K23gJplNwInYPkzkOKX86FxhXynCagtBvF7aIga3231ndofU5r+vUMt5Zptd9N5f530C9CdUVuMLeL8qz1u+3mXpm6+H8hiZM+CnVAN5LbRWHW+n4Cv9+CTkLqq5PQX0E3ittFQVbzbj9J/r+MCn+j40lUTO/diIDeSdE+Cf0sNOWL2fzbICR6s7r1erfLPed61c3lyrSS7/ZBCn4RuhH1nK/23cS1Spz4nyEByywUxIgEr7u72vfr4w0+BGng2gJpsPpR6EZwq323d1NoAfov3QiFX20ZbjRAT/ECAvM/gv48epkL+JujsHx1+ss5cQtaEAlO03ilXW+3Hu+md1jqOTfDu72dl/ge6Dj0Meg90B9C19stVd+rbZOaJYqCXPYThAXwN4Jbj/f7G7zIMUizkAqkviuZ9PV2q323eyiwZk8anEajwp/BvxHxJCreQu9GAnTJF/8L9DL0f7cU8y8I/3gUl//plmtLBZ8mcS8kbkGLTz8M6RnX063Xuy33nJvh3SSX1OC7C9I300Hj15vLW66+V9smJSqUjHkfJPdeSNpc19ut1/ud5EUehvKQnqn3Uz++nm6177aDwmog+gh0uKXgNyKetBTvxg2+g6Jpav4i9HxEfxt/AHocOgJ9CeqH5DZB4nqmoIko3I0vp/v0UV6D/hl0vd16vdtyz7me77dcmdby3cJ7fBeBG2FRdD3f7T7e6RlI7ftTkMQU19ut5/v9C17mFegA9N+gDHQ93Wrf7aMUdhwK2KNvFdyNhiehXG2/XQPtGmjXQLsG2jXQroF2DbRroF0D7Rpo10C7Bto10K6Bdg20a6BdA+0aaNdAuwbaNdCugXYNtGtuNEQbAAAAPElEQVSgXQPtGmjXQLsG2jXQroF2DbRroF0D7Rpo10C7Bto10K6Bdg20a6BdA+0aaNdAuwbaNXBVNfD/A/UKbYjXM6oPAAAAAElFTkSuQmCC)\n",
        "\n",
        "While cleaning my data, I reduced it down to four central features. These were:\n",
        "\n",
        "\n",
        "1.   Park ID\n",
        "2.   Year\n",
        "3.   Minimum Covid-19 order code by state\n",
        "4.   Most Common Covid-19 order code by state\n",
        "\n",
        "After performing my data analysis, I tried three different machine learning models and was able to evaluate them with several different metrics. \n",
        "\n",
        "First, I tried a linear regression model. From my EDA, I did not expect my data to be particularly linear, but thought it would be a good place to start given this was a supervised regression task. \n",
        "\n",
        "After that, I revised my approach to a random forest model. I thought that this model might account for more non-linearity in the data, but the performance did not seem to improve much.\n",
        "\n",
        "Finally, I tried a K-nearest-neighbors model. Even though KNN is typically used for clustering tasks, I thought that it might lend an advantage given the wide range of visitors between popular and unknown parks. However, this model also did not improve the results greatly. \n",
        "\n",
        "The scores for each are listed below. \n",
        "\n",
        "\n",
        "Model | Metric | Score (rounded)\n",
        "--- | --- | ---\n",
        "Linear Regression | MSE | 2.67e12\n",
        "Linear Regression | R2| 0.00106\n",
        "Linear Regression | MAE| 922053.77\n",
        "Random Forest | MSE| 6.32e11\n",
        "Random Forest | R2| 0.976\n",
        "Random Forest | MAE| 105172.92\n",
        "K-nearest-neighbors | score | 0.00297\n",
        "\n",
        "\n",
        "It is clear that none of these models are accurate so far as being able to predict the recreational visitors. I can therefore conclude that these are not strong predictor variables, and it is **not** possible to predict visitation knowing just park, date, and status. \n",
        "\n",
        "I believe there are several possible reasons that these models might not be accurate. First, is that the features that I have chosen might not be robust enough. Using Principal Component Analysis or Factor Analysis could find latent factors that would improve their accuracy. Another reason is that there is a correlation exists, but I was not able to model it correctly. In this case, exploring other models could lead to more accurate results. Finally, expanding my scope to include data that spans more than just 2 years (as the CDC data does) would improve my chances at finding a strong correlation with National Park Visitor data. Models such as random forest perform more accurately when there is more relevant data, so having the opportunity to try more combonations of features is also a possible way to improve accuracy. \n",
        "\n",
        "Overall, my project findings imply that there is a complex relationship between visitors at national parks and the Covid-19 lockdown levels in those associated areas.While my EDA showed an undeiable impact of Covid-19 on Park Visitors, truly understanding this relationship truly will one of two options. First, using PCA, I can find any latent factors present in my data. Second, this problem might require more data: either longer Covid-19 data, which might be possible in the coming years, or more nuanced Park location data. "
      ],
      "metadata": {
        "id": "dOi-xdgzAmaD"
      }
    }
  ],
  "metadata": {
    "colab": {
      "provenance": [],
      "toc_visible": true
    },
    "kernelspec": {
      "display_name": "Python 3",
      "name": "python3"
    },
    "language_info": {
      "name": "python"
    }
  },
  "nbformat": 4,
  "nbformat_minor": 0
}